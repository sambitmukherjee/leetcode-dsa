{
  "cells": [
    {
      "cell_type": "markdown",
      "source": [
        "# Arrays and strings"
      ],
      "metadata": {
        "id": "5fFRUGLwtjVT"
      },
      "id": "5fFRUGLwtjVT"
    },
    {
      "cell_type": "code",
      "source": [
        "arr = []\n",
        "arr"
      ],
      "metadata": {
        "colab": {
          "base_uri": "https://localhost:8080/"
        },
        "id": "AoQpAJ_AJWn5",
        "outputId": "e8817966-704d-4077-a745-74410fc7427f"
      },
      "id": "AoQpAJ_AJWn5",
      "execution_count": 1,
      "outputs": [
        {
          "output_type": "execute_result",
          "data": {
            "text/plain": [
              "[]"
            ]
          },
          "metadata": {},
          "execution_count": 1
        }
      ]
    },
    {
      "cell_type": "markdown",
      "source": [
        "This costs $O(1)$."
      ],
      "metadata": {
        "id": "IiNJN8bZJcr4"
      },
      "id": "IiNJN8bZJcr4"
    },
    {
      "cell_type": "code",
      "source": [
        "arr = [\"a\", \"b\", \"c\"]\n",
        "arr"
      ],
      "metadata": {
        "colab": {
          "base_uri": "https://localhost:8080/"
        },
        "id": "OrfXcd39KIVS",
        "outputId": "c90dffd2-e554-49ba-d6c4-815318547c92"
      },
      "id": "OrfXcd39KIVS",
      "execution_count": 2,
      "outputs": [
        {
          "output_type": "execute_result",
          "data": {
            "text/plain": [
              "['a', 'b', 'c']"
            ]
          },
          "metadata": {},
          "execution_count": 2
        }
      ]
    },
    {
      "cell_type": "markdown",
      "source": [
        "This costs $O(n)$. This may look like a single operation. But under the hood, $n$ operations are being performed."
      ],
      "metadata": {
        "id": "qnOF3L2YFGJa"
      },
      "id": "qnOF3L2YFGJa"
    },
    {
      "cell_type": "code",
      "source": [
        "s = \"abc\"\n",
        "s"
      ],
      "metadata": {
        "colab": {
          "base_uri": "https://localhost:8080/",
          "height": 35
        },
        "id": "aBoSUy6uKQGl",
        "outputId": "be64b5ce-7ea4-4da4-ff76-e5046d2cd6f5"
      },
      "id": "aBoSUy6uKQGl",
      "execution_count": 3,
      "outputs": [
        {
          "output_type": "execute_result",
          "data": {
            "text/plain": [
              "'abc'"
            ],
            "application/vnd.google.colaboratory.intrinsic+json": {
              "type": "string"
            }
          },
          "metadata": {},
          "execution_count": 3
        }
      ]
    },
    {
      "cell_type": "markdown",
      "source": [
        "This costs $O(n)$. This may look like a single operation. But under the hood, $n$ operations are being performed."
      ],
      "metadata": {
        "id": "MktuZfE6FKDB"
      },
      "id": "MktuZfE6FKDB"
    },
    {
      "cell_type": "code",
      "source": [
        "arr[2] = \"d\"\n",
        "arr"
      ],
      "metadata": {
        "colab": {
          "base_uri": "https://localhost:8080/"
        },
        "id": "xmOW_tYeKS51",
        "outputId": "3b4b76c5-5bca-4f0e-fbda-68b56927b7c7"
      },
      "id": "xmOW_tYeKS51",
      "execution_count": 4,
      "outputs": [
        {
          "output_type": "execute_result",
          "data": {
            "text/plain": [
              "['a', 'b', 'd']"
            ]
          },
          "metadata": {},
          "execution_count": 4
        }
      ]
    },
    {
      "cell_type": "markdown",
      "source": [
        "This costs $O(1)$."
      ],
      "metadata": {
        "id": "FJa9ZOehE7M3"
      },
      "id": "FJa9ZOehE7M3"
    },
    {
      "cell_type": "code",
      "source": [
        "try:\n",
        "    s[2] = \"d\"\n",
        "except TypeError as e:\n",
        "    print(e)"
      ],
      "metadata": {
        "colab": {
          "base_uri": "https://localhost:8080/"
        },
        "id": "4z4O98vYKVrs",
        "outputId": "07cee729-e0d0-4439-8c07-71ac148c3931"
      },
      "id": "4z4O98vYKVrs",
      "execution_count": 5,
      "outputs": [
        {
          "output_type": "stream",
          "name": "stdout",
          "text": [
            "'str' object does not support item assignment\n"
          ]
        }
      ]
    },
    {
      "cell_type": "code",
      "source": [
        "s = \"abd\"\n",
        "s"
      ],
      "metadata": {
        "colab": {
          "base_uri": "https://localhost:8080/",
          "height": 35
        },
        "id": "0KkuzHsVKbQf",
        "outputId": "3eaeaae4-1966-463e-baad-1723d3db0dc1"
      },
      "id": "0KkuzHsVKbQf",
      "execution_count": 6,
      "outputs": [
        {
          "output_type": "execute_result",
          "data": {
            "text/plain": [
              "'abd'"
            ],
            "application/vnd.google.colaboratory.intrinsic+json": {
              "type": "string"
            }
          },
          "metadata": {},
          "execution_count": 6
        }
      ]
    },
    {
      "cell_type": "markdown",
      "source": [
        "This costs $O(n)$."
      ],
      "metadata": {
        "id": "mxDglV6OFAW1"
      },
      "id": "mxDglV6OFAW1"
    },
    {
      "cell_type": "markdown",
      "source": [
        "Operations and their time complexities:\n",
        "\n",
        "**Appending to end:**\n",
        "\n",
        "- List: $O(1)$\n",
        "- String: $O(n)$\n",
        "\n",
        "**Popping from end:**\n",
        "\n",
        "- List: $O(1)$\n",
        "- String: $O(n)$\n",
        "\n",
        "**Insertion, not from end:**\n",
        "\n",
        "- List: $O(n)$\n",
        "- String: $O(n)$\n",
        "\n",
        "**Deletion, not from end:**\n",
        "\n",
        "- List: $O(n)$\n",
        "- String: $O(n)$\n",
        "\n",
        "**Modifying an element:**\n",
        "\n",
        "- List: $O(1)$\n",
        "- String: $O(n)$\n",
        "\n",
        "**Random access:**\n",
        "\n",
        "- List: $O(1)$\n",
        "- String: $O(1)$\n",
        "\n",
        "**Checking if element exists:**\n",
        "\n",
        "- List: $O(n)$\n",
        "- String: $O(n)$"
      ],
      "metadata": {
        "id": "HjkM3LOmLeoj"
      },
      "id": "HjkM3LOmLeoj"
    },
    {
      "cell_type": "markdown",
      "source": [
        "## Two pointers"
      ],
      "metadata": {
        "id": "Z4KjFwGHwKfu"
      },
      "id": "Z4KjFwGHwKfu"
    },
    {
      "cell_type": "markdown",
      "source": [
        "### Example 1"
      ],
      "metadata": {
        "id": "G1oBb4TU4mTF"
      },
      "id": "G1oBb4TU4mTF"
    },
    {
      "cell_type": "code",
      "source": [
        "def check_if_palindrome(s):\n",
        "    left = 0\n",
        "    right = len(s) - 1\n",
        "    while left < right:\n",
        "        if s[left] != s[right]:\n",
        "            return False\n",
        "        left += 1\n",
        "        right -= 1\n",
        "    return True"
      ],
      "metadata": {
        "id": "22pRvDTWl8Vj"
      },
      "id": "22pRvDTWl8Vj",
      "execution_count": 7,
      "outputs": []
    },
    {
      "cell_type": "markdown",
      "source": [
        "This algorithm has a time complexity of $O(n)$ and a space complexity of $O(1)$."
      ],
      "metadata": {
        "id": "DZ-HR0UR1F0z"
      },
      "id": "DZ-HR0UR1F0z"
    },
    {
      "cell_type": "code",
      "source": [
        "check_if_palindrome(\"racecar\")"
      ],
      "metadata": {
        "colab": {
          "base_uri": "https://localhost:8080/"
        },
        "id": "e5WTTU6OmYS9",
        "outputId": "2970c945-a23e-4995-9b37-9fb4ca7e2c0e"
      },
      "id": "e5WTTU6OmYS9",
      "execution_count": 8,
      "outputs": [
        {
          "output_type": "execute_result",
          "data": {
            "text/plain": [
              "True"
            ]
          },
          "metadata": {},
          "execution_count": 8
        }
      ]
    },
    {
      "cell_type": "code",
      "source": [
        "check_if_palindrome(\"carcar\")"
      ],
      "metadata": {
        "colab": {
          "base_uri": "https://localhost:8080/"
        },
        "id": "tXAsY3Ktmb6E",
        "outputId": "5501b530-44a8-4f88-b3f6-0b843c05b2fb"
      },
      "id": "tXAsY3Ktmb6E",
      "execution_count": 9,
      "outputs": [
        {
          "output_type": "execute_result",
          "data": {
            "text/plain": [
              "False"
            ]
          },
          "metadata": {},
          "execution_count": 9
        }
      ]
    },
    {
      "cell_type": "markdown",
      "source": [
        "### Example 2"
      ],
      "metadata": {
        "id": "w9c-7Ijm4qjX"
      },
      "id": "w9c-7Ijm4qjX"
    },
    {
      "cell_type": "code",
      "source": [
        "nums = [1, 2, 4, 6, 8, 9, 14, 15]\n",
        "target = 13"
      ],
      "metadata": {
        "id": "bbyCzHQam4xb"
      },
      "id": "bbyCzHQam4xb",
      "execution_count": 10,
      "outputs": []
    },
    {
      "cell_type": "code",
      "source": [
        "def check_for_target(nums, target):\n",
        "    left = 0\n",
        "    right = len(nums) - 1\n",
        "    while left < right:\n",
        "        curr = nums[left] + nums[right]\n",
        "        if curr == target:\n",
        "            return True\n",
        "        elif curr > target:\n",
        "            right -= 1\n",
        "        else:\n",
        "            left += 1\n",
        "    return False"
      ],
      "metadata": {
        "id": "c01c_1ZOnabN"
      },
      "id": "c01c_1ZOnabN",
      "execution_count": 11,
      "outputs": []
    },
    {
      "cell_type": "markdown",
      "source": [
        "This algorithm has a time complexity of $O(n)$ and a space complexity of $O(1)$."
      ],
      "metadata": {
        "id": "eMAEYebo3-Cj"
      },
      "id": "eMAEYebo3-Cj"
    },
    {
      "cell_type": "code",
      "source": [
        "check_for_target(nums, target)"
      ],
      "metadata": {
        "colab": {
          "base_uri": "https://localhost:8080/"
        },
        "id": "BsYEX3KXpZML",
        "outputId": "40cb7523-69c8-4799-f7e2-70cab2f8488c"
      },
      "id": "BsYEX3KXpZML",
      "execution_count": 12,
      "outputs": [
        {
          "output_type": "execute_result",
          "data": {
            "text/plain": [
              "True"
            ]
          },
          "metadata": {},
          "execution_count": 12
        }
      ]
    },
    {
      "cell_type": "code",
      "source": [
        "check_for_target([1, 2, 4, 6, 8, 14, 15], target)"
      ],
      "metadata": {
        "colab": {
          "base_uri": "https://localhost:8080/"
        },
        "id": "ptVNReurpgWj",
        "outputId": "d5335c5f-cb89-4946-8533-adf69fd43ae7"
      },
      "id": "ptVNReurpgWj",
      "execution_count": 13,
      "outputs": [
        {
          "output_type": "execute_result",
          "data": {
            "text/plain": [
              "False"
            ]
          },
          "metadata": {},
          "execution_count": 13
        }
      ]
    },
    {
      "cell_type": "markdown",
      "source": [
        "### Another way to use two pointers"
      ],
      "metadata": {
        "id": "5bpLK_Oz4HW-"
      },
      "id": "5bpLK_Oz4HW-"
    },
    {
      "cell_type": "markdown",
      "source": [
        "### Example 3"
      ],
      "metadata": {
        "id": "sOeYgmtbBNyN"
      },
      "id": "sOeYgmtbBNyN"
    },
    {
      "cell_type": "code",
      "source": [
        "def combine(arr1, arr2):\n",
        "    ans = []\n",
        "    i = j = 0\n",
        "    while i < len(arr1) and j < len(arr2):\n",
        "        if arr1[i] < arr2[j]:\n",
        "            ans.append(arr1[i])\n",
        "            i += 1\n",
        "        else:\n",
        "            ans.append(arr2[j])\n",
        "            j += 1\n",
        "\n",
        "    while i < len(arr1):\n",
        "        ans.append(arr1[i])\n",
        "        i += 1\n",
        "\n",
        "    while j < len(arr2):\n",
        "        ans.append(arr2[j])\n",
        "        j += 1\n",
        "\n",
        "    return ans"
      ],
      "metadata": {
        "id": "-5hv8_6JMtXI"
      },
      "id": "-5hv8_6JMtXI",
      "execution_count": 14,
      "outputs": []
    },
    {
      "cell_type": "markdown",
      "source": [
        "This algorithm has a time complexity of $O(n + m)$, and a space complexity of $O(1)$ (if we don't count the output as extra space, which we usually don't)."
      ],
      "metadata": {
        "id": "4oVQjcGOCtvB"
      },
      "id": "4oVQjcGOCtvB"
    },
    {
      "cell_type": "code",
      "source": [
        "combine([1, 4, 7, 20], [3, 5, 6])"
      ],
      "metadata": {
        "colab": {
          "base_uri": "https://localhost:8080/"
        },
        "id": "Gi06w9-WQSrw",
        "outputId": "3c750dda-fbdc-474f-e834-393c97413818"
      },
      "id": "Gi06w9-WQSrw",
      "execution_count": 15,
      "outputs": [
        {
          "output_type": "execute_result",
          "data": {
            "text/plain": [
              "[1, 3, 4, 5, 6, 7, 20]"
            ]
          },
          "metadata": {},
          "execution_count": 15
        }
      ]
    },
    {
      "cell_type": "markdown",
      "source": [
        "### Example 4"
      ],
      "metadata": {
        "id": "7KTPfM4yDYT-"
      },
      "id": "7KTPfM4yDYT-"
    },
    {
      "cell_type": "code",
      "source": [
        "def is_subsequence(s, t):\n",
        "    i = j = 0\n",
        "    while i < len(s) and j < len(t):\n",
        "        if s[i] == t[j]:\n",
        "            i += 1\n",
        "        j += 1\n",
        "    return i == len(s)"
      ],
      "metadata": {
        "id": "vCvUjBboQeGm"
      },
      "id": "vCvUjBboQeGm",
      "execution_count": 16,
      "outputs": []
    },
    {
      "cell_type": "markdown",
      "source": [
        "In other words, if we go through all the characters in `t` but not all the characters in `s`, then `s` is not a subsequence of `t`.\n",
        "\n",
        "This algorithm has a time complexity of $O(m)$ and a space complexity of $O(1)$."
      ],
      "metadata": {
        "id": "FXtTziaBF4JE"
      },
      "id": "FXtTziaBF4JE"
    },
    {
      "cell_type": "code",
      "source": [
        "is_subsequence(\"ace\", \"abcde\")"
      ],
      "metadata": {
        "colab": {
          "base_uri": "https://localhost:8080/"
        },
        "id": "f0V204y1SczA",
        "outputId": "bad379a4-76a8-46de-9f33-f2fbfaa56746"
      },
      "id": "f0V204y1SczA",
      "execution_count": 17,
      "outputs": [
        {
          "output_type": "execute_result",
          "data": {
            "text/plain": [
              "True"
            ]
          },
          "metadata": {},
          "execution_count": 17
        }
      ]
    },
    {
      "cell_type": "code",
      "source": [
        "is_subsequence(\"ace\", \"abcdf\")"
      ],
      "metadata": {
        "colab": {
          "base_uri": "https://localhost:8080/"
        },
        "id": "XAIK_l80SgwD",
        "outputId": "54e60835-da65-4b58-dacb-30e2348f59e6"
      },
      "id": "XAIK_l80SgwD",
      "execution_count": 18,
      "outputs": [
        {
          "output_type": "execute_result",
          "data": {
            "text/plain": [
              "False"
            ]
          },
          "metadata": {},
          "execution_count": 18
        }
      ]
    },
    {
      "cell_type": "markdown",
      "source": [
        "### Reverse String"
      ],
      "metadata": {
        "id": "fJ1EZmUxn7RG"
      },
      "id": "fJ1EZmUxn7RG"
    },
    {
      "cell_type": "code",
      "source": [
        "def reverse_string(s):\n",
        "    i = 0\n",
        "    j = len(s) - 1\n",
        "    while i < j:\n",
        "        temp = s[i]\n",
        "        s[i] = s[j]\n",
        "        s[j] = temp\n",
        "        i += 1\n",
        "        j -= 1"
      ],
      "metadata": {
        "id": "VHFlmIvsSlwa"
      },
      "id": "VHFlmIvsSlwa",
      "execution_count": 19,
      "outputs": []
    },
    {
      "cell_type": "markdown",
      "source": [
        "This algorithm has a time complexity of $O(n)$ and a space complexity of $O(1)$."
      ],
      "metadata": {
        "id": "fjp3U8C1i2xQ"
      },
      "id": "fjp3U8C1i2xQ"
    },
    {
      "cell_type": "code",
      "source": [
        "s = [\"h\", \"e\", \"l\", \"l\", \"o\"]\n",
        "reverse_string(s)"
      ],
      "metadata": {
        "id": "wUqNe9NTsagz"
      },
      "id": "wUqNe9NTsagz",
      "execution_count": 20,
      "outputs": []
    },
    {
      "cell_type": "markdown",
      "source": [
        "**Note:** In Python, immutable objects are passed by value, whereas mutable objects are passed by reference."
      ],
      "metadata": {
        "id": "xxC9Z4yNdZxs"
      },
      "id": "xxC9Z4yNdZxs"
    },
    {
      "cell_type": "code",
      "source": [
        "s"
      ],
      "metadata": {
        "colab": {
          "base_uri": "https://localhost:8080/"
        },
        "id": "em65X_TCcLa6",
        "outputId": "4c6dce5f-2fbd-4a66-b435-86358c28fc2c"
      },
      "id": "em65X_TCcLa6",
      "execution_count": 21,
      "outputs": [
        {
          "output_type": "execute_result",
          "data": {
            "text/plain": [
              "['o', 'l', 'l', 'e', 'h']"
            ]
          },
          "metadata": {},
          "execution_count": 21
        }
      ]
    },
    {
      "cell_type": "code",
      "source": [
        "s = [\"H\", \"a\", \"n\", \"n\", \"a\", \"h\"]\n",
        "reverse_string(s)"
      ],
      "metadata": {
        "id": "qiCZt1-xcQu3"
      },
      "id": "qiCZt1-xcQu3",
      "execution_count": 22,
      "outputs": []
    },
    {
      "cell_type": "code",
      "source": [
        "s"
      ],
      "metadata": {
        "colab": {
          "base_uri": "https://localhost:8080/"
        },
        "id": "-jmgwfqEdXfG",
        "outputId": "82d54095-19be-44da-81cd-27f55ba60a0e"
      },
      "id": "-jmgwfqEdXfG",
      "execution_count": 23,
      "outputs": [
        {
          "output_type": "execute_result",
          "data": {
            "text/plain": [
              "['h', 'a', 'n', 'n', 'a', 'H']"
            ]
          },
          "metadata": {},
          "execution_count": 23
        }
      ]
    },
    {
      "cell_type": "markdown",
      "source": [
        "### Squares of a Sorted Array"
      ],
      "metadata": {
        "id": "416hb9WHeb6J"
      },
      "id": "416hb9WHeb6J"
    },
    {
      "cell_type": "code",
      "source": [
        "import math\n",
        "\n",
        "def sorted_squares(nums):\n",
        "    if len(nums) == 1: # Test case: [-1]\n",
        "        return [nums[0]**2]\n",
        "    else:\n",
        "        ans = []\n",
        "        min_position = 0\n",
        "        min_value = math.inf\n",
        "        for i in range(len(nums)):\n",
        "            if nums[i]**2 < min_value:\n",
        "                min_value = nums[i]**2\n",
        "                min_position = i\n",
        "        if min_position == len(nums) - 1: # Test case: [-4, -1, 0]\n",
        "            i = len(nums) - 1\n",
        "            while i >= 0:\n",
        "                ans.append(nums[i]**2)\n",
        "                i -= 1\n",
        "        elif min_position == 0: # Test case: [0, 3, 10]\n",
        "            i = 0\n",
        "            while i <= len(nums) - 1:\n",
        "                ans.append(nums[i]**2)\n",
        "                i += 1\n",
        "        else: # Test case: [-4, -1, 0, 3, 10]\n",
        "            ans.append(nums[min_position]**2)\n",
        "            i = min_position - 1\n",
        "            j = min_position + 1\n",
        "            while i >= 0 and j <= len(nums) - 1:\n",
        "                if nums[i]**2 < nums[j]**2:\n",
        "                    ans.append(nums[i]**2)\n",
        "                    i -= 1\n",
        "                else:\n",
        "                    ans.append(nums[j]**2)\n",
        "                    j += 1\n",
        "            while i >= 0:\n",
        "                ans.append(nums[i]**2)\n",
        "                i -= 1\n",
        "            while j <= len(nums) - 1:\n",
        "                ans.append(nums[j]**2)\n",
        "                j += 1\n",
        "        return ans"
      ],
      "metadata": {
        "id": "WJb2pfZMbo9_"
      },
      "id": "WJb2pfZMbo9_",
      "execution_count": 24,
      "outputs": []
    },
    {
      "cell_type": "markdown",
      "source": [
        "This algorithm has a time complexity of $O(n)$ and a space complexity of $O(1)$, excluding the output."
      ],
      "metadata": {
        "id": "2IMWdOlvsFwW"
      },
      "id": "2IMWdOlvsFwW"
    },
    {
      "cell_type": "code",
      "source": [
        "sorted_squares([-1])"
      ],
      "metadata": {
        "colab": {
          "base_uri": "https://localhost:8080/"
        },
        "id": "o0NpkmXPoAwH",
        "outputId": "5432ffab-57bd-4555-fed2-8c9094e7c10c"
      },
      "id": "o0NpkmXPoAwH",
      "execution_count": 25,
      "outputs": [
        {
          "output_type": "execute_result",
          "data": {
            "text/plain": [
              "[1]"
            ]
          },
          "metadata": {},
          "execution_count": 25
        }
      ]
    },
    {
      "cell_type": "code",
      "source": [
        "sorted_squares([-4, -1, 0])"
      ],
      "metadata": {
        "colab": {
          "base_uri": "https://localhost:8080/"
        },
        "id": "DercwF6kpIxN",
        "outputId": "225f855d-9511-4392-a50b-51803a7668f9"
      },
      "id": "DercwF6kpIxN",
      "execution_count": 26,
      "outputs": [
        {
          "output_type": "execute_result",
          "data": {
            "text/plain": [
              "[0, 1, 16]"
            ]
          },
          "metadata": {},
          "execution_count": 26
        }
      ]
    },
    {
      "cell_type": "code",
      "source": [
        "sorted_squares([0, 3, 10])"
      ],
      "metadata": {
        "colab": {
          "base_uri": "https://localhost:8080/"
        },
        "id": "H26volM7pNH8",
        "outputId": "63227cca-85f7-423c-e9cd-f31432e6fd30"
      },
      "id": "H26volM7pNH8",
      "execution_count": 27,
      "outputs": [
        {
          "output_type": "execute_result",
          "data": {
            "text/plain": [
              "[0, 9, 100]"
            ]
          },
          "metadata": {},
          "execution_count": 27
        }
      ]
    },
    {
      "cell_type": "code",
      "source": [
        "sorted_squares([-4, -1, 0, 3, 10])"
      ],
      "metadata": {
        "colab": {
          "base_uri": "https://localhost:8080/"
        },
        "id": "N5309Ld8rM4c",
        "outputId": "e09e1fa9-bbf5-4b04-dc5c-82089a142303"
      },
      "id": "N5309Ld8rM4c",
      "execution_count": 28,
      "outputs": [
        {
          "output_type": "execute_result",
          "data": {
            "text/plain": [
              "[0, 1, 9, 16, 100]"
            ]
          },
          "metadata": {},
          "execution_count": 28
        }
      ]
    },
    {
      "cell_type": "markdown",
      "source": [
        "## Sliding window"
      ],
      "metadata": {
        "id": "oYvakJHWE1JO"
      },
      "id": "oYvakJHWE1JO"
    },
    {
      "cell_type": "markdown",
      "source": [
        "### Example 1"
      ],
      "metadata": {
        "id": "HJ3lMwQdcxjy"
      },
      "id": "HJ3lMwQdcxjy"
    },
    {
      "cell_type": "code",
      "source": [
        "nums = [3, 1, 2, 7, 4, 2, 1, 1, 5]\n",
        "k = 8"
      ],
      "metadata": {
        "id": "j2CRh-KVMCYl"
      },
      "id": "j2CRh-KVMCYl",
      "execution_count": 29,
      "outputs": []
    },
    {
      "cell_type": "code",
      "source": [
        "def find_length(nums, k):\n",
        "    left = curr = ans = 0\n",
        "    for right in range(len(nums)):\n",
        "        curr += nums[right]\n",
        "        while curr > k:\n",
        "            curr -= nums[left]\n",
        "            left += 1\n",
        "        ans = max(ans, right - left + 1)\n",
        "    return ans"
      ],
      "metadata": {
        "id": "mM7XhdIDT1-0"
      },
      "id": "mM7XhdIDT1-0",
      "execution_count": 30,
      "outputs": []
    },
    {
      "cell_type": "markdown",
      "source": [
        "This algorithm has a time complexity of $O(n)$ and a space complexity of $O(1)$."
      ],
      "metadata": {
        "id": "4-0ZqLjWRo_Q"
      },
      "id": "4-0ZqLjWRo_Q"
    },
    {
      "cell_type": "code",
      "source": [
        "find_length(nums, k)"
      ],
      "metadata": {
        "colab": {
          "base_uri": "https://localhost:8080/"
        },
        "id": "k_cD_xWCRj_A",
        "outputId": "3bccb9db-1c8b-401b-e996-4ccb8f625682"
      },
      "id": "k_cD_xWCRj_A",
      "execution_count": 31,
      "outputs": [
        {
          "output_type": "execute_result",
          "data": {
            "text/plain": [
              "4"
            ]
          },
          "metadata": {},
          "execution_count": 31
        }
      ]
    },
    {
      "cell_type": "markdown",
      "source": [
        "### Example 2"
      ],
      "metadata": {
        "id": "Kqv2PBjNYFxF"
      },
      "id": "Kqv2PBjNYFxF"
    },
    {
      "cell_type": "code",
      "source": [
        "s = \"1101100111\""
      ],
      "metadata": {
        "id": "-0fuK9z1RmEs"
      },
      "id": "-0fuK9z1RmEs",
      "execution_count": 32,
      "outputs": []
    },
    {
      "cell_type": "code",
      "source": [
        "def find_length(s):\n",
        "    left = curr = ans = 0\n",
        "    for right in range(len(s)):\n",
        "        if s[right] == \"0\":\n",
        "            curr += 1\n",
        "        while curr > 1:\n",
        "            if s[left] == \"0\":\n",
        "                curr -= 1\n",
        "            left += 1\n",
        "        ans = max(ans, right - left + 1)\n",
        "    return ans"
      ],
      "metadata": {
        "id": "vKCHKXSDCaya"
      },
      "id": "vKCHKXSDCaya",
      "execution_count": 33,
      "outputs": []
    },
    {
      "cell_type": "markdown",
      "source": [
        "This algorithm has a time complexity of $O(n)$ and a space complexity of $O(1)$."
      ],
      "metadata": {
        "id": "L7DVPm4UcQt5"
      },
      "id": "L7DVPm4UcQt5"
    },
    {
      "cell_type": "code",
      "source": [
        "find_length(s)"
      ],
      "metadata": {
        "colab": {
          "base_uri": "https://localhost:8080/"
        },
        "id": "JJTfrejwYuj_",
        "outputId": "e522ac88-f830-4841-dfda-85389adbcab2"
      },
      "id": "JJTfrejwYuj_",
      "execution_count": 34,
      "outputs": [
        {
          "output_type": "execute_result",
          "data": {
            "text/plain": [
              "5"
            ]
          },
          "metadata": {},
          "execution_count": 34
        }
      ]
    },
    {
      "cell_type": "markdown",
      "source": [
        "### Number of subarrays"
      ],
      "metadata": {
        "id": "XMpjUFcMEoSm"
      },
      "id": "XMpjUFcMEoSm"
    },
    {
      "cell_type": "markdown",
      "source": [
        "### Example 3"
      ],
      "metadata": {
        "id": "b-Wh5VB6y1HR"
      },
      "id": "b-Wh5VB6y1HR"
    },
    {
      "cell_type": "code",
      "source": [
        "nums = [10, 5, 2, 6]\n",
        "k = 100"
      ],
      "metadata": {
        "id": "SU99hI6aIrny"
      },
      "id": "SU99hI6aIrny",
      "execution_count": 35,
      "outputs": []
    },
    {
      "cell_type": "markdown",
      "source": [
        "How `//=` works:"
      ],
      "metadata": {
        "id": "InF8X3KUIaq_"
      },
      "id": "InF8X3KUIaq_"
    },
    {
      "cell_type": "code",
      "source": [
        "curr = 2 * 5\n",
        "curr /= 2\n",
        "curr"
      ],
      "metadata": {
        "colab": {
          "base_uri": "https://localhost:8080/"
        },
        "id": "kRet-X573sP1",
        "outputId": "362f3a46-51d8-4c98-f7b4-c5facf058e9b"
      },
      "id": "kRet-X573sP1",
      "execution_count": 36,
      "outputs": [
        {
          "output_type": "execute_result",
          "data": {
            "text/plain": [
              "5.0"
            ]
          },
          "metadata": {},
          "execution_count": 36
        }
      ]
    },
    {
      "cell_type": "code",
      "source": [
        "curr = 2 * 5\n",
        "curr //= 2\n",
        "curr"
      ],
      "metadata": {
        "colab": {
          "base_uri": "https://localhost:8080/"
        },
        "id": "NRmpzeRq4A6t",
        "outputId": "30c5ac8a-4255-43ee-9708-9d6943a2d4e6"
      },
      "id": "NRmpzeRq4A6t",
      "execution_count": 37,
      "outputs": [
        {
          "output_type": "execute_result",
          "data": {
            "text/plain": [
              "5"
            ]
          },
          "metadata": {},
          "execution_count": 37
        }
      ]
    },
    {
      "cell_type": "markdown",
      "source": [
        "However, in this solution, `/=` works as well as `//=`."
      ],
      "metadata": {
        "id": "FVNi37JJIeM5"
      },
      "id": "FVNi37JJIeM5"
    },
    {
      "cell_type": "code",
      "source": [
        "def num_subarrays_product_less_than_k(nums, k):\n",
        "    if k <= 1:\n",
        "        return 0\n",
        "    left = ans = 0\n",
        "    curr = 1\n",
        "    for right in range(len(nums)):\n",
        "        curr *= nums[right]\n",
        "        while curr >= k: # Careful: It should be `>=`, not `>`.\n",
        "            curr //= nums[left]\n",
        "            left += 1\n",
        "        ans += right - left + 1\n",
        "    return ans"
      ],
      "metadata": {
        "id": "feakieLD4Fvq"
      },
      "id": "feakieLD4Fvq",
      "execution_count": 38,
      "outputs": []
    },
    {
      "cell_type": "markdown",
      "source": [
        "This algorithm has a time complexity of $O(n)$ and a space complexity of $O(1)$."
      ],
      "metadata": {
        "id": "Tdy-UNpyJV3x"
      },
      "id": "Tdy-UNpyJV3x"
    },
    {
      "cell_type": "code",
      "source": [
        "num_subarrays_product_less_than_k(nums, k)"
      ],
      "metadata": {
        "colab": {
          "base_uri": "https://localhost:8080/"
        },
        "id": "cxD2k7Xj5OgN",
        "outputId": "688fc0cc-6657-4c9d-b1e3-95b3c5c8facd"
      },
      "id": "cxD2k7Xj5OgN",
      "execution_count": 39,
      "outputs": [
        {
          "output_type": "execute_result",
          "data": {
            "text/plain": [
              "8"
            ]
          },
          "metadata": {},
          "execution_count": 39
        }
      ]
    },
    {
      "cell_type": "markdown",
      "source": [
        "### Fixed window size"
      ],
      "metadata": {
        "id": "y9FKh8NJ5bq9"
      },
      "id": "y9FKh8NJ5bq9"
    },
    {
      "cell_type": "markdown",
      "source": [
        "### Example 4"
      ],
      "metadata": {
        "id": "gteFWrA97BiU"
      },
      "id": "gteFWrA97BiU"
    },
    {
      "cell_type": "code",
      "source": [
        "nums = [3, -1, 4, 12, -8, 5, 6]\n",
        "k = 4"
      ],
      "metadata": {
        "id": "EuwXmKXo8gE2"
      },
      "id": "EuwXmKXo8gE2",
      "execution_count": 40,
      "outputs": []
    },
    {
      "cell_type": "code",
      "source": [
        "def find_best_subarray(nums, k):\n",
        "    curr = 0\n",
        "    for i in range(k):\n",
        "        curr += nums[i]\n",
        "    ans = curr\n",
        "    for i in range(k, len(nums)):\n",
        "        curr += nums[i] - nums[i - k]\n",
        "        ans = max(ans, curr)\n",
        "    return ans"
      ],
      "metadata": {
        "id": "SO3hf3C8Lm9L"
      },
      "id": "SO3hf3C8Lm9L",
      "execution_count": 41,
      "outputs": []
    },
    {
      "cell_type": "markdown",
      "source": [
        "This algorithm has a time complexity of $O(n)$ and a space complexity of $O(1)$."
      ],
      "metadata": {
        "id": "vVblbD4z9GNP"
      },
      "id": "vVblbD4z9GNP"
    },
    {
      "cell_type": "code",
      "source": [
        "find_best_subarray(nums, k)"
      ],
      "metadata": {
        "colab": {
          "base_uri": "https://localhost:8080/"
        },
        "id": "PbmOjJl_9CRj",
        "outputId": "a98c8c9f-6b00-4bea-9d7e-788337cb7381"
      },
      "id": "PbmOjJl_9CRj",
      "execution_count": 42,
      "outputs": [
        {
          "output_type": "execute_result",
          "data": {
            "text/plain": [
              "18"
            ]
          },
          "metadata": {},
          "execution_count": 42
        }
      ]
    },
    {
      "cell_type": "markdown",
      "source": [
        "### Maximum Average Subarray I"
      ],
      "metadata": {
        "id": "fS26t4G2M2Wd"
      },
      "id": "fS26t4G2M2Wd"
    },
    {
      "cell_type": "code",
      "source": [
        "def max_avg(nums, k):\n",
        "    curr = 0\n",
        "    for i in range(k): # Build the first window.\n",
        "        curr += nums[i]\n",
        "    ans = curr\n",
        "    for i in range(k, len(nums)):\n",
        "        curr += nums[i] - nums[i - k]\n",
        "        ans = max(ans, curr)\n",
        "    return ans / k"
      ],
      "metadata": {
        "id": "2_yLfDcc9FPy"
      },
      "id": "2_yLfDcc9FPy",
      "execution_count": 43,
      "outputs": []
    },
    {
      "cell_type": "markdown",
      "source": [
        "This algorithm has a time complexity of $O(n)$ and a space complexity of $O(1)$."
      ],
      "metadata": {
        "id": "CvhXCBGb3v4I"
      },
      "id": "CvhXCBGb3v4I"
    },
    {
      "cell_type": "code",
      "source": [
        "nums = [1, 12, -5, -6, 50, 3]\n",
        "k = 4"
      ],
      "metadata": {
        "id": "cx6Q6XG82tPP"
      },
      "id": "cx6Q6XG82tPP",
      "execution_count": 44,
      "outputs": []
    },
    {
      "cell_type": "code",
      "source": [
        "max_avg(nums, k)"
      ],
      "metadata": {
        "colab": {
          "base_uri": "https://localhost:8080/"
        },
        "id": "egUyejho21vH",
        "outputId": "3507b557-4c97-41b7-edf4-fb852d09da81"
      },
      "id": "egUyejho21vH",
      "execution_count": 45,
      "outputs": [
        {
          "output_type": "execute_result",
          "data": {
            "text/plain": [
              "12.75"
            ]
          },
          "metadata": {},
          "execution_count": 45
        }
      ]
    },
    {
      "cell_type": "code",
      "source": [
        "nums = [5]\n",
        "k = 1"
      ],
      "metadata": {
        "id": "prFrIQfH3I4U"
      },
      "id": "prFrIQfH3I4U",
      "execution_count": 46,
      "outputs": []
    },
    {
      "cell_type": "code",
      "source": [
        "max_avg(nums, k)"
      ],
      "metadata": {
        "colab": {
          "base_uri": "https://localhost:8080/"
        },
        "id": "U_fvZnI23MlY",
        "outputId": "fe53a049-df85-41a6-e0a4-19b1995f21b9"
      },
      "id": "U_fvZnI23MlY",
      "execution_count": 47,
      "outputs": [
        {
          "output_type": "execute_result",
          "data": {
            "text/plain": [
              "5.0"
            ]
          },
          "metadata": {},
          "execution_count": 47
        }
      ]
    },
    {
      "cell_type": "markdown",
      "source": [
        "### Max Consecutive Ones III"
      ],
      "metadata": {
        "id": "_PazM2MA4K83"
      },
      "id": "_PazM2MA4K83"
    },
    {
      "cell_type": "code",
      "source": [
        "def longest_window(nums, k):\n",
        "    left = curr = ans = 0\n",
        "    for right in range(len(nums)):\n",
        "        if nums[right] == 0:\n",
        "            curr += 1\n",
        "        while curr > k:\n",
        "            if nums[left] == 0:\n",
        "                curr -= 1\n",
        "            left += 1\n",
        "        ans = max(ans, right - left + 1)\n",
        "    return ans"
      ],
      "metadata": {
        "id": "MUL5aLA93OlR"
      },
      "id": "MUL5aLA93OlR",
      "execution_count": 48,
      "outputs": []
    },
    {
      "cell_type": "markdown",
      "source": [
        "This algorithm has a time complexity of $O(n)$ and a space complexity of $O(1)$."
      ],
      "metadata": {
        "id": "o7-VVZAG7DGJ"
      },
      "id": "o7-VVZAG7DGJ"
    },
    {
      "cell_type": "code",
      "source": [
        "nums = [1, 1, 1, 0, 0, 0, 1, 1, 1, 1, 0]\n",
        "k = 2"
      ],
      "metadata": {
        "id": "uoC_aUew6Ixe"
      },
      "id": "uoC_aUew6Ixe",
      "execution_count": 49,
      "outputs": []
    },
    {
      "cell_type": "code",
      "source": [
        "longest_window(nums, 2)"
      ],
      "metadata": {
        "colab": {
          "base_uri": "https://localhost:8080/"
        },
        "id": "d74gv9dX6Ppi",
        "outputId": "5758fe12-a1b8-4e05-9aa3-0ce3333c64ce"
      },
      "id": "d74gv9dX6Ppi",
      "execution_count": 50,
      "outputs": [
        {
          "output_type": "execute_result",
          "data": {
            "text/plain": [
              "6"
            ]
          },
          "metadata": {},
          "execution_count": 50
        }
      ]
    },
    {
      "cell_type": "code",
      "source": [
        "nums = [0, 0, 1, 1, 0, 0, 1, 1, 1, 0, 1, 1, 0, 0, 0, 1, 1, 1, 1]\n",
        "k = 3"
      ],
      "metadata": {
        "id": "oTZfI_Bv6RkB"
      },
      "id": "oTZfI_Bv6RkB",
      "execution_count": 51,
      "outputs": []
    },
    {
      "cell_type": "code",
      "source": [
        "longest_window(nums, k)"
      ],
      "metadata": {
        "colab": {
          "base_uri": "https://localhost:8080/"
        },
        "id": "R17Ie8XQ6_F6",
        "outputId": "c7ddb6bb-c321-4b26-ffc4-a3471f5b1a86"
      },
      "id": "R17Ie8XQ6_F6",
      "execution_count": 52,
      "outputs": [
        {
          "output_type": "execute_result",
          "data": {
            "text/plain": [
              "10"
            ]
          },
          "metadata": {},
          "execution_count": 52
        }
      ]
    },
    {
      "cell_type": "markdown",
      "source": [
        "## Prefix sum"
      ],
      "metadata": {
        "id": "aZb8w-Mda3c6"
      },
      "id": "aZb8w-Mda3c6"
    },
    {
      "cell_type": "code",
      "source": [
        "import numpy as np\n",
        "\n",
        "nums = np.array([5, 2, 1, 6, 3, 8])\n",
        "prefix = np.cumsum(nums)\n",
        "prefix"
      ],
      "metadata": {
        "colab": {
          "base_uri": "https://localhost:8080/"
        },
        "id": "PRvU2JnG-fAF",
        "outputId": "d0d58562-4d9c-4951-fe44-44db3ab4ff24"
      },
      "id": "PRvU2JnG-fAF",
      "execution_count": 53,
      "outputs": [
        {
          "output_type": "execute_result",
          "data": {
            "text/plain": [
              "array([ 5,  7,  8, 14, 17, 25])"
            ]
          },
          "metadata": {},
          "execution_count": 53
        }
      ]
    },
    {
      "cell_type": "code",
      "source": [
        "# Sum of the subarray from i (say 1) to j (say 4):\n",
        "nums[1] + nums[2] + nums[3] + nums[4]"
      ],
      "metadata": {
        "colab": {
          "base_uri": "https://localhost:8080/"
        },
        "id": "0s_VGNMk-pmd",
        "outputId": "acd24b25-3771-4706-a1b1-0b8a4cb4a5fa"
      },
      "id": "0s_VGNMk-pmd",
      "execution_count": 54,
      "outputs": [
        {
          "output_type": "execute_result",
          "data": {
            "text/plain": [
              "12"
            ]
          },
          "metadata": {},
          "execution_count": 54
        }
      ]
    },
    {
      "cell_type": "code",
      "source": [
        "# Alt:\n",
        "prefix[4] - prefix[1] + nums[1]"
      ],
      "metadata": {
        "colab": {
          "base_uri": "https://localhost:8080/"
        },
        "id": "I4YGKkRhAKOP",
        "outputId": "f8721f6a-b0ec-4266-f245-3261f8857b39"
      },
      "id": "I4YGKkRhAKOP",
      "execution_count": 55,
      "outputs": [
        {
          "output_type": "execute_result",
          "data": {
            "text/plain": [
              "12"
            ]
          },
          "metadata": {},
          "execution_count": 55
        }
      ]
    },
    {
      "cell_type": "markdown",
      "source": [
        "Building the prefix sum list without using `np.cumsum`:"
      ],
      "metadata": {
        "id": "ok8dtA6_2kht"
      },
      "id": "ok8dtA6_2kht"
    },
    {
      "cell_type": "code",
      "source": [
        "prefix = [nums[0]]\n",
        "for i in range(1, len(nums)):\n",
        "    prefix.append(nums[i] + prefix[-1])\n",
        "prefix"
      ],
      "metadata": {
        "colab": {
          "base_uri": "https://localhost:8080/"
        },
        "id": "sIucbp4RAq5O",
        "outputId": "b4b897c1-dd4c-46de-fb85-7a32819724e1"
      },
      "id": "sIucbp4RAq5O",
      "execution_count": 56,
      "outputs": [
        {
          "output_type": "execute_result",
          "data": {
            "text/plain": [
              "[5, 7, 8, 14, 17, 25]"
            ]
          },
          "metadata": {},
          "execution_count": 56
        }
      ]
    },
    {
      "cell_type": "markdown",
      "source": [
        "The prefix sum takes $O(n)$ to build, but allows all future subarray queries to be $O(1)$."
      ],
      "metadata": {
        "id": "xVetRUob29AS"
      },
      "id": "xVetRUob29AS"
    },
    {
      "cell_type": "markdown",
      "source": [
        "### Example 1"
      ],
      "metadata": {
        "id": "ACNk6ZGu3abf"
      },
      "id": "ACNk6ZGu3abf"
    },
    {
      "cell_type": "code",
      "source": [
        "nums = [1, 6, 3, 2, 7, 2]\n",
        "queries = [[0, 3], [2, 5], [2, 4]]\n",
        "limit = 13"
      ],
      "metadata": {
        "id": "KeeiGLWKHLlT"
      },
      "id": "KeeiGLWKHLlT",
      "execution_count": 57,
      "outputs": []
    },
    {
      "cell_type": "code",
      "source": [
        "def answer_queries(nums, queries, limit):\n",
        "    prefix = [nums[0]]\n",
        "    for i in range(1, len(nums)):\n",
        "        prefix.append(nums[i] + prefix[-1])\n",
        "\n",
        "    ans = []\n",
        "    for x, y in queries:\n",
        "        curr = prefix[y] - prefix[x] + nums[x]\n",
        "        ans.append(curr < limit)\n",
        "\n",
        "    return ans"
      ],
      "metadata": {
        "id": "DqMGcLi34-_3"
      },
      "id": "DqMGcLi34-_3",
      "execution_count": 58,
      "outputs": []
    },
    {
      "cell_type": "markdown",
      "source": [
        "This algorithm has a time complexity of $O(n + m)$, where $n$ is the length of `nums` and `m` is the length of `queries` (i.e., the number of subarrays in `queries` - here `3`). Without the prefix sum, it would be $O(n * m)$, because answering each of the `m` queries would cost $O(n)$ in the worst case. (The outer loop would loop over `queries`.)\n",
        "\n",
        "The algorithm has a space complexity of $O(n)$ (excluding the answer)."
      ],
      "metadata": {
        "id": "9LTA3KFJHrW0"
      },
      "id": "9LTA3KFJHrW0"
    },
    {
      "cell_type": "code",
      "source": [
        "answer_queries(nums, queries, limit)"
      ],
      "metadata": {
        "colab": {
          "base_uri": "https://localhost:8080/"
        },
        "id": "A7IKHFLD5yR-",
        "outputId": "1ef2cdc6-d53c-44e9-a61a-29dff66774e6"
      },
      "id": "A7IKHFLD5yR-",
      "execution_count": 59,
      "outputs": [
        {
          "output_type": "execute_result",
          "data": {
            "text/plain": [
              "[True, False, True]"
            ]
          },
          "metadata": {},
          "execution_count": 59
        }
      ]
    },
    {
      "cell_type": "markdown",
      "source": [
        "### Example 2"
      ],
      "metadata": {
        "id": "Os84or2E_Uh0"
      },
      "id": "Os84or2E_Uh0"
    },
    {
      "cell_type": "code",
      "source": [
        "nums = [10, 4, -8, 7]"
      ],
      "metadata": {
        "id": "LF9xrl49HHgr"
      },
      "id": "LF9xrl49HHgr",
      "execution_count": 60,
      "outputs": []
    },
    {
      "cell_type": "code",
      "source": [
        "def ways_to_split_array(nums):\n",
        "    prefix = [nums[0]]\n",
        "    for i in range(1, len(nums)):\n",
        "        prefix.append(nums[i] + prefix[-1])\n",
        "\n",
        "    ans = 0\n",
        "    for i in range(len(nums) - 1):\n",
        "        left_section = prefix[i]\n",
        "        right_section = prefix[-1] - prefix[i]\n",
        "        if left_section >= right_section:\n",
        "            ans += 1\n",
        "\n",
        "    return ans"
      ],
      "metadata": {
        "id": "M7oBf1eeHK8P"
      },
      "id": "M7oBf1eeHK8P",
      "execution_count": 61,
      "outputs": []
    },
    {
      "cell_type": "markdown",
      "source": [
        "This algorithm has a time complexity of $O(n)$ and a space complexity of $O(n)$."
      ],
      "metadata": {
        "id": "OUGJ4hRg_6VF"
      },
      "id": "OUGJ4hRg_6VF"
    },
    {
      "cell_type": "code",
      "source": [
        "ways_to_split_array(nums)"
      ],
      "metadata": {
        "colab": {
          "base_uri": "https://localhost:8080/"
        },
        "id": "sCiPgAwtHsWV",
        "outputId": "242cf3e8-0be1-413e-80a4-6b79986e4cfd"
      },
      "id": "sCiPgAwtHsWV",
      "execution_count": 62,
      "outputs": [
        {
          "output_type": "execute_result",
          "data": {
            "text/plain": [
              "2"
            ]
          },
          "metadata": {},
          "execution_count": 62
        }
      ]
    },
    {
      "cell_type": "markdown",
      "source": [
        "### Do we need the array?"
      ],
      "metadata": {
        "id": "u-_sjoBFARzA"
      },
      "id": "u-_sjoBFARzA"
    },
    {
      "cell_type": "code",
      "source": [
        "def ways_to_split_array(nums):\n",
        "    left_section = ans = 0\n",
        "    total = sum(nums)\n",
        "\n",
        "    for i in range(len(nums) - 1):\n",
        "        left_section += nums[i]\n",
        "        right_section = total - left_section\n",
        "        if left_section >= right_section:\n",
        "            ans += 1\n",
        "\n",
        "    return ans"
      ],
      "metadata": {
        "id": "_rrDQpVrJws6"
      },
      "id": "_rrDQpVrJws6",
      "execution_count": 63,
      "outputs": []
    },
    {
      "cell_type": "markdown",
      "source": [
        "This algorithm has a time complexity of $O(n)$ and a space complexity of $O(1)$.\n",
        "\n",
        "**Note:** The line `total = sum(nums)` costs $O(n)$ time but only $O(1)$ space."
      ],
      "metadata": {
        "id": "iXc-5z1HBPce"
      },
      "id": "iXc-5z1HBPce"
    },
    {
      "cell_type": "code",
      "source": [
        "ways_to_split_array(nums)"
      ],
      "metadata": {
        "colab": {
          "base_uri": "https://localhost:8080/"
        },
        "id": "lJw6CIj0I14W",
        "outputId": "70c65a05-5729-4066-fb4d-161d8f88ba8a"
      },
      "id": "lJw6CIj0I14W",
      "execution_count": 64,
      "outputs": [
        {
          "output_type": "execute_result",
          "data": {
            "text/plain": [
              "2"
            ]
          },
          "metadata": {},
          "execution_count": 64
        }
      ]
    },
    {
      "cell_type": "markdown",
      "source": [
        "### Running Sum of 1d Array"
      ],
      "metadata": {
        "id": "GCTE9KhTKws0"
      },
      "id": "GCTE9KhTKws0"
    },
    {
      "cell_type": "code",
      "source": [
        "def running_sum(nums):\n",
        "    prefix = [nums[0]]\n",
        "    for i in range(1, len(nums)):\n",
        "        prefix.append(nums[i] + prefix[-1])\n",
        "    return prefix"
      ],
      "metadata": {
        "id": "PLgAEVrALL7c"
      },
      "id": "PLgAEVrALL7c",
      "execution_count": 65,
      "outputs": []
    },
    {
      "cell_type": "code",
      "source": [
        "running_sum([1, 2, 3, 4])"
      ],
      "metadata": {
        "colab": {
          "base_uri": "https://localhost:8080/"
        },
        "id": "NZCnJuzoLql1",
        "outputId": "7ba2a091-da91-41a8-808c-17ceb03baa71"
      },
      "id": "NZCnJuzoLql1",
      "execution_count": 66,
      "outputs": [
        {
          "output_type": "execute_result",
          "data": {
            "text/plain": [
              "[1, 3, 6, 10]"
            ]
          },
          "metadata": {},
          "execution_count": 66
        }
      ]
    },
    {
      "cell_type": "code",
      "source": [
        "running_sum([1, 1, 1, 1, 1])"
      ],
      "metadata": {
        "colab": {
          "base_uri": "https://localhost:8080/"
        },
        "id": "0LwZBLcMLvp3",
        "outputId": "5776537a-d3a2-4875-e244-4e310860310d"
      },
      "id": "0LwZBLcMLvp3",
      "execution_count": 67,
      "outputs": [
        {
          "output_type": "execute_result",
          "data": {
            "text/plain": [
              "[1, 2, 3, 4, 5]"
            ]
          },
          "metadata": {},
          "execution_count": 67
        }
      ]
    },
    {
      "cell_type": "code",
      "source": [
        "running_sum([3, 1, 2, 10, 1])"
      ],
      "metadata": {
        "colab": {
          "base_uri": "https://localhost:8080/"
        },
        "id": "M2-u0COUL1bh",
        "outputId": "2df6dbcc-0daf-49df-c03b-a29983c6e157"
      },
      "id": "M2-u0COUL1bh",
      "execution_count": 68,
      "outputs": [
        {
          "output_type": "execute_result",
          "data": {
            "text/plain": [
              "[3, 4, 6, 16, 17]"
            ]
          },
          "metadata": {},
          "execution_count": 68
        }
      ]
    },
    {
      "cell_type": "markdown",
      "source": [
        "### Minimum Value to Get Positive Step by Step Sum"
      ],
      "metadata": {
        "id": "wJ3YlG7PIzmr"
      },
      "id": "wJ3YlG7PIzmr"
    },
    {
      "cell_type": "code",
      "source": [
        "def min_start_value(nums):\n",
        "    prefix_sums = [nums[0]]\n",
        "    for i in range(1, len(nums)):\n",
        "        prefix_sums.append(nums[i] + prefix_sums[-1])\n",
        "    min_prefix_sum = min(prefix_sums)\n",
        "\n",
        "    if min_prefix_sum <= 0:\n",
        "        return abs(min_prefix_sum) + 1\n",
        "    else:\n",
        "        return 1"
      ],
      "metadata": {
        "id": "Lk-aN8K4r1vK"
      },
      "id": "Lk-aN8K4r1vK",
      "execution_count": 69,
      "outputs": []
    },
    {
      "cell_type": "markdown",
      "source": [
        "This algorithm has a time complexity of $O(n)$ and space complexity of $O(n)$."
      ],
      "metadata": {
        "id": "clnd_w9kSRWB"
      },
      "id": "clnd_w9kSRWB"
    },
    {
      "cell_type": "code",
      "source": [
        "min_start_value([-3, 2, -3, 4, 2])"
      ],
      "metadata": {
        "colab": {
          "base_uri": "https://localhost:8080/"
        },
        "id": "QCeda9RZr1rz",
        "outputId": "99f713c9-b2f8-4348-d6ea-992a439b7b87"
      },
      "id": "QCeda9RZr1rz",
      "execution_count": 70,
      "outputs": [
        {
          "output_type": "execute_result",
          "data": {
            "text/plain": [
              "5"
            ]
          },
          "metadata": {},
          "execution_count": 70
        }
      ]
    },
    {
      "cell_type": "code",
      "source": [
        "min_start_value([1, 2])"
      ],
      "metadata": {
        "colab": {
          "base_uri": "https://localhost:8080/"
        },
        "id": "rdOPhZ9vr1oS",
        "outputId": "c41e2cb6-2ead-482e-f1d1-06e48e67e4fd"
      },
      "id": "rdOPhZ9vr1oS",
      "execution_count": 71,
      "outputs": [
        {
          "output_type": "execute_result",
          "data": {
            "text/plain": [
              "1"
            ]
          },
          "metadata": {},
          "execution_count": 71
        }
      ]
    },
    {
      "cell_type": "code",
      "source": [
        "min_start_value([1, -2, -3])"
      ],
      "metadata": {
        "colab": {
          "base_uri": "https://localhost:8080/"
        },
        "id": "mZJHxUDLr1lJ",
        "outputId": "904974ac-9532-402e-ee70-1a992f0cc75d"
      },
      "id": "mZJHxUDLr1lJ",
      "execution_count": 72,
      "outputs": [
        {
          "output_type": "execute_result",
          "data": {
            "text/plain": [
              "5"
            ]
          },
          "metadata": {},
          "execution_count": 72
        }
      ]
    },
    {
      "cell_type": "markdown",
      "source": [
        "### K Radius Subarray Averages"
      ],
      "metadata": {
        "id": "Z7ro1vlzYijN"
      },
      "id": "Z7ro1vlzYijN"
    },
    {
      "cell_type": "code",
      "source": [
        "def get_averages(nums, k):\n",
        "    prefix_sums = [nums[0]]\n",
        "    for i in range(1, len(nums)):\n",
        "        prefix_sums.append(nums[i] + prefix_sums[-1])\n",
        "\n",
        "    avgs = []\n",
        "    for i in range(len(nums)):\n",
        "        if i - k < 0 or i + k > len(nums) - 1:\n",
        "            avgs.append(-1)\n",
        "        else:\n",
        "            window_sum = prefix_sums[i + k] - prefix_sums[i - k] + nums[i - k]\n",
        "            avgs.append(window_sum // (2 * k + 1))\n",
        "\n",
        "    return avgs"
      ],
      "metadata": {
        "id": "lWz8xLar2P1B"
      },
      "id": "lWz8xLar2P1B",
      "execution_count": 73,
      "outputs": []
    },
    {
      "cell_type": "markdown",
      "source": [
        "This algorithm has a time compexity of $O(n)$ and a space complexity of $O(n)$ (excluding the answer)."
      ],
      "metadata": {
        "id": "KGihw6nGq55u"
      },
      "id": "KGihw6nGq55u"
    },
    {
      "cell_type": "code",
      "source": [
        "nums = [7, 4, 3, 9, 1, 8, 5, 2, 6]\n",
        "k = 3\n",
        "get_averages(nums, k)"
      ],
      "metadata": {
        "colab": {
          "base_uri": "https://localhost:8080/"
        },
        "id": "JrGl_6jnomje",
        "outputId": "cb5ecbe6-1f03-4000-fa97-f1458479680c"
      },
      "id": "JrGl_6jnomje",
      "execution_count": 74,
      "outputs": [
        {
          "output_type": "execute_result",
          "data": {
            "text/plain": [
              "[-1, -1, -1, 5, 4, 4, -1, -1, -1]"
            ]
          },
          "metadata": {},
          "execution_count": 74
        }
      ]
    },
    {
      "cell_type": "code",
      "source": [
        "nums = [100000]\n",
        "k = 0\n",
        "get_averages(nums, k)"
      ],
      "metadata": {
        "colab": {
          "base_uri": "https://localhost:8080/"
        },
        "id": "LJhvBKseoxnL",
        "outputId": "dd4902a8-52e8-4c0e-faa6-89a5dc37ecd5"
      },
      "id": "LJhvBKseoxnL",
      "execution_count": 75,
      "outputs": [
        {
          "output_type": "execute_result",
          "data": {
            "text/plain": [
              "[100000]"
            ]
          },
          "metadata": {},
          "execution_count": 75
        }
      ]
    },
    {
      "cell_type": "code",
      "source": [
        "nums = [8]\n",
        "k = 100000\n",
        "get_averages(nums, k)"
      ],
      "metadata": {
        "colab": {
          "base_uri": "https://localhost:8080/"
        },
        "id": "32Naiv9ho5oi",
        "outputId": "6f46e8a4-9eec-4735-9b9b-bb14f2f47818"
      },
      "id": "32Naiv9ho5oi",
      "execution_count": 76,
      "outputs": [
        {
          "output_type": "execute_result",
          "data": {
            "text/plain": [
              "[-1]"
            ]
          },
          "metadata": {},
          "execution_count": 76
        }
      ]
    },
    {
      "cell_type": "markdown",
      "source": [
        "## More common patterns"
      ],
      "metadata": {
        "id": "QSkLYYd4NJ22"
      },
      "id": "QSkLYYd4NJ22"
    },
    {
      "cell_type": "markdown",
      "source": [
        "### O(n) string building"
      ],
      "metadata": {
        "id": "0K465H9eNMnO"
      },
      "id": "0K465H9eNMnO"
    },
    {
      "cell_type": "code",
      "source": [
        "def build_string(s):\n",
        "    arr = []\n",
        "    for c in s:\n",
        "        arr.append(c)\n",
        "    return \"\".join(arr)"
      ],
      "metadata": {
        "id": "HYiLGHFG5tne"
      },
      "id": "HYiLGHFG5tne",
      "execution_count": 77,
      "outputs": []
    },
    {
      "cell_type": "markdown",
      "source": [
        "This algorithm has a time complexity of $O(n)$ and a space complexity of $O(1)$ (excluding the answer)."
      ],
      "metadata": {
        "id": "o-nkqpAoNbSB"
      },
      "id": "o-nkqpAoNbSB"
    },
    {
      "cell_type": "code",
      "source": [
        "build_string(\"Hello\")"
      ],
      "metadata": {
        "colab": {
          "base_uri": "https://localhost:8080/",
          "height": 35
        },
        "id": "65FJ2Inc52Ji",
        "outputId": "7d0f7ec4-2879-4bdb-bf14-0ce03a31d0f0"
      },
      "id": "65FJ2Inc52Ji",
      "execution_count": 78,
      "outputs": [
        {
          "output_type": "execute_result",
          "data": {
            "text/plain": [
              "'Hello'"
            ],
            "application/vnd.google.colaboratory.intrinsic+json": {
              "type": "string"
            }
          },
          "metadata": {},
          "execution_count": 78
        }
      ]
    },
    {
      "cell_type": "markdown",
      "source": [
        "### Subarrays/substrings, subsequences, and subsets"
      ],
      "metadata": {
        "id": "4h_oUrg7Nu5j"
      },
      "id": "4h_oUrg7Nu5j"
    },
    {
      "cell_type": "markdown",
      "source": [
        "### Closing notes"
      ],
      "metadata": {
        "id": "gdCyOiau5WJN"
      },
      "id": "gdCyOiau5WJN"
    },
    {
      "cell_type": "markdown",
      "source": [
        "## Arrays and strings quiz"
      ],
      "metadata": {
        "id": "38k1h-8Vzz0d"
      },
      "id": "38k1h-8Vzz0d"
    },
    {
      "cell_type": "markdown",
      "source": [
        "### Subarray Product Less Than K"
      ],
      "metadata": {
        "id": "EB34mzP9IuMo"
      },
      "id": "EB34mzP9IuMo"
    },
    {
      "cell_type": "code",
      "source": [
        "def num_subarray_product_less_than_k(nums, k):\n",
        "    if k <= 1:\n",
        "        return 0\n",
        "\n",
        "    left = ans = 0\n",
        "    curr = 1\n",
        "    for right in range(len(nums)):\n",
        "        curr *= nums[right]\n",
        "\n",
        "        while curr >= k:\n",
        "            curr //= nums[left]\n",
        "            left += 1\n",
        "\n",
        "        ans += right - left + 1\n",
        "\n",
        "    return ans"
      ],
      "metadata": {
        "id": "Fnon-A4QP-rf"
      },
      "id": "Fnon-A4QP-rf",
      "execution_count": 79,
      "outputs": []
    },
    {
      "cell_type": "markdown",
      "source": [
        "This algorithm has a time complexity of $O(n)$ and a space complexity of $O(1)$."
      ],
      "metadata": {
        "id": "6iE_jFlNJhwR"
      },
      "id": "6iE_jFlNJhwR"
    },
    {
      "cell_type": "code",
      "source": [
        "nums = [10, 5, 2, 6]\n",
        "k = 100\n",
        "num_subarray_product_less_than_k(nums, k)"
      ],
      "metadata": {
        "colab": {
          "base_uri": "https://localhost:8080/"
        },
        "id": "aW5Utk32QpRa",
        "outputId": "dab81db3-f0bf-4e35-83e2-cb50049170de"
      },
      "id": "aW5Utk32QpRa",
      "execution_count": 80,
      "outputs": [
        {
          "output_type": "execute_result",
          "data": {
            "text/plain": [
              "8"
            ]
          },
          "metadata": {},
          "execution_count": 80
        }
      ]
    },
    {
      "cell_type": "code",
      "source": [
        "nums = [1, 2, 3]\n",
        "k = 0\n",
        "num_subarray_product_less_than_k(nums, k)"
      ],
      "metadata": {
        "colab": {
          "base_uri": "https://localhost:8080/"
        },
        "id": "k1r17Gn3QzFi",
        "outputId": "5de15a35-caec-48b5-e86e-70bc9809e238"
      },
      "id": "k1r17Gn3QzFi",
      "execution_count": 81,
      "outputs": [
        {
          "output_type": "execute_result",
          "data": {
            "text/plain": [
              "0"
            ]
          },
          "metadata": {},
          "execution_count": 81
        }
      ]
    },
    {
      "cell_type": "markdown",
      "source": [
        "## Bonus problems, arrays and strings"
      ],
      "metadata": {
        "id": "TUrFHvwIIglP"
      },
      "id": "TUrFHvwIIglP"
    },
    {
      "cell_type": "markdown",
      "source": [
        "### Reverse Words in a String III"
      ],
      "metadata": {
        "id": "oblOB_dAv6br"
      },
      "id": "oblOB_dAv6br"
    },
    {
      "cell_type": "code",
      "source": [
        "# Pythonic approach:\n",
        "def reverse_words(s):\n",
        "    arr = s.split(\" \")\n",
        "    new_arr = [word[::-1] for word in arr]\n",
        "    return \" \".join(new_arr)"
      ],
      "metadata": {
        "id": "33F1XetgTdFL"
      },
      "id": "33F1XetgTdFL",
      "execution_count": 82,
      "outputs": []
    },
    {
      "cell_type": "code",
      "source": [
        "reverse_words(\"Let's take LeetCode contest\")"
      ],
      "metadata": {
        "colab": {
          "base_uri": "https://localhost:8080/",
          "height": 35
        },
        "id": "WgyO0z7kT4IT",
        "outputId": "46a53820-2b24-47ad-939d-5719b09d3568"
      },
      "id": "WgyO0z7kT4IT",
      "execution_count": 83,
      "outputs": [
        {
          "output_type": "execute_result",
          "data": {
            "text/plain": [
              "\"s'teL ekat edoCteeL tsetnoc\""
            ],
            "application/vnd.google.colaboratory.intrinsic+json": {
              "type": "string"
            }
          },
          "metadata": {},
          "execution_count": 83
        }
      ]
    },
    {
      "cell_type": "code",
      "source": [
        "reverse_words(\"Mr Ding\")"
      ],
      "metadata": {
        "colab": {
          "base_uri": "https://localhost:8080/",
          "height": 35
        },
        "id": "DfFCNv_wT-r-",
        "outputId": "f47f10fc-b1c5-4bc1-c2bc-1c06f792343b"
      },
      "id": "DfFCNv_wT-r-",
      "execution_count": 84,
      "outputs": [
        {
          "output_type": "execute_result",
          "data": {
            "text/plain": [
              "'rM gniD'"
            ],
            "application/vnd.google.colaboratory.intrinsic+json": {
              "type": "string"
            }
          },
          "metadata": {},
          "execution_count": 84
        }
      ]
    },
    {
      "cell_type": "code",
      "source": [
        "# DSA approach:\n",
        "def reverse_words(s):\n",
        "    s = list(s)\n",
        "    left = 0\n",
        "    for i in range(len(s)):\n",
        "        if s[i] == \" \" or i == len(s) - 1:\n",
        "            right = i\n",
        "            if s[i] == \" \":\n",
        "                right -= 1\n",
        "\n",
        "            while left < right:\n",
        "                temp = s[left]\n",
        "                s[left] = s[right]\n",
        "                s[right] = temp\n",
        "                left += 1\n",
        "                right -= 1\n",
        "\n",
        "            left = i + 1 # Skip the spaces.\n",
        "\n",
        "    return \"\".join(s)"
      ],
      "metadata": {
        "id": "voF95udYUFzi"
      },
      "id": "voF95udYUFzi",
      "execution_count": 85,
      "outputs": []
    },
    {
      "cell_type": "markdown",
      "source": [
        "**Note:** This is two pointers within a for loop. (This pattern wasn't covered in the course chapter.)\n",
        "\n",
        "This algorithm has a time complexity of $O(n)$ and a space complexity of $O(n)$ (because we convert the string into a list of characters)."
      ],
      "metadata": {
        "id": "6OXQvGdpNbBJ"
      },
      "id": "6OXQvGdpNbBJ"
    },
    {
      "cell_type": "code",
      "source": [
        "reverse_words(\"Let's take LeetCode contest\")"
      ],
      "metadata": {
        "colab": {
          "base_uri": "https://localhost:8080/",
          "height": 35
        },
        "id": "UUPCuL5fQi3D",
        "outputId": "b58859a2-9d1b-4c9b-f7db-75226cd96a88"
      },
      "id": "UUPCuL5fQi3D",
      "execution_count": 86,
      "outputs": [
        {
          "output_type": "execute_result",
          "data": {
            "text/plain": [
              "\"s'teL ekat edoCteeL tsetnoc\""
            ],
            "application/vnd.google.colaboratory.intrinsic+json": {
              "type": "string"
            }
          },
          "metadata": {},
          "execution_count": 86
        }
      ]
    },
    {
      "cell_type": "code",
      "source": [
        "reverse_words(\"Mr Ding\")"
      ],
      "metadata": {
        "colab": {
          "base_uri": "https://localhost:8080/",
          "height": 35
        },
        "id": "9P1S_karJvYd",
        "outputId": "092161c2-6300-4fed-93c7-dc10847a92a3"
      },
      "id": "9P1S_karJvYd",
      "execution_count": 87,
      "outputs": [
        {
          "output_type": "execute_result",
          "data": {
            "text/plain": [
              "'rM gniD'"
            ],
            "application/vnd.google.colaboratory.intrinsic+json": {
              "type": "string"
            }
          },
          "metadata": {},
          "execution_count": 87
        }
      ]
    },
    {
      "cell_type": "markdown",
      "source": [
        "### Reverse Only Letters"
      ],
      "metadata": {
        "id": "bU-SnbZ4Wkho"
      },
      "id": "bU-SnbZ4Wkho"
    },
    {
      "cell_type": "code",
      "source": [
        "\"a\".isalpha()"
      ],
      "metadata": {
        "colab": {
          "base_uri": "https://localhost:8080/"
        },
        "id": "Nr65g8thbCoB",
        "outputId": "8757c625-9fb3-433f-9955-626c4b0c378e"
      },
      "id": "Nr65g8thbCoB",
      "execution_count": 88,
      "outputs": [
        {
          "output_type": "execute_result",
          "data": {
            "text/plain": [
              "True"
            ]
          },
          "metadata": {},
          "execution_count": 88
        }
      ]
    },
    {
      "cell_type": "code",
      "source": [
        "\"1\".isalpha()"
      ],
      "metadata": {
        "colab": {
          "base_uri": "https://localhost:8080/"
        },
        "id": "b8eyXeTmbFHJ",
        "outputId": "9e3fc842-ab6d-461d-fcd8-8f278d944de3"
      },
      "id": "b8eyXeTmbFHJ",
      "execution_count": 89,
      "outputs": [
        {
          "output_type": "execute_result",
          "data": {
            "text/plain": [
              "False"
            ]
          },
          "metadata": {},
          "execution_count": 89
        }
      ]
    },
    {
      "cell_type": "code",
      "source": [
        "\"-\".isalpha()"
      ],
      "metadata": {
        "colab": {
          "base_uri": "https://localhost:8080/"
        },
        "id": "El8VEvWGbHjS",
        "outputId": "233a2bd4-8d9a-425c-ca2c-239cb2e87a3f"
      },
      "id": "El8VEvWGbHjS",
      "execution_count": 90,
      "outputs": [
        {
          "output_type": "execute_result",
          "data": {
            "text/plain": [
              "False"
            ]
          },
          "metadata": {},
          "execution_count": 90
        }
      ]
    },
    {
      "cell_type": "code",
      "source": [
        "def reverse_only_letters(s):\n",
        "    s = list(s)\n",
        "    left = 0\n",
        "    right = len(s) - 1\n",
        "    while left < right:\n",
        "        if s[left].isalpha() and s[right].isalpha():\n",
        "            s[left], s[right] = s[right], s[left]\n",
        "            left += 1\n",
        "            right -= 1\n",
        "        if not s[left].isalpha():\n",
        "            left += 1\n",
        "        if not s[right].isalpha():\n",
        "            right -= 1\n",
        "    return \"\".join(s)"
      ],
      "metadata": {
        "id": "WZiK4k0VeEi8"
      },
      "id": "WZiK4k0VeEi8",
      "execution_count": 91,
      "outputs": []
    },
    {
      "cell_type": "code",
      "source": [
        "reverse_only_letters(\"ab-cd\")"
      ],
      "metadata": {
        "colab": {
          "base_uri": "https://localhost:8080/",
          "height": 35
        },
        "id": "3Qf20ATDZCFD",
        "outputId": "728496d6-3560-423c-8849-972e7a5f317c"
      },
      "id": "3Qf20ATDZCFD",
      "execution_count": 92,
      "outputs": [
        {
          "output_type": "execute_result",
          "data": {
            "text/plain": [
              "'dc-ba'"
            ],
            "application/vnd.google.colaboratory.intrinsic+json": {
              "type": "string"
            }
          },
          "metadata": {},
          "execution_count": 92
        }
      ]
    },
    {
      "cell_type": "code",
      "source": [
        "reverse_only_letters(\"a-bC-dEf-ghIj\")"
      ],
      "metadata": {
        "colab": {
          "base_uri": "https://localhost:8080/",
          "height": 35
        },
        "id": "BaBIHrOnZHRh",
        "outputId": "3e12cd43-8539-4e45-b1b4-905a593463d3"
      },
      "id": "BaBIHrOnZHRh",
      "execution_count": 93,
      "outputs": [
        {
          "output_type": "execute_result",
          "data": {
            "text/plain": [
              "'j-Ih-gfE-dCba'"
            ],
            "application/vnd.google.colaboratory.intrinsic+json": {
              "type": "string"
            }
          },
          "metadata": {},
          "execution_count": 93
        }
      ]
    },
    {
      "cell_type": "code",
      "source": [
        "reverse_only_letters(\"Test1ng-Leet=code-Q!\")"
      ],
      "metadata": {
        "colab": {
          "base_uri": "https://localhost:8080/",
          "height": 35
        },
        "id": "IkjSDxW6ZNXU",
        "outputId": "f00c0a41-e372-4dfa-c5ab-1992ad6a4222"
      },
      "id": "IkjSDxW6ZNXU",
      "execution_count": 94,
      "outputs": [
        {
          "output_type": "execute_result",
          "data": {
            "text/plain": [
              "'Qedo1ct-eeLg=ntse-T!'"
            ],
            "application/vnd.google.colaboratory.intrinsic+json": {
              "type": "string"
            }
          },
          "metadata": {},
          "execution_count": 94
        }
      ]
    },
    {
      "cell_type": "markdown",
      "source": [
        "### Minimum Common Value"
      ],
      "metadata": {
        "id": "lJzz4WDjejdx"
      },
      "id": "lJzz4WDjejdx"
    },
    {
      "cell_type": "code",
      "source": [
        "set1 = set([1, 2, 3, 4, 5])\n",
        "set2 = set([3, 4, 5, 6, 7])\n",
        "intersection = set1.intersection(set2)\n",
        "intersection"
      ],
      "metadata": {
        "colab": {
          "base_uri": "https://localhost:8080/"
        },
        "id": "ZUvM98Vk3IoS",
        "outputId": "f9d25093-f357-476c-b96f-f24e025f2bdf"
      },
      "id": "ZUvM98Vk3IoS",
      "execution_count": 95,
      "outputs": [
        {
          "output_type": "execute_result",
          "data": {
            "text/plain": [
              "{3, 4, 5}"
            ]
          },
          "metadata": {},
          "execution_count": 95
        }
      ]
    },
    {
      "cell_type": "code",
      "source": [
        "min(intersection)"
      ],
      "metadata": {
        "colab": {
          "base_uri": "https://localhost:8080/"
        },
        "id": "qqwQ3Se_3U78",
        "outputId": "59d4cf81-af1d-46ac-d417-2060865fddd6"
      },
      "id": "qqwQ3Se_3U78",
      "execution_count": 96,
      "outputs": [
        {
          "output_type": "execute_result",
          "data": {
            "text/plain": [
              "3"
            ]
          },
          "metadata": {},
          "execution_count": 96
        }
      ]
    },
    {
      "cell_type": "code",
      "source": [
        "len({})"
      ],
      "metadata": {
        "colab": {
          "base_uri": "https://localhost:8080/"
        },
        "id": "DLlymyZl3XNA",
        "outputId": "d3eb35a4-e767-47f0-d20d-cc1f4593ea77"
      },
      "id": "DLlymyZl3XNA",
      "execution_count": 97,
      "outputs": [
        {
          "output_type": "execute_result",
          "data": {
            "text/plain": [
              "0"
            ]
          },
          "metadata": {},
          "execution_count": 97
        }
      ]
    },
    {
      "cell_type": "code",
      "source": [
        "# Pythonic approach:\n",
        "def get_common(nums1, nums2):\n",
        "    nums1 = set(nums1)\n",
        "    nums2 = set(nums2)\n",
        "    intersection = nums1.intersection(nums2)\n",
        "    if len(intersection) == 0:\n",
        "        return -1\n",
        "    else:\n",
        "        return min(intersection)"
      ],
      "metadata": {
        "id": "X-b1Vht93ZvH"
      },
      "id": "X-b1Vht93ZvH",
      "execution_count": 98,
      "outputs": []
    },
    {
      "cell_type": "code",
      "source": [
        "nums1 = [1, 2, 3]\n",
        "nums2 = [2, 4]\n",
        "get_common(nums1, nums2)"
      ],
      "metadata": {
        "colab": {
          "base_uri": "https://localhost:8080/"
        },
        "id": "m7BHLA7fkNEZ",
        "outputId": "f8a114a9-e2ff-4aed-987f-df36e0ab91b7"
      },
      "id": "m7BHLA7fkNEZ",
      "execution_count": 99,
      "outputs": [
        {
          "output_type": "execute_result",
          "data": {
            "text/plain": [
              "2"
            ]
          },
          "metadata": {},
          "execution_count": 99
        }
      ]
    },
    {
      "cell_type": "code",
      "source": [
        "nums1 = [1, 2, 3, 6]\n",
        "nums2 = [2, 3, 4, 5]\n",
        "get_common(nums1, nums2)"
      ],
      "metadata": {
        "colab": {
          "base_uri": "https://localhost:8080/"
        },
        "id": "VxupVr0Fj0ei",
        "outputId": "29ec1f33-521c-4aac-e102-6ef74ec9e7a8"
      },
      "id": "VxupVr0Fj0ei",
      "execution_count": 100,
      "outputs": [
        {
          "output_type": "execute_result",
          "data": {
            "text/plain": [
              "2"
            ]
          },
          "metadata": {},
          "execution_count": 100
        }
      ]
    },
    {
      "cell_type": "code",
      "source": [
        "# DSA approach:\n",
        "def get_common(nums1, nums2):\n",
        "    left = right = 0\n",
        "    while left < len(nums1) and right < len(nums2):\n",
        "        if nums1[left] < nums2[right]:\n",
        "            left += 1\n",
        "        elif nums1[left] > nums2[right]:\n",
        "            right += 1\n",
        "        else:\n",
        "            return nums1[left]\n",
        "    return -1"
      ],
      "metadata": {
        "id": "xubLs1TU311n"
      },
      "id": "xubLs1TU311n",
      "execution_count": 101,
      "outputs": []
    },
    {
      "cell_type": "code",
      "source": [
        "nums1 = [1, 2, 3]\n",
        "nums2 = [2, 4]\n",
        "get_common(nums1, nums2)"
      ],
      "metadata": {
        "colab": {
          "base_uri": "https://localhost:8080/"
        },
        "id": "UOaSdHVVm_Az",
        "outputId": "c2e6ecbb-8728-44fc-aa10-70b60a566df7"
      },
      "id": "UOaSdHVVm_Az",
      "execution_count": 102,
      "outputs": [
        {
          "output_type": "execute_result",
          "data": {
            "text/plain": [
              "2"
            ]
          },
          "metadata": {},
          "execution_count": 102
        }
      ]
    },
    {
      "cell_type": "code",
      "source": [
        "nums1 = [1, 2, 3, 6]\n",
        "nums2 = [2, 3, 4, 5]\n",
        "get_common(nums1, nums2)"
      ],
      "metadata": {
        "colab": {
          "base_uri": "https://localhost:8080/"
        },
        "id": "iZIgqiAWnBck",
        "outputId": "d853e4d9-eeea-4420-ad59-0066d5060857"
      },
      "id": "iZIgqiAWnBck",
      "execution_count": 103,
      "outputs": [
        {
          "output_type": "execute_result",
          "data": {
            "text/plain": [
              "2"
            ]
          },
          "metadata": {},
          "execution_count": 103
        }
      ]
    },
    {
      "cell_type": "markdown",
      "source": [
        "### Move Zeroes"
      ],
      "metadata": {
        "id": "iEjesguxn_Gw"
      },
      "id": "iEjesguxn_Gw"
    },
    {
      "cell_type": "code",
      "source": [
        "# With copy allowed, it's easy. But copy is not allowed!\n",
        "def move_zeroes(nums):\n",
        "    non_zero_nums = []\n",
        "    zero_counter = 0\n",
        "    for num in nums:\n",
        "        if num != 0:\n",
        "            non_zero_nums.append(num)\n",
        "        else:\n",
        "            zero_counter += 1\n",
        "    nums = non_zero_nums + [0] * zero_counter # This isn't inplace.\n",
        "    print(nums)"
      ],
      "metadata": {
        "id": "QHzyb4caiqW9"
      },
      "id": "QHzyb4caiqW9",
      "execution_count": 104,
      "outputs": []
    },
    {
      "cell_type": "code",
      "source": [
        "nums = [0, 1, 0, 3, 12]\n",
        "move_zeroes(nums)\n",
        "nums"
      ],
      "metadata": {
        "colab": {
          "base_uri": "https://localhost:8080/"
        },
        "id": "o1AT5x630hfr",
        "outputId": "4bc99e76-868a-438d-86ad-06932f3d5ba6"
      },
      "id": "o1AT5x630hfr",
      "execution_count": 105,
      "outputs": [
        {
          "output_type": "stream",
          "name": "stdout",
          "text": [
            "[1, 3, 12, 0, 0]\n"
          ]
        },
        {
          "output_type": "execute_result",
          "data": {
            "text/plain": [
              "[0, 1, 0, 3, 12]"
            ]
          },
          "metadata": {},
          "execution_count": 105
        }
      ]
    },
    {
      "cell_type": "code",
      "source": [
        "# Inplace version:\n",
        "def move_zeroes(nums):\n",
        "    for i in range(len(nums)):\n",
        "        if nums[i] == 0:\n",
        "            for j in range(i, len(nums)): # Find the nearest non-zero value to the right of i.\n",
        "            # Note: We're starting from i to avoid out-of-bounds error when i == len(nums) - 1.\n",
        "                if nums[j] != 0:\n",
        "                    nums[i], nums[j] = nums[j], nums[i]\n",
        "                    break"
      ],
      "metadata": {
        "id": "2gT1JrlZjXZO"
      },
      "id": "2gT1JrlZjXZO",
      "execution_count": 106,
      "outputs": []
    },
    {
      "cell_type": "markdown",
      "source": [
        "This algorithm has a time complexity of $O(n^2)$ and a space complexity of $O(1)$."
      ],
      "metadata": {
        "id": "CA2OxzOWGumq"
      },
      "id": "CA2OxzOWGumq"
    },
    {
      "cell_type": "code",
      "source": [
        "nums = [0, 1, 0, 3, 12]\n",
        "move_zeroes(nums)\n",
        "nums"
      ],
      "metadata": {
        "colab": {
          "base_uri": "https://localhost:8080/"
        },
        "id": "KkrA6uJNxXxx",
        "outputId": "33164474-4bbf-46a0-f1e5-c3512809437f"
      },
      "id": "KkrA6uJNxXxx",
      "execution_count": 107,
      "outputs": [
        {
          "output_type": "execute_result",
          "data": {
            "text/plain": [
              "[1, 3, 12, 0, 0]"
            ]
          },
          "metadata": {},
          "execution_count": 107
        }
      ]
    },
    {
      "cell_type": "code",
      "source": [
        "nums = [1, 0, 1]\n",
        "move_zeroes(nums)\n",
        "nums"
      ],
      "metadata": {
        "id": "gvgtRbu_xdXr",
        "colab": {
          "base_uri": "https://localhost:8080/"
        },
        "outputId": "7d032041-3321-44e2-d9be-dc900a4bd94d"
      },
      "id": "gvgtRbu_xdXr",
      "execution_count": 108,
      "outputs": [
        {
          "output_type": "execute_result",
          "data": {
            "text/plain": [
              "[1, 1, 0]"
            ]
          },
          "metadata": {},
          "execution_count": 108
        }
      ]
    },
    {
      "cell_type": "code",
      "source": [
        "# Efficient version using two pointers:\n",
        "def move_zeroes(nums):\n",
        "    anchor = 0\n",
        "    for explorer in range(len(nums)):\n",
        "        if nums[anchor] == 0 and nums[explorer] != 0:\n",
        "            nums[anchor], nums[explorer] = nums[explorer], nums[anchor]\n",
        "\n",
        "        if nums[anchor] != 0:\n",
        "            anchor += 1"
      ],
      "metadata": {
        "id": "4JAxB_uYlnCc"
      },
      "id": "4JAxB_uYlnCc",
      "execution_count": 109,
      "outputs": []
    },
    {
      "cell_type": "markdown",
      "source": [
        "**Intuition:** The explorer always moves, but the anchor moves only if it's a non-zero value. A swap happens if the anchor is a zero value and the explorer is a non-zero value.\n",
        "\n",
        "This algorithm has a time complexity of $O(n)$ and a space complexity of $O(1)$."
      ],
      "metadata": {
        "id": "CJLFKGaoUXi3"
      },
      "id": "CJLFKGaoUXi3"
    },
    {
      "cell_type": "code",
      "source": [
        "nums = [0, 1, 0, 3, 12]\n",
        "move_zeroes(nums)\n",
        "nums"
      ],
      "metadata": {
        "colab": {
          "base_uri": "https://localhost:8080/"
        },
        "id": "dxuxJqu9T7zP",
        "outputId": "ad370f90-6563-4bf2-9ecb-6f352284588c"
      },
      "id": "dxuxJqu9T7zP",
      "execution_count": 110,
      "outputs": [
        {
          "output_type": "execute_result",
          "data": {
            "text/plain": [
              "[1, 3, 12, 0, 0]"
            ]
          },
          "metadata": {},
          "execution_count": 110
        }
      ]
    },
    {
      "cell_type": "code",
      "source": [
        "nums = [1, 0, 1]\n",
        "move_zeroes(nums)\n",
        "nums"
      ],
      "metadata": {
        "colab": {
          "base_uri": "https://localhost:8080/"
        },
        "id": "hMqNGGWGUAAj",
        "outputId": "4f797586-5d56-42fc-9ba5-513cf70e69af"
      },
      "id": "hMqNGGWGUAAj",
      "execution_count": 111,
      "outputs": [
        {
          "output_type": "execute_result",
          "data": {
            "text/plain": [
              "[1, 1, 0]"
            ]
          },
          "metadata": {},
          "execution_count": 111
        }
      ]
    },
    {
      "cell_type": "markdown",
      "source": [
        "### Reverse Prefix of Word"
      ],
      "metadata": {
        "id": "dKIqQPJIW1DC"
      },
      "id": "dKIqQPJIW1DC"
    },
    {
      "cell_type": "code",
      "source": [
        "# Exploratory:\n",
        "list(range(3, -1, -1))"
      ],
      "metadata": {
        "colab": {
          "base_uri": "https://localhost:8080/"
        },
        "id": "BQiLrZOYpzZ2",
        "outputId": "59f1225d-fb41-4a1b-ed8e-39046b023bc3"
      },
      "id": "BQiLrZOYpzZ2",
      "execution_count": 112,
      "outputs": [
        {
          "output_type": "execute_result",
          "data": {
            "text/plain": [
              "[3, 2, 1, 0]"
            ]
          },
          "metadata": {},
          "execution_count": 112
        }
      ]
    },
    {
      "cell_type": "code",
      "source": [
        "def reverse_prefix(word, ch):\n",
        "    if len(word) == 1:\n",
        "        return word\n",
        "    else:\n",
        "        idx = -1\n",
        "        for i in range(len(word)):\n",
        "            if word[i] == ch:\n",
        "                idx = i\n",
        "                break\n",
        "        if idx == -1:\n",
        "            return word\n",
        "        else:\n",
        "            new_word = []\n",
        "            for i in range(idx, -1, -1):\n",
        "                new_word.append(word[i])\n",
        "            if idx != len(word) - 1:\n",
        "                for i in range(idx + 1, len(word)):\n",
        "                    new_word.append(word[i])\n",
        "            return \"\".join(new_word)"
      ],
      "metadata": {
        "id": "LIb1I1nLpy2f"
      },
      "id": "LIb1I1nLpy2f",
      "execution_count": 113,
      "outputs": []
    },
    {
      "cell_type": "markdown",
      "source": [
        "This algorithm has a time complexity of $O(n)$ and a space complexity of $O(n)$."
      ],
      "metadata": {
        "id": "LynSPFHgZ5g2"
      },
      "id": "LynSPFHgZ5g2"
    },
    {
      "cell_type": "code",
      "source": [
        "word = \"abcdefd\"\n",
        "ch = \"d\"\n",
        "reverse_prefix(word, ch)"
      ],
      "metadata": {
        "colab": {
          "base_uri": "https://localhost:8080/",
          "height": 35
        },
        "id": "GMdnIj_MYZ7Q",
        "outputId": "a0fd1264-6d7b-4de3-94f8-affb11d271a8"
      },
      "id": "GMdnIj_MYZ7Q",
      "execution_count": 114,
      "outputs": [
        {
          "output_type": "execute_result",
          "data": {
            "text/plain": [
              "'dcbaefd'"
            ],
            "application/vnd.google.colaboratory.intrinsic+json": {
              "type": "string"
            }
          },
          "metadata": {},
          "execution_count": 114
        }
      ]
    },
    {
      "cell_type": "code",
      "source": [
        "word = \"xyxzxe\"\n",
        "ch = \"z\"\n",
        "reverse_prefix(word, ch)"
      ],
      "metadata": {
        "colab": {
          "base_uri": "https://localhost:8080/",
          "height": 35
        },
        "id": "_MIFzX8xYgDT",
        "outputId": "dd3d9b15-b3e2-403e-e221-5684484866bd"
      },
      "id": "_MIFzX8xYgDT",
      "execution_count": 115,
      "outputs": [
        {
          "output_type": "execute_result",
          "data": {
            "text/plain": [
              "'zxyxxe'"
            ],
            "application/vnd.google.colaboratory.intrinsic+json": {
              "type": "string"
            }
          },
          "metadata": {},
          "execution_count": 115
        }
      ]
    },
    {
      "cell_type": "markdown",
      "source": [
        "### Minimum Size Subarray Sum"
      ],
      "metadata": {
        "id": "FFc4efo8LqQD"
      },
      "id": "FFc4efo8LqQD"
    },
    {
      "cell_type": "code",
      "source": [
        "import math\n",
        "\n",
        "def min_sub_array_len(target, nums):\n",
        "    left = window_sum = 0\n",
        "    ans = math.inf\n",
        "    for right in range(len(nums)):\n",
        "        window_sum += nums[right]\n",
        "        while window_sum >= target:\n",
        "            ans = min(ans, right - left + 1)\n",
        "            window_sum -= nums[left]\n",
        "            left += 1\n",
        "    return ans if ans != math.inf else 0"
      ],
      "metadata": {
        "id": "xe0opnI6r232"
      },
      "id": "xe0opnI6r232",
      "execution_count": 116,
      "outputs": []
    },
    {
      "cell_type": "markdown",
      "source": [
        "**Note:** The above while condition is checking for validity, not invalidity. On the other hand, the while condition in Example 1 of the **Sliding window** section was checking for invalidity. Hence, in that example, the answer update statement was placed after the while loop ended (when we had a valid window). Whereas in this problem, the answer update statement is placed inside & at the beginning of the while block (because the while loop will be entered only if the window is valid). Since we're looking for the minimum length, we need to update the answer & then shorten the window when the window is valid. And then check the while condition again...\n",
        "\n",
        "This algorithm has a time complexity of $O(n)$ and a space complexity of $O(1)$."
      ],
      "metadata": {
        "id": "gGdZgE4VVbAa"
      },
      "id": "gGdZgE4VVbAa"
    },
    {
      "cell_type": "code",
      "source": [
        "min_sub_array_len(7, [2, 3, 1, 2, 4, 3])"
      ],
      "metadata": {
        "colab": {
          "base_uri": "https://localhost:8080/"
        },
        "id": "G7yVpXcVVF-n",
        "outputId": "2516dab9-d723-4440-cc7b-18df2f52da93"
      },
      "id": "G7yVpXcVVF-n",
      "execution_count": 117,
      "outputs": [
        {
          "output_type": "execute_result",
          "data": {
            "text/plain": [
              "2"
            ]
          },
          "metadata": {},
          "execution_count": 117
        }
      ]
    },
    {
      "cell_type": "code",
      "source": [
        "min_sub_array_len(4, [1, 4, 4])"
      ],
      "metadata": {
        "colab": {
          "base_uri": "https://localhost:8080/"
        },
        "id": "sxZk4XKmVMqL",
        "outputId": "519c8638-4a40-43d3-cd0e-4a2f10f2ba73"
      },
      "id": "sxZk4XKmVMqL",
      "execution_count": 118,
      "outputs": [
        {
          "output_type": "execute_result",
          "data": {
            "text/plain": [
              "1"
            ]
          },
          "metadata": {},
          "execution_count": 118
        }
      ]
    },
    {
      "cell_type": "code",
      "source": [
        "min_sub_array_len(11, [1, 1, 1, 1, 1, 1, 1, 1])"
      ],
      "metadata": {
        "colab": {
          "base_uri": "https://localhost:8080/"
        },
        "id": "yPYIEtKeVS9-",
        "outputId": "9e7c2331-ba30-40c6-c2da-d9b5dd51f1c2"
      },
      "id": "yPYIEtKeVS9-",
      "execution_count": 119,
      "outputs": [
        {
          "output_type": "execute_result",
          "data": {
            "text/plain": [
              "0"
            ]
          },
          "metadata": {},
          "execution_count": 119
        }
      ]
    },
    {
      "cell_type": "markdown",
      "source": [
        "### Maximum Number of Vowels in a Substring of Given Length"
      ],
      "metadata": {
        "id": "0du-coTjdo-3"
      },
      "id": "0du-coTjdo-3"
    },
    {
      "cell_type": "code",
      "source": [
        "def max_vowels(s, k):\n",
        "    vowels = ['a', 'e', 'i', 'o', 'u']\n",
        "    curr = 0\n",
        "    for i in range(k):\n",
        "        if s[i] in vowels:\n",
        "            curr += 1\n",
        "    ans = curr\n",
        "    if i == len(s) - 1:\n",
        "        return ans\n",
        "    else:\n",
        "        for i in range(k, len(s)):\n",
        "            if s[i] in vowels:\n",
        "                curr += 1\n",
        "            if s[i - k] in vowels:\n",
        "                curr -= 1\n",
        "            ans = max(ans, curr)\n",
        "    return ans"
      ],
      "metadata": {
        "id": "LLoiWNUfSeeS"
      },
      "id": "LLoiWNUfSeeS",
      "execution_count": 120,
      "outputs": []
    },
    {
      "cell_type": "markdown",
      "source": [
        "This algorithm has a time complexity of $O(n)$ and a space complexity of $O(1)$."
      ],
      "metadata": {
        "id": "ApOAhAwot750"
      },
      "id": "ApOAhAwot750"
    },
    {
      "cell_type": "code",
      "source": [
        "s = \"abciiidef\"\n",
        "k = 3\n",
        "max_vowels(s, k)"
      ],
      "metadata": {
        "colab": {
          "base_uri": "https://localhost:8080/"
        },
        "id": "AbWSjCEKtN9U",
        "outputId": "fed6f83c-8094-4db9-d080-61cf57f77883"
      },
      "id": "AbWSjCEKtN9U",
      "execution_count": 121,
      "outputs": [
        {
          "output_type": "execute_result",
          "data": {
            "text/plain": [
              "3"
            ]
          },
          "metadata": {},
          "execution_count": 121
        }
      ]
    },
    {
      "cell_type": "code",
      "source": [
        "s = \"aeiou\"\n",
        "k = 2\n",
        "max_vowels(s, k)"
      ],
      "metadata": {
        "colab": {
          "base_uri": "https://localhost:8080/"
        },
        "id": "zIliPKFVtTwl",
        "outputId": "6c3398dd-bdcc-48ea-d79b-996fefcefe74"
      },
      "id": "zIliPKFVtTwl",
      "execution_count": 122,
      "outputs": [
        {
          "output_type": "execute_result",
          "data": {
            "text/plain": [
              "2"
            ]
          },
          "metadata": {},
          "execution_count": 122
        }
      ]
    },
    {
      "cell_type": "code",
      "source": [
        "s = \"leetcode\"\n",
        "k = 3\n",
        "max_vowels(s, k)"
      ],
      "metadata": {
        "colab": {
          "base_uri": "https://localhost:8080/"
        },
        "id": "QbbAex9OtZP5",
        "outputId": "acee7e9e-eda8-4dc9-bb7c-13ca00797232"
      },
      "id": "QbbAex9OtZP5",
      "execution_count": 123,
      "outputs": [
        {
          "output_type": "execute_result",
          "data": {
            "text/plain": [
              "2"
            ]
          },
          "metadata": {},
          "execution_count": 123
        }
      ]
    },
    {
      "cell_type": "markdown",
      "source": [
        "### Get Equal Substrings Within Budget"
      ],
      "metadata": {
        "id": "u3_qnQZavGT9"
      },
      "id": "u3_qnQZavGT9"
    },
    {
      "cell_type": "code",
      "source": [
        "ord('a')"
      ],
      "metadata": {
        "colab": {
          "base_uri": "https://localhost:8080/"
        },
        "id": "pAQO54vTtdsa",
        "outputId": "d7736791-9b2d-4f7b-f340-9b857a9f4512"
      },
      "id": "pAQO54vTtdsa",
      "execution_count": 124,
      "outputs": [
        {
          "output_type": "execute_result",
          "data": {
            "text/plain": [
              "97"
            ]
          },
          "metadata": {},
          "execution_count": 124
        }
      ]
    },
    {
      "cell_type": "code",
      "source": [
        "ord('b')"
      ],
      "metadata": {
        "colab": {
          "base_uri": "https://localhost:8080/"
        },
        "id": "tNmylR5JvwCI",
        "outputId": "75322426-c0da-4748-ad52-857d3ee23df5"
      },
      "id": "tNmylR5JvwCI",
      "execution_count": 125,
      "outputs": [
        {
          "output_type": "execute_result",
          "data": {
            "text/plain": [
              "98"
            ]
          },
          "metadata": {},
          "execution_count": 125
        }
      ]
    },
    {
      "cell_type": "code",
      "source": [
        "abs(ord('a') - ord('b'))"
      ],
      "metadata": {
        "colab": {
          "base_uri": "https://localhost:8080/"
        },
        "id": "K6AJH6QZwBhf",
        "outputId": "190701ac-6b4d-48b7-d476-1a9424b249d5"
      },
      "id": "K6AJH6QZwBhf",
      "execution_count": 126,
      "outputs": [
        {
          "output_type": "execute_result",
          "data": {
            "text/plain": [
              "1"
            ]
          },
          "metadata": {},
          "execution_count": 126
        }
      ]
    },
    {
      "cell_type": "code",
      "source": [
        "def equal_substring(s, t, max_cost):\n",
        "    left = curr = ans = 0\n",
        "    for right in range(len(s)):\n",
        "        curr += abs(ord(s[right]) - ord(t[right]))\n",
        "        while curr > max_cost:\n",
        "            curr -= abs(ord(s[left]) - ord(t[left]))\n",
        "            left += 1\n",
        "        ans = max(ans, right - left + 1)\n",
        "    return ans"
      ],
      "metadata": {
        "id": "9Pl91-iuwGzu"
      },
      "id": "9Pl91-iuwGzu",
      "execution_count": 127,
      "outputs": []
    },
    {
      "cell_type": "markdown",
      "source": [
        "This algorithm has a time complexity of $O(n)$ and a space complexity of $O(1)$."
      ],
      "metadata": {
        "id": "fs5FnR5-4t-t"
      },
      "id": "fs5FnR5-4t-t"
    },
    {
      "cell_type": "code",
      "source": [
        "s = \"abcd\"\n",
        "t = \"bcdf\"\n",
        "max_cost = 3\n",
        "equal_substring(s, t, max_cost)"
      ],
      "metadata": {
        "colab": {
          "base_uri": "https://localhost:8080/"
        },
        "id": "cHsV7k7XzuHI",
        "outputId": "887226f4-2747-408b-9c83-8a7a84b54202"
      },
      "id": "cHsV7k7XzuHI",
      "execution_count": 128,
      "outputs": [
        {
          "output_type": "execute_result",
          "data": {
            "text/plain": [
              "3"
            ]
          },
          "metadata": {},
          "execution_count": 128
        }
      ]
    },
    {
      "cell_type": "code",
      "source": [
        "s = \"abcd\"\n",
        "t = \"cdef\"\n",
        "max_cost = 3\n",
        "equal_substring(s, t, max_cost)"
      ],
      "metadata": {
        "colab": {
          "base_uri": "https://localhost:8080/"
        },
        "id": "vrn_26Inz5Ki",
        "outputId": "82fc06f4-09e1-4e67-e952-63fad9c90759"
      },
      "id": "vrn_26Inz5Ki",
      "execution_count": 129,
      "outputs": [
        {
          "output_type": "execute_result",
          "data": {
            "text/plain": [
              "1"
            ]
          },
          "metadata": {},
          "execution_count": 129
        }
      ]
    },
    {
      "cell_type": "code",
      "source": [
        "s = \"abcd\"\n",
        "t = \"acde\"\n",
        "max_cost = 0\n",
        "equal_substring(s, t, max_cost)"
      ],
      "metadata": {
        "colab": {
          "base_uri": "https://localhost:8080/"
        },
        "id": "88cd_i-O0Fmn",
        "outputId": "424371da-a18a-4b43-d0b4-e24eafbd3c41"
      },
      "id": "88cd_i-O0Fmn",
      "execution_count": 130,
      "outputs": [
        {
          "output_type": "execute_result",
          "data": {
            "text/plain": [
              "1"
            ]
          },
          "metadata": {},
          "execution_count": 130
        }
      ]
    },
    {
      "cell_type": "markdown",
      "source": [
        "### Find the Highest Altitude"
      ],
      "metadata": {
        "id": "9KvNHeOPfPgt"
      },
      "id": "9KvNHeOPfPgt"
    },
    {
      "cell_type": "code",
      "source": [
        "def largest_altitude(gain):\n",
        "    alt = largest = 0\n",
        "    for g in gain:\n",
        "        alt += g\n",
        "        largest = max(largest, alt)\n",
        "    return largest"
      ],
      "metadata": {
        "id": "_qT2J5QN0OLf"
      },
      "id": "_qT2J5QN0OLf",
      "execution_count": 131,
      "outputs": []
    },
    {
      "cell_type": "markdown",
      "source": [
        "This algorithm has a time complexity of $O(n)$ and a space complexity of $O(1)$."
      ],
      "metadata": {
        "id": "abxpDzXHhnSf"
      },
      "id": "abxpDzXHhnSf"
    },
    {
      "cell_type": "code",
      "source": [
        "largest_altitude([-5, 1, 5, 0, -7])"
      ],
      "metadata": {
        "colab": {
          "base_uri": "https://localhost:8080/"
        },
        "id": "YfXcPCz1hYrh",
        "outputId": "ce4a1e4d-fd77-49b1-aece-3c1b15da0b8b"
      },
      "id": "YfXcPCz1hYrh",
      "execution_count": 132,
      "outputs": [
        {
          "output_type": "execute_result",
          "data": {
            "text/plain": [
              "1"
            ]
          },
          "metadata": {},
          "execution_count": 132
        }
      ]
    },
    {
      "cell_type": "code",
      "source": [
        "largest_altitude([-4, -3, -2, -1, 4, 3, 2])"
      ],
      "metadata": {
        "colab": {
          "base_uri": "https://localhost:8080/"
        },
        "id": "RD_6vpwehf6a",
        "outputId": "341ed638-e444-4c64-f144-69b44e38dbaa"
      },
      "id": "RD_6vpwehf6a",
      "execution_count": 133,
      "outputs": [
        {
          "output_type": "execute_result",
          "data": {
            "text/plain": [
              "0"
            ]
          },
          "metadata": {},
          "execution_count": 133
        }
      ]
    },
    {
      "cell_type": "markdown",
      "source": [
        "### Find Pivot Index"
      ],
      "metadata": {
        "id": "KxD07Ns4q8gh"
      },
      "id": "KxD07Ns4q8gh"
    },
    {
      "cell_type": "code",
      "source": [
        "def pivot_index(nums):\n",
        "    left_sums = [0]\n",
        "    right_sums = [0]\n",
        "\n",
        "    for i in range(0, len(nums) - 1):\n",
        "        left_sums.append(nums[i] + left_sums[-1])\n",
        "\n",
        "    for i in range(len(nums) - 1, 0, -1):\n",
        "        right_sums.append(nums[i] + right_sums[-1])\n",
        "    right_sums = right_sums[::-1]\n",
        "\n",
        "    for i in range(len(left_sums)):\n",
        "        if left_sums[i] == right_sums[i]:\n",
        "            return i\n",
        "\n",
        "    return -1"
      ],
      "metadata": {
        "id": "KPJy4k3Uhl3l"
      },
      "id": "KPJy4k3Uhl3l",
      "execution_count": 134,
      "outputs": []
    },
    {
      "cell_type": "markdown",
      "source": [
        "This algorithm has a time complexity of $O(n)$ and a space complexity of $O(n)$."
      ],
      "metadata": {
        "id": "QwQMQCojs6nA"
      },
      "id": "QwQMQCojs6nA"
    },
    {
      "cell_type": "code",
      "source": [
        "nums = [1, 7, 3, 6, 5, 6]\n",
        "pivot_index(nums)"
      ],
      "metadata": {
        "colab": {
          "base_uri": "https://localhost:8080/"
        },
        "id": "YHJXE3yxskfJ",
        "outputId": "3768d03f-647a-42b7-a9dd-9c79236b635a"
      },
      "id": "YHJXE3yxskfJ",
      "execution_count": 135,
      "outputs": [
        {
          "output_type": "execute_result",
          "data": {
            "text/plain": [
              "3"
            ]
          },
          "metadata": {},
          "execution_count": 135
        }
      ]
    },
    {
      "cell_type": "code",
      "source": [
        "nums = [1, 2, 3]\n",
        "pivot_index(nums)"
      ],
      "metadata": {
        "colab": {
          "base_uri": "https://localhost:8080/"
        },
        "id": "H5yDDPSMsqoG",
        "outputId": "532b059a-c197-4679-b521-034dfe939279"
      },
      "id": "H5yDDPSMsqoG",
      "execution_count": 136,
      "outputs": [
        {
          "output_type": "execute_result",
          "data": {
            "text/plain": [
              "-1"
            ]
          },
          "metadata": {},
          "execution_count": 136
        }
      ]
    },
    {
      "cell_type": "code",
      "source": [
        "nums = [2, 1, -1]\n",
        "pivot_index(nums)"
      ],
      "metadata": {
        "colab": {
          "base_uri": "https://localhost:8080/"
        },
        "id": "q6kw9ohwsviF",
        "outputId": "93a6b2ce-a962-4796-c969-493dc03faad5"
      },
      "id": "q6kw9ohwsviF",
      "execution_count": 137,
      "outputs": [
        {
          "output_type": "execute_result",
          "data": {
            "text/plain": [
              "0"
            ]
          },
          "metadata": {},
          "execution_count": 137
        }
      ]
    },
    {
      "cell_type": "markdown",
      "source": [
        "### Range Sum Query - Immutable"
      ],
      "metadata": {
        "id": "ODdbOYKqrNT3"
      },
      "id": "ODdbOYKqrNT3"
    },
    {
      "cell_type": "code",
      "source": [
        "class NumArray:\n",
        "    def __init__(self, nums):\n",
        "        self.nums = nums\n",
        "        self.prefix_sums = [nums[0]]\n",
        "        if len(nums) > 0:\n",
        "            for i in range(1, len(nums)):\n",
        "                self.prefix_sums.append(nums[i] + self.prefix_sums[-1])\n",
        "\n",
        "    def sum_range(self, left, right):\n",
        "        return self.prefix_sums[right] - self.prefix_sums[left] + self.nums[left]"
      ],
      "metadata": {
        "id": "AEwmxWZ6s0Qc"
      },
      "id": "AEwmxWZ6s0Qc",
      "execution_count": 138,
      "outputs": []
    },
    {
      "cell_type": "markdown",
      "source": [
        "This algorithm has a time complexity of $O(n)$ and a space complexity of $O(n)$."
      ],
      "metadata": {
        "id": "-qvgAWFsssel"
      },
      "id": "-qvgAWFsssel"
    },
    {
      "cell_type": "code",
      "source": [
        "num_array = NumArray([-2, 0, 3, -5, 2, -1])"
      ],
      "metadata": {
        "id": "1Gx1CM4ysRZk"
      },
      "id": "1Gx1CM4ysRZk",
      "execution_count": 139,
      "outputs": []
    },
    {
      "cell_type": "code",
      "source": [
        "num_array.sum_range(0, 2)"
      ],
      "metadata": {
        "colab": {
          "base_uri": "https://localhost:8080/"
        },
        "id": "zZRI5KtDsXf1",
        "outputId": "fa4e0b52-267e-4952-a230-5082bed43415"
      },
      "id": "zZRI5KtDsXf1",
      "execution_count": 140,
      "outputs": [
        {
          "output_type": "execute_result",
          "data": {
            "text/plain": [
              "1"
            ]
          },
          "metadata": {},
          "execution_count": 140
        }
      ]
    },
    {
      "cell_type": "code",
      "source": [
        "num_array.sum_range(2, 5)"
      ],
      "metadata": {
        "colab": {
          "base_uri": "https://localhost:8080/"
        },
        "id": "z31zer5IschM",
        "outputId": "3a2a1028-8d8e-402d-916f-5e9414aa535f"
      },
      "id": "z31zer5IschM",
      "execution_count": 141,
      "outputs": [
        {
          "output_type": "execute_result",
          "data": {
            "text/plain": [
              "-1"
            ]
          },
          "metadata": {},
          "execution_count": 141
        }
      ]
    },
    {
      "cell_type": "code",
      "source": [
        "num_array.sum_range(0, 5)"
      ],
      "metadata": {
        "colab": {
          "base_uri": "https://localhost:8080/"
        },
        "id": "TSojX15Mskef",
        "outputId": "a09dfb7f-b2a0-48fe-b16e-5e5b35ffb7c4"
      },
      "id": "TSojX15Mskef",
      "execution_count": 142,
      "outputs": [
        {
          "output_type": "execute_result",
          "data": {
            "text/plain": [
              "-3"
            ]
          },
          "metadata": {},
          "execution_count": 142
        }
      ]
    },
    {
      "cell_type": "code",
      "source": [],
      "metadata": {
        "id": "5K53gYSbspUu"
      },
      "id": "5K53gYSbspUu",
      "execution_count": 142,
      "outputs": []
    }
  ],
  "metadata": {
    "kernelspec": {
      "display_name": "Python 3 (ipykernel)",
      "language": "python",
      "name": "python3"
    },
    "language_info": {
      "codemirror_mode": {
        "name": "ipython",
        "version": 3
      },
      "file_extension": ".py",
      "mimetype": "text/x-python",
      "name": "python",
      "nbconvert_exporter": "python",
      "pygments_lexer": "ipython3",
      "version": "3.11.5"
    },
    "colab": {
      "provenance": []
    }
  },
  "nbformat": 4,
  "nbformat_minor": 5
}