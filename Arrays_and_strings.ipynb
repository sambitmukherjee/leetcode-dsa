{
  "cells": [
    {
      "cell_type": "markdown",
      "source": [
        "# Arrays and strings"
      ],
      "metadata": {
        "id": "5fFRUGLwtjVT"
      },
      "id": "5fFRUGLwtjVT"
    },
    {
      "cell_type": "code",
      "source": [
        "arr = []\n",
        "arr"
      ],
      "metadata": {
        "colab": {
          "base_uri": "https://localhost:8080/"
        },
        "id": "AoQpAJ_AJWn5",
        "outputId": "3e62abbc-8eab-4b94-945c-e96b3a05a5a9"
      },
      "id": "AoQpAJ_AJWn5",
      "execution_count": 1,
      "outputs": [
        {
          "output_type": "execute_result",
          "data": {
            "text/plain": [
              "[]"
            ]
          },
          "metadata": {},
          "execution_count": 1
        }
      ]
    },
    {
      "cell_type": "markdown",
      "source": [
        "This costs $O(1)$."
      ],
      "metadata": {
        "id": "IiNJN8bZJcr4"
      },
      "id": "IiNJN8bZJcr4"
    },
    {
      "cell_type": "code",
      "source": [
        "arr = [\"a\", \"b\", \"c\"]\n",
        "arr"
      ],
      "metadata": {
        "colab": {
          "base_uri": "https://localhost:8080/"
        },
        "id": "OrfXcd39KIVS",
        "outputId": "5a35bb7b-e9b5-431c-b043-6427cb0e4507"
      },
      "id": "OrfXcd39KIVS",
      "execution_count": 2,
      "outputs": [
        {
          "output_type": "execute_result",
          "data": {
            "text/plain": [
              "['a', 'b', 'c']"
            ]
          },
          "metadata": {},
          "execution_count": 2
        }
      ]
    },
    {
      "cell_type": "markdown",
      "source": [
        "This costs $O(n)$. This may look like a single operation. But under the hood, $n$ operations are being performed."
      ],
      "metadata": {
        "id": "qnOF3L2YFGJa"
      },
      "id": "qnOF3L2YFGJa"
    },
    {
      "cell_type": "code",
      "source": [
        "s = \"abc\"\n",
        "s"
      ],
      "metadata": {
        "colab": {
          "base_uri": "https://localhost:8080/",
          "height": 35
        },
        "id": "aBoSUy6uKQGl",
        "outputId": "2e68d41c-d56c-4c9f-94f7-33ef2db451d6"
      },
      "id": "aBoSUy6uKQGl",
      "execution_count": 3,
      "outputs": [
        {
          "output_type": "execute_result",
          "data": {
            "text/plain": [
              "'abc'"
            ],
            "application/vnd.google.colaboratory.intrinsic+json": {
              "type": "string"
            }
          },
          "metadata": {},
          "execution_count": 3
        }
      ]
    },
    {
      "cell_type": "markdown",
      "source": [
        "This costs $O(n)$. This may look like a single operation. But under the hood, $n$ operations are being performed."
      ],
      "metadata": {
        "id": "MktuZfE6FKDB"
      },
      "id": "MktuZfE6FKDB"
    },
    {
      "cell_type": "code",
      "source": [
        "arr[2] = \"d\"\n",
        "arr"
      ],
      "metadata": {
        "colab": {
          "base_uri": "https://localhost:8080/"
        },
        "id": "xmOW_tYeKS51",
        "outputId": "cfc4ca45-2fa7-452a-e1cd-23988000fc81"
      },
      "id": "xmOW_tYeKS51",
      "execution_count": 4,
      "outputs": [
        {
          "output_type": "execute_result",
          "data": {
            "text/plain": [
              "['a', 'b', 'd']"
            ]
          },
          "metadata": {},
          "execution_count": 4
        }
      ]
    },
    {
      "cell_type": "markdown",
      "source": [
        "This costs $O(1)$."
      ],
      "metadata": {
        "id": "FJa9ZOehE7M3"
      },
      "id": "FJa9ZOehE7M3"
    },
    {
      "cell_type": "code",
      "source": [
        "try:\n",
        "    s[2] = \"d\"\n",
        "except TypeError as e:\n",
        "    print(e)"
      ],
      "metadata": {
        "colab": {
          "base_uri": "https://localhost:8080/"
        },
        "id": "4z4O98vYKVrs",
        "outputId": "f313827f-88a4-4611-9d7a-3e46143c9753"
      },
      "id": "4z4O98vYKVrs",
      "execution_count": 5,
      "outputs": [
        {
          "output_type": "stream",
          "name": "stdout",
          "text": [
            "'str' object does not support item assignment\n"
          ]
        }
      ]
    },
    {
      "cell_type": "code",
      "source": [
        "s = \"abd\"\n",
        "s"
      ],
      "metadata": {
        "colab": {
          "base_uri": "https://localhost:8080/",
          "height": 35
        },
        "id": "0KkuzHsVKbQf",
        "outputId": "31dc9aa7-886f-4558-bbd8-ba7cb99e1a32"
      },
      "id": "0KkuzHsVKbQf",
      "execution_count": 6,
      "outputs": [
        {
          "output_type": "execute_result",
          "data": {
            "text/plain": [
              "'abd'"
            ],
            "application/vnd.google.colaboratory.intrinsic+json": {
              "type": "string"
            }
          },
          "metadata": {},
          "execution_count": 6
        }
      ]
    },
    {
      "cell_type": "markdown",
      "source": [
        "This costs $O(n)$."
      ],
      "metadata": {
        "id": "mxDglV6OFAW1"
      },
      "id": "mxDglV6OFAW1"
    },
    {
      "cell_type": "markdown",
      "source": [
        "Operations and their time complexities:\n",
        "\n",
        "**Appending to end:**\n",
        "\n",
        "- List: $O(1)$\n",
        "- String: $O(n)$\n",
        "\n",
        "**Popping from end:**\n",
        "\n",
        "- List: $O(1)$\n",
        "- String: $O(n)$\n",
        "\n",
        "**Insertion, not from end:**\n",
        "\n",
        "- List: $O(n)$\n",
        "- String: $O(n)$\n",
        "\n",
        "**Deletion, not from end:**\n",
        "\n",
        "- List: $O(n)$\n",
        "- String: $O(n)$\n",
        "\n",
        "**Modifying an element:**\n",
        "\n",
        "- List: $O(1)$\n",
        "- String: $O(n)$\n",
        "\n",
        "**Random access:**\n",
        "\n",
        "- List: $O(1)$\n",
        "- String: $O(1)$\n",
        "\n",
        "**Checking if element exists:**\n",
        "\n",
        "- List: $O(n)$\n",
        "- String: $O(n)$"
      ],
      "metadata": {
        "id": "HjkM3LOmLeoj"
      },
      "id": "HjkM3LOmLeoj"
    },
    {
      "cell_type": "markdown",
      "source": [
        "## Two pointers"
      ],
      "metadata": {
        "id": "Z4KjFwGHwKfu"
      },
      "id": "Z4KjFwGHwKfu"
    },
    {
      "cell_type": "markdown",
      "source": [
        "### Example 1"
      ],
      "metadata": {
        "id": "G1oBb4TU4mTF"
      },
      "id": "G1oBb4TU4mTF"
    },
    {
      "cell_type": "code",
      "source": [
        "def check_if_palindrome(s):\n",
        "    left = 0\n",
        "    right = len(s) - 1\n",
        "    while left < right:\n",
        "        if s[left] != s[right]:\n",
        "            return False\n",
        "        left += 1\n",
        "        right -= 1\n",
        "    return True"
      ],
      "metadata": {
        "id": "22pRvDTWl8Vj"
      },
      "id": "22pRvDTWl8Vj",
      "execution_count": 7,
      "outputs": []
    },
    {
      "cell_type": "markdown",
      "source": [
        "This algorithm has a time complexity of $O(n)$ and a space complexity of $O(1)$."
      ],
      "metadata": {
        "id": "DZ-HR0UR1F0z"
      },
      "id": "DZ-HR0UR1F0z"
    },
    {
      "cell_type": "code",
      "source": [
        "check_if_palindrome(\"racecar\")"
      ],
      "metadata": {
        "colab": {
          "base_uri": "https://localhost:8080/"
        },
        "id": "e5WTTU6OmYS9",
        "outputId": "95f35878-642a-4957-f7b9-180210b6a1b5"
      },
      "id": "e5WTTU6OmYS9",
      "execution_count": 8,
      "outputs": [
        {
          "output_type": "execute_result",
          "data": {
            "text/plain": [
              "True"
            ]
          },
          "metadata": {},
          "execution_count": 8
        }
      ]
    },
    {
      "cell_type": "code",
      "source": [
        "check_if_palindrome(\"carcar\")"
      ],
      "metadata": {
        "colab": {
          "base_uri": "https://localhost:8080/"
        },
        "id": "tXAsY3Ktmb6E",
        "outputId": "2c2ad766-bb88-44ee-c64b-e754775d9407"
      },
      "id": "tXAsY3Ktmb6E",
      "execution_count": 9,
      "outputs": [
        {
          "output_type": "execute_result",
          "data": {
            "text/plain": [
              "False"
            ]
          },
          "metadata": {},
          "execution_count": 9
        }
      ]
    },
    {
      "cell_type": "markdown",
      "source": [
        "### Example 2"
      ],
      "metadata": {
        "id": "w9c-7Ijm4qjX"
      },
      "id": "w9c-7Ijm4qjX"
    },
    {
      "cell_type": "code",
      "source": [
        "nums = [1, 2, 4, 6, 8, 9, 14, 15]\n",
        "target = 13"
      ],
      "metadata": {
        "id": "bbyCzHQam4xb"
      },
      "id": "bbyCzHQam4xb",
      "execution_count": 10,
      "outputs": []
    },
    {
      "cell_type": "code",
      "source": [
        "def check_for_target(nums, target):\n",
        "    left = 0\n",
        "    right = len(nums) - 1\n",
        "    while left < right:\n",
        "        curr = nums[left] + nums[right]\n",
        "        if curr == target:\n",
        "            return True\n",
        "        elif curr > target:\n",
        "            right -= 1\n",
        "        else:\n",
        "            left += 1\n",
        "    return False"
      ],
      "metadata": {
        "id": "c01c_1ZOnabN"
      },
      "id": "c01c_1ZOnabN",
      "execution_count": 11,
      "outputs": []
    },
    {
      "cell_type": "markdown",
      "source": [
        "This algorithm has a time complexity of $O(n)$ and a space complexity of $O(1)$."
      ],
      "metadata": {
        "id": "eMAEYebo3-Cj"
      },
      "id": "eMAEYebo3-Cj"
    },
    {
      "cell_type": "code",
      "source": [
        "check_for_target(nums, target)"
      ],
      "metadata": {
        "colab": {
          "base_uri": "https://localhost:8080/"
        },
        "id": "BsYEX3KXpZML",
        "outputId": "379115d1-54bc-4999-d35c-cfa8be47c3d9"
      },
      "id": "BsYEX3KXpZML",
      "execution_count": 12,
      "outputs": [
        {
          "output_type": "execute_result",
          "data": {
            "text/plain": [
              "True"
            ]
          },
          "metadata": {},
          "execution_count": 12
        }
      ]
    },
    {
      "cell_type": "code",
      "source": [
        "check_for_target([1, 2, 4, 6, 8, 14, 15], target)"
      ],
      "metadata": {
        "colab": {
          "base_uri": "https://localhost:8080/"
        },
        "id": "ptVNReurpgWj",
        "outputId": "4e093a79-36ed-41ea-b511-a2cfa9b3eab5"
      },
      "id": "ptVNReurpgWj",
      "execution_count": 13,
      "outputs": [
        {
          "output_type": "execute_result",
          "data": {
            "text/plain": [
              "False"
            ]
          },
          "metadata": {},
          "execution_count": 13
        }
      ]
    },
    {
      "cell_type": "markdown",
      "source": [
        "### Another way to use two pointers"
      ],
      "metadata": {
        "id": "5bpLK_Oz4HW-"
      },
      "id": "5bpLK_Oz4HW-"
    },
    {
      "cell_type": "markdown",
      "source": [
        "### Example 3"
      ],
      "metadata": {
        "id": "sOeYgmtbBNyN"
      },
      "id": "sOeYgmtbBNyN"
    },
    {
      "cell_type": "code",
      "source": [
        "def combine(arr1, arr2):\n",
        "    ans = []\n",
        "    i = j = 0\n",
        "    while i < len(arr1) and j < len(arr2):\n",
        "        if arr1[i] < arr2[j]:\n",
        "            ans.append(arr1[i])\n",
        "            i += 1\n",
        "        else:\n",
        "            ans.append(arr2[j])\n",
        "            j += 1\n",
        "\n",
        "    while i < len(arr1):\n",
        "        ans.append(arr1[i])\n",
        "        i += 1\n",
        "\n",
        "    while j < len(arr2):\n",
        "        ans.append(arr2[j])\n",
        "        j += 1\n",
        "\n",
        "    return ans"
      ],
      "metadata": {
        "id": "-5hv8_6JMtXI"
      },
      "id": "-5hv8_6JMtXI",
      "execution_count": 14,
      "outputs": []
    },
    {
      "cell_type": "markdown",
      "source": [
        "This algorithm has a time complexity of $O(n + m)$, and a space complexity of $O(1)$ (if we don't count the output as extra space, which we usually don't)."
      ],
      "metadata": {
        "id": "4oVQjcGOCtvB"
      },
      "id": "4oVQjcGOCtvB"
    },
    {
      "cell_type": "code",
      "source": [
        "combine([1, 4, 7, 20], [3, 5, 6])"
      ],
      "metadata": {
        "colab": {
          "base_uri": "https://localhost:8080/"
        },
        "id": "Gi06w9-WQSrw",
        "outputId": "49888360-13ff-42b1-dcdc-eb4933350458"
      },
      "id": "Gi06w9-WQSrw",
      "execution_count": 15,
      "outputs": [
        {
          "output_type": "execute_result",
          "data": {
            "text/plain": [
              "[1, 3, 4, 5, 6, 7, 20]"
            ]
          },
          "metadata": {},
          "execution_count": 15
        }
      ]
    },
    {
      "cell_type": "markdown",
      "source": [
        "### Example 4"
      ],
      "metadata": {
        "id": "7KTPfM4yDYT-"
      },
      "id": "7KTPfM4yDYT-"
    },
    {
      "cell_type": "code",
      "source": [
        "def is_subsequence(s, t):\n",
        "    i = j = 0\n",
        "    while i < len(s) and j < len(t):\n",
        "        if s[i] == t[j]:\n",
        "            i += 1\n",
        "        j += 1\n",
        "    return i == len(s)"
      ],
      "metadata": {
        "id": "vCvUjBboQeGm"
      },
      "id": "vCvUjBboQeGm",
      "execution_count": 16,
      "outputs": []
    },
    {
      "cell_type": "markdown",
      "source": [
        "In other words, if we go through all the characters in `t` but not all the characters in `s`, then `s` is not a subsequence of `t`.\n",
        "\n",
        "This algorithm has a time complexity of $O(m)$ and a space complexity of $O(1)$."
      ],
      "metadata": {
        "id": "FXtTziaBF4JE"
      },
      "id": "FXtTziaBF4JE"
    },
    {
      "cell_type": "code",
      "source": [
        "is_subsequence(\"ace\", \"abcde\")"
      ],
      "metadata": {
        "colab": {
          "base_uri": "https://localhost:8080/"
        },
        "id": "f0V204y1SczA",
        "outputId": "026621a6-23a5-48a2-f71c-dd9b747fddea"
      },
      "id": "f0V204y1SczA",
      "execution_count": 17,
      "outputs": [
        {
          "output_type": "execute_result",
          "data": {
            "text/plain": [
              "True"
            ]
          },
          "metadata": {},
          "execution_count": 17
        }
      ]
    },
    {
      "cell_type": "code",
      "source": [
        "is_subsequence(\"ace\", \"abcdf\")"
      ],
      "metadata": {
        "colab": {
          "base_uri": "https://localhost:8080/"
        },
        "id": "XAIK_l80SgwD",
        "outputId": "e170257a-5aa7-411b-8580-1016f1c95e83"
      },
      "id": "XAIK_l80SgwD",
      "execution_count": 18,
      "outputs": [
        {
          "output_type": "execute_result",
          "data": {
            "text/plain": [
              "False"
            ]
          },
          "metadata": {},
          "execution_count": 18
        }
      ]
    },
    {
      "cell_type": "markdown",
      "source": [
        "### Reverse String"
      ],
      "metadata": {
        "id": "fJ1EZmUxn7RG"
      },
      "id": "fJ1EZmUxn7RG"
    },
    {
      "cell_type": "code",
      "source": [
        "def reverse_string(s):\n",
        "    i = 0\n",
        "    j = len(s) - 1\n",
        "    while i < j:\n",
        "        temp = s[i]\n",
        "        s[i] = s[j]\n",
        "        s[j] = temp\n",
        "        i += 1\n",
        "        j -= 1"
      ],
      "metadata": {
        "id": "VHFlmIvsSlwa"
      },
      "id": "VHFlmIvsSlwa",
      "execution_count": 19,
      "outputs": []
    },
    {
      "cell_type": "markdown",
      "source": [
        "This algorithm has a time complexity of $O(n)$ and a space complexity of $O(1)$."
      ],
      "metadata": {
        "id": "fjp3U8C1i2xQ"
      },
      "id": "fjp3U8C1i2xQ"
    },
    {
      "cell_type": "code",
      "source": [
        "s = [\"h\", \"e\", \"l\", \"l\", \"o\"]\n",
        "reverse_string(s)"
      ],
      "metadata": {
        "id": "wUqNe9NTsagz"
      },
      "id": "wUqNe9NTsagz",
      "execution_count": 20,
      "outputs": []
    },
    {
      "cell_type": "markdown",
      "source": [
        "**Note:** In Python, immutable objects are passed by value, whereas mutable objects are passed by reference."
      ],
      "metadata": {
        "id": "xxC9Z4yNdZxs"
      },
      "id": "xxC9Z4yNdZxs"
    },
    {
      "cell_type": "code",
      "source": [
        "s"
      ],
      "metadata": {
        "colab": {
          "base_uri": "https://localhost:8080/"
        },
        "id": "em65X_TCcLa6",
        "outputId": "f0a48470-59e5-4d53-83a3-67a9452c0b14"
      },
      "id": "em65X_TCcLa6",
      "execution_count": 21,
      "outputs": [
        {
          "output_type": "execute_result",
          "data": {
            "text/plain": [
              "['o', 'l', 'l', 'e', 'h']"
            ]
          },
          "metadata": {},
          "execution_count": 21
        }
      ]
    },
    {
      "cell_type": "code",
      "source": [
        "s = [\"H\", \"a\", \"n\", \"n\", \"a\", \"h\"]\n",
        "reverse_string(s)"
      ],
      "metadata": {
        "id": "qiCZt1-xcQu3"
      },
      "id": "qiCZt1-xcQu3",
      "execution_count": 22,
      "outputs": []
    },
    {
      "cell_type": "code",
      "source": [
        "s"
      ],
      "metadata": {
        "colab": {
          "base_uri": "https://localhost:8080/"
        },
        "id": "-jmgwfqEdXfG",
        "outputId": "257e2ba7-409c-4be0-c5b7-85b8692e5b9d"
      },
      "id": "-jmgwfqEdXfG",
      "execution_count": 23,
      "outputs": [
        {
          "output_type": "execute_result",
          "data": {
            "text/plain": [
              "['h', 'a', 'n', 'n', 'a', 'H']"
            ]
          },
          "metadata": {},
          "execution_count": 23
        }
      ]
    },
    {
      "cell_type": "markdown",
      "source": [
        "### Squares of a Sorted Array"
      ],
      "metadata": {
        "id": "416hb9WHeb6J"
      },
      "id": "416hb9WHeb6J"
    },
    {
      "cell_type": "code",
      "source": [
        "import math\n",
        "\n",
        "def sorted_squares(nums):\n",
        "    if len(nums) == 1: # Test case: [-1]\n",
        "        return [nums[0]**2]\n",
        "    else:\n",
        "        ans = []\n",
        "        min_position = 0\n",
        "        min_value = math.inf\n",
        "        for i in range(len(nums)):\n",
        "            if nums[i]**2 < min_value:\n",
        "                min_value = nums[i]**2\n",
        "                min_position = i\n",
        "        if min_position == len(nums) - 1: # Test case: [-4, -1, 0]\n",
        "            i = len(nums) - 1\n",
        "            while i >= 0:\n",
        "                ans.append(nums[i]**2)\n",
        "                i -= 1\n",
        "        elif min_position == 0: # Test case: [0, 3, 10]\n",
        "            i = 0\n",
        "            while i <= len(nums) - 1:\n",
        "                ans.append(nums[i]**2)\n",
        "                i += 1\n",
        "        else: # Test case: [-4, -1, 0, 3, 10]\n",
        "            ans.append(nums[min_position]**2)\n",
        "            i = min_position - 1\n",
        "            j = min_position + 1\n",
        "            while i >= 0 and j <= len(nums) - 1:\n",
        "                if nums[i]**2 < nums[j]**2:\n",
        "                    ans.append(nums[i]**2)\n",
        "                    i -= 1\n",
        "                else:\n",
        "                    ans.append(nums[j]**2)\n",
        "                    j += 1\n",
        "            while i >= 0:\n",
        "                ans.append(nums[i]**2)\n",
        "                i -= 1\n",
        "            while j <= len(nums) - 1:\n",
        "                ans.append(nums[j]**2)\n",
        "                j += 1\n",
        "        return ans"
      ],
      "metadata": {
        "id": "WJb2pfZMbo9_"
      },
      "id": "WJb2pfZMbo9_",
      "execution_count": 24,
      "outputs": []
    },
    {
      "cell_type": "markdown",
      "source": [
        "This algorithm has a time complexity of $O(n)$ and a space complexity of $O(1)$, excluding the output."
      ],
      "metadata": {
        "id": "2IMWdOlvsFwW"
      },
      "id": "2IMWdOlvsFwW"
    },
    {
      "cell_type": "code",
      "source": [
        "sorted_squares([-1])"
      ],
      "metadata": {
        "colab": {
          "base_uri": "https://localhost:8080/"
        },
        "id": "o0NpkmXPoAwH",
        "outputId": "876fd6e4-6d27-492f-e0dc-91c4a5f3a9a8"
      },
      "id": "o0NpkmXPoAwH",
      "execution_count": 25,
      "outputs": [
        {
          "output_type": "execute_result",
          "data": {
            "text/plain": [
              "[1]"
            ]
          },
          "metadata": {},
          "execution_count": 25
        }
      ]
    },
    {
      "cell_type": "code",
      "source": [
        "sorted_squares([-4, -1, 0])"
      ],
      "metadata": {
        "colab": {
          "base_uri": "https://localhost:8080/"
        },
        "id": "DercwF6kpIxN",
        "outputId": "aeafa12d-f005-46ca-c342-1574c76d6d72"
      },
      "id": "DercwF6kpIxN",
      "execution_count": 26,
      "outputs": [
        {
          "output_type": "execute_result",
          "data": {
            "text/plain": [
              "[0, 1, 16]"
            ]
          },
          "metadata": {},
          "execution_count": 26
        }
      ]
    },
    {
      "cell_type": "code",
      "source": [
        "sorted_squares([0, 3, 10])"
      ],
      "metadata": {
        "colab": {
          "base_uri": "https://localhost:8080/"
        },
        "id": "H26volM7pNH8",
        "outputId": "02eb7808-9487-4578-b774-56a2c45d79a7"
      },
      "id": "H26volM7pNH8",
      "execution_count": 27,
      "outputs": [
        {
          "output_type": "execute_result",
          "data": {
            "text/plain": [
              "[0, 9, 100]"
            ]
          },
          "metadata": {},
          "execution_count": 27
        }
      ]
    },
    {
      "cell_type": "code",
      "source": [
        "sorted_squares([-4, -1, 0, 3, 10])"
      ],
      "metadata": {
        "colab": {
          "base_uri": "https://localhost:8080/"
        },
        "id": "N5309Ld8rM4c",
        "outputId": "6b6df358-d87c-4a14-fa93-1b758ac67d9a"
      },
      "id": "N5309Ld8rM4c",
      "execution_count": 28,
      "outputs": [
        {
          "output_type": "execute_result",
          "data": {
            "text/plain": [
              "[0, 1, 9, 16, 100]"
            ]
          },
          "metadata": {},
          "execution_count": 28
        }
      ]
    },
    {
      "cell_type": "markdown",
      "source": [
        "## Sliding window"
      ],
      "metadata": {
        "id": "oYvakJHWE1JO"
      },
      "id": "oYvakJHWE1JO"
    },
    {
      "cell_type": "markdown",
      "source": [
        "### Example 1"
      ],
      "metadata": {
        "id": "HJ3lMwQdcxjy"
      },
      "id": "HJ3lMwQdcxjy"
    },
    {
      "cell_type": "code",
      "source": [
        "nums = [3, 1, 2, 7, 4, 2, 1, 1, 5]\n",
        "k = 8"
      ],
      "metadata": {
        "id": "j2CRh-KVMCYl"
      },
      "id": "j2CRh-KVMCYl",
      "execution_count": 29,
      "outputs": []
    },
    {
      "cell_type": "code",
      "source": [
        "def find_length(nums, k):\n",
        "    left = curr = ans = 0\n",
        "    for right in range(len(nums)):\n",
        "        curr += nums[right]\n",
        "        while curr > k:\n",
        "            curr -= nums[left]\n",
        "            left += 1\n",
        "        ans = max(ans, right - left + 1)\n",
        "    return ans"
      ],
      "metadata": {
        "id": "mM7XhdIDT1-0"
      },
      "id": "mM7XhdIDT1-0",
      "execution_count": 30,
      "outputs": []
    },
    {
      "cell_type": "markdown",
      "source": [
        "This algorithm has a time complexity of $O(n)$ and a space complexity of $O(1)$."
      ],
      "metadata": {
        "id": "4-0ZqLjWRo_Q"
      },
      "id": "4-0ZqLjWRo_Q"
    },
    {
      "cell_type": "code",
      "source": [
        "find_length(nums, k)"
      ],
      "metadata": {
        "colab": {
          "base_uri": "https://localhost:8080/"
        },
        "id": "k_cD_xWCRj_A",
        "outputId": "47aaefc6-346e-43b8-cd09-478074c8e89f"
      },
      "id": "k_cD_xWCRj_A",
      "execution_count": 31,
      "outputs": [
        {
          "output_type": "execute_result",
          "data": {
            "text/plain": [
              "4"
            ]
          },
          "metadata": {},
          "execution_count": 31
        }
      ]
    },
    {
      "cell_type": "markdown",
      "source": [
        "### Example 2"
      ],
      "metadata": {
        "id": "Kqv2PBjNYFxF"
      },
      "id": "Kqv2PBjNYFxF"
    },
    {
      "cell_type": "code",
      "source": [
        "s = \"1101100111\""
      ],
      "metadata": {
        "id": "-0fuK9z1RmEs"
      },
      "id": "-0fuK9z1RmEs",
      "execution_count": 32,
      "outputs": []
    },
    {
      "cell_type": "code",
      "source": [
        "def find_length(s):\n",
        "    left = curr = ans = 0\n",
        "    for right in range(len(s)):\n",
        "        if s[right] == \"0\":\n",
        "            curr += 1\n",
        "        while curr > 1:\n",
        "            if s[left] == \"0\":\n",
        "                curr -= 1\n",
        "            left += 1\n",
        "        ans = max(ans, right - left + 1)\n",
        "    return ans"
      ],
      "metadata": {
        "id": "vKCHKXSDCaya"
      },
      "id": "vKCHKXSDCaya",
      "execution_count": 33,
      "outputs": []
    },
    {
      "cell_type": "markdown",
      "source": [
        "This algorithm has a time complexity of $O(n)$ and a space complexity of $O(1)$."
      ],
      "metadata": {
        "id": "L7DVPm4UcQt5"
      },
      "id": "L7DVPm4UcQt5"
    },
    {
      "cell_type": "code",
      "source": [
        "find_length(s)"
      ],
      "metadata": {
        "colab": {
          "base_uri": "https://localhost:8080/"
        },
        "id": "JJTfrejwYuj_",
        "outputId": "16f5a636-8847-4faf-cd4c-e5cb6161c44d"
      },
      "id": "JJTfrejwYuj_",
      "execution_count": 34,
      "outputs": [
        {
          "output_type": "execute_result",
          "data": {
            "text/plain": [
              "5"
            ]
          },
          "metadata": {},
          "execution_count": 34
        }
      ]
    },
    {
      "cell_type": "markdown",
      "source": [
        "### Number of subarrays"
      ],
      "metadata": {
        "id": "XMpjUFcMEoSm"
      },
      "id": "XMpjUFcMEoSm"
    },
    {
      "cell_type": "markdown",
      "source": [
        "### Example 3"
      ],
      "metadata": {
        "id": "b-Wh5VB6y1HR"
      },
      "id": "b-Wh5VB6y1HR"
    },
    {
      "cell_type": "code",
      "source": [
        "nums = [10, 5, 2, 6]\n",
        "k = 100"
      ],
      "metadata": {
        "id": "SU99hI6aIrny"
      },
      "id": "SU99hI6aIrny",
      "execution_count": 35,
      "outputs": []
    },
    {
      "cell_type": "markdown",
      "source": [
        "How `//=` works:"
      ],
      "metadata": {
        "id": "InF8X3KUIaq_"
      },
      "id": "InF8X3KUIaq_"
    },
    {
      "cell_type": "code",
      "source": [
        "curr = 2 * 5\n",
        "curr /= 2\n",
        "curr"
      ],
      "metadata": {
        "colab": {
          "base_uri": "https://localhost:8080/"
        },
        "id": "kRet-X573sP1",
        "outputId": "725a43d0-c36a-40ba-f387-944312755226"
      },
      "id": "kRet-X573sP1",
      "execution_count": 36,
      "outputs": [
        {
          "output_type": "execute_result",
          "data": {
            "text/plain": [
              "5.0"
            ]
          },
          "metadata": {},
          "execution_count": 36
        }
      ]
    },
    {
      "cell_type": "code",
      "source": [
        "curr = 2 * 5\n",
        "curr //= 2\n",
        "curr"
      ],
      "metadata": {
        "colab": {
          "base_uri": "https://localhost:8080/"
        },
        "id": "NRmpzeRq4A6t",
        "outputId": "e9b93677-f83d-4dee-bc17-a0eeb6072fd6"
      },
      "id": "NRmpzeRq4A6t",
      "execution_count": 37,
      "outputs": [
        {
          "output_type": "execute_result",
          "data": {
            "text/plain": [
              "5"
            ]
          },
          "metadata": {},
          "execution_count": 37
        }
      ]
    },
    {
      "cell_type": "markdown",
      "source": [
        "However, in this solution, `/=` works as well as `//=`."
      ],
      "metadata": {
        "id": "FVNi37JJIeM5"
      },
      "id": "FVNi37JJIeM5"
    },
    {
      "cell_type": "code",
      "source": [
        "def num_subarrays_product_less_than_k(nums, k):\n",
        "    if k <= 1:\n",
        "        return 0\n",
        "    left = ans = 0\n",
        "    curr = 1\n",
        "    for right in range(len(nums)):\n",
        "        curr *= nums[right]\n",
        "        while curr >= k: # Careful: It should be `>=`, not `>`.\n",
        "            curr //= nums[left]\n",
        "            left += 1\n",
        "        ans += right - left + 1\n",
        "    return ans"
      ],
      "metadata": {
        "id": "feakieLD4Fvq"
      },
      "id": "feakieLD4Fvq",
      "execution_count": 38,
      "outputs": []
    },
    {
      "cell_type": "markdown",
      "source": [
        "This algorithm has a time complexity of $O(n)$ and a space complexity of $O(1)$."
      ],
      "metadata": {
        "id": "Tdy-UNpyJV3x"
      },
      "id": "Tdy-UNpyJV3x"
    },
    {
      "cell_type": "code",
      "source": [
        "num_subarrays_product_less_than_k(nums, k)"
      ],
      "metadata": {
        "colab": {
          "base_uri": "https://localhost:8080/"
        },
        "id": "cxD2k7Xj5OgN",
        "outputId": "f3bd5b72-5199-4072-fc90-f7e314adbda5"
      },
      "id": "cxD2k7Xj5OgN",
      "execution_count": 39,
      "outputs": [
        {
          "output_type": "execute_result",
          "data": {
            "text/plain": [
              "8"
            ]
          },
          "metadata": {},
          "execution_count": 39
        }
      ]
    },
    {
      "cell_type": "markdown",
      "source": [
        "### Fixed window size"
      ],
      "metadata": {
        "id": "y9FKh8NJ5bq9"
      },
      "id": "y9FKh8NJ5bq9"
    },
    {
      "cell_type": "markdown",
      "source": [
        "### Example 4"
      ],
      "metadata": {
        "id": "gteFWrA97BiU"
      },
      "id": "gteFWrA97BiU"
    },
    {
      "cell_type": "code",
      "source": [
        "nums = [3, -1, 4, 12, -8, 5, 6]\n",
        "k = 4"
      ],
      "metadata": {
        "id": "EuwXmKXo8gE2"
      },
      "id": "EuwXmKXo8gE2",
      "execution_count": 40,
      "outputs": []
    },
    {
      "cell_type": "code",
      "source": [
        "def find_best_subarray(nums, k):\n",
        "    curr = 0\n",
        "    for i in range(k):\n",
        "        curr += nums[i]\n",
        "    ans = curr\n",
        "    for i in range(k, len(nums)):\n",
        "        curr += nums[i] - nums[i - k]\n",
        "        ans = max(ans, curr)\n",
        "    return ans"
      ],
      "metadata": {
        "id": "SO3hf3C8Lm9L"
      },
      "id": "SO3hf3C8Lm9L",
      "execution_count": 41,
      "outputs": []
    },
    {
      "cell_type": "markdown",
      "source": [
        "This algorithm has a time complexity of $O(n)$ and a space complexity of $O(1)$."
      ],
      "metadata": {
        "id": "vVblbD4z9GNP"
      },
      "id": "vVblbD4z9GNP"
    },
    {
      "cell_type": "code",
      "source": [
        "find_best_subarray(nums, k)"
      ],
      "metadata": {
        "colab": {
          "base_uri": "https://localhost:8080/"
        },
        "id": "PbmOjJl_9CRj",
        "outputId": "30353dff-3da0-4fe6-f14f-d44791141f6a"
      },
      "id": "PbmOjJl_9CRj",
      "execution_count": 42,
      "outputs": [
        {
          "output_type": "execute_result",
          "data": {
            "text/plain": [
              "18"
            ]
          },
          "metadata": {},
          "execution_count": 42
        }
      ]
    },
    {
      "cell_type": "code",
      "source": [],
      "metadata": {
        "id": "2_yLfDcc9FPy"
      },
      "id": "2_yLfDcc9FPy",
      "execution_count": 42,
      "outputs": []
    }
  ],
  "metadata": {
    "kernelspec": {
      "display_name": "Python 3 (ipykernel)",
      "language": "python",
      "name": "python3"
    },
    "language_info": {
      "codemirror_mode": {
        "name": "ipython",
        "version": 3
      },
      "file_extension": ".py",
      "mimetype": "text/x-python",
      "name": "python",
      "nbconvert_exporter": "python",
      "pygments_lexer": "ipython3",
      "version": "3.11.5"
    },
    "colab": {
      "provenance": []
    }
  },
  "nbformat": 4,
  "nbformat_minor": 5
}