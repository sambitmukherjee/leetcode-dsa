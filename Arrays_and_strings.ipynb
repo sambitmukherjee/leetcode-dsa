{
  "cells": [
    {
      "cell_type": "markdown",
      "source": [
        "# Arrays and strings"
      ],
      "metadata": {
        "id": "5fFRUGLwtjVT"
      },
      "id": "5fFRUGLwtjVT"
    },
    {
      "cell_type": "code",
      "source": [
        "arr = []\n",
        "arr"
      ],
      "metadata": {
        "colab": {
          "base_uri": "https://localhost:8080/"
        },
        "id": "AoQpAJ_AJWn5",
        "outputId": "6d036a51-192a-437a-8fc4-4af4f7eb3699"
      },
      "id": "AoQpAJ_AJWn5",
      "execution_count": null,
      "outputs": [
        {
          "output_type": "execute_result",
          "data": {
            "text/plain": [
              "[]"
            ]
          },
          "metadata": {},
          "execution_count": 1
        }
      ]
    },
    {
      "cell_type": "markdown",
      "source": [
        "This costs $O(1)$."
      ],
      "metadata": {
        "id": "IiNJN8bZJcr4"
      },
      "id": "IiNJN8bZJcr4"
    },
    {
      "cell_type": "code",
      "source": [
        "arr = [\"a\", \"b\", \"c\"]\n",
        "arr"
      ],
      "metadata": {
        "colab": {
          "base_uri": "https://localhost:8080/"
        },
        "id": "OrfXcd39KIVS",
        "outputId": "e4b6f27c-76fb-4501-b834-115d7d6e23b7"
      },
      "id": "OrfXcd39KIVS",
      "execution_count": null,
      "outputs": [
        {
          "output_type": "execute_result",
          "data": {
            "text/plain": [
              "['a', 'b', 'c']"
            ]
          },
          "metadata": {},
          "execution_count": 2
        }
      ]
    },
    {
      "cell_type": "markdown",
      "source": [
        "This costs $O(n)$. This may look like a single operation. But under the hood, $n$ operations are being performed."
      ],
      "metadata": {
        "id": "qnOF3L2YFGJa"
      },
      "id": "qnOF3L2YFGJa"
    },
    {
      "cell_type": "code",
      "source": [
        "s = \"abc\"\n",
        "s"
      ],
      "metadata": {
        "colab": {
          "base_uri": "https://localhost:8080/",
          "height": 35
        },
        "id": "aBoSUy6uKQGl",
        "outputId": "39ffa6dc-21b5-42b6-9285-2efd43dc1746"
      },
      "id": "aBoSUy6uKQGl",
      "execution_count": null,
      "outputs": [
        {
          "output_type": "execute_result",
          "data": {
            "text/plain": [
              "'abc'"
            ],
            "application/vnd.google.colaboratory.intrinsic+json": {
              "type": "string"
            }
          },
          "metadata": {},
          "execution_count": 3
        }
      ]
    },
    {
      "cell_type": "markdown",
      "source": [
        "This costs $O(n)$. This may look like a single operation. But under the hood, $n$ operations are being performed."
      ],
      "metadata": {
        "id": "MktuZfE6FKDB"
      },
      "id": "MktuZfE6FKDB"
    },
    {
      "cell_type": "code",
      "source": [
        "arr[2] = \"d\"\n",
        "arr"
      ],
      "metadata": {
        "colab": {
          "base_uri": "https://localhost:8080/"
        },
        "id": "xmOW_tYeKS51",
        "outputId": "5bc9b4e5-9f71-4367-ffa6-5b6d818773c0"
      },
      "id": "xmOW_tYeKS51",
      "execution_count": null,
      "outputs": [
        {
          "output_type": "execute_result",
          "data": {
            "text/plain": [
              "['a', 'b', 'd']"
            ]
          },
          "metadata": {},
          "execution_count": 4
        }
      ]
    },
    {
      "cell_type": "markdown",
      "source": [
        "This costs $O(1)$."
      ],
      "metadata": {
        "id": "FJa9ZOehE7M3"
      },
      "id": "FJa9ZOehE7M3"
    },
    {
      "cell_type": "code",
      "source": [
        "try:\n",
        "    s[2] = \"d\"\n",
        "except TypeError as e:\n",
        "    print(e)"
      ],
      "metadata": {
        "colab": {
          "base_uri": "https://localhost:8080/"
        },
        "id": "4z4O98vYKVrs",
        "outputId": "f0a72dbc-b379-44b0-a5fc-53c6482764c7"
      },
      "id": "4z4O98vYKVrs",
      "execution_count": null,
      "outputs": [
        {
          "output_type": "stream",
          "name": "stdout",
          "text": [
            "'str' object does not support item assignment\n"
          ]
        }
      ]
    },
    {
      "cell_type": "code",
      "source": [
        "s = \"abd\"\n",
        "s"
      ],
      "metadata": {
        "colab": {
          "base_uri": "https://localhost:8080/",
          "height": 35
        },
        "id": "0KkuzHsVKbQf",
        "outputId": "517a58da-0429-4983-d8a0-5a31fd870782"
      },
      "id": "0KkuzHsVKbQf",
      "execution_count": null,
      "outputs": [
        {
          "output_type": "execute_result",
          "data": {
            "text/plain": [
              "'abd'"
            ],
            "application/vnd.google.colaboratory.intrinsic+json": {
              "type": "string"
            }
          },
          "metadata": {},
          "execution_count": 6
        }
      ]
    },
    {
      "cell_type": "markdown",
      "source": [
        "This costs $O(n)$."
      ],
      "metadata": {
        "id": "mxDglV6OFAW1"
      },
      "id": "mxDglV6OFAW1"
    },
    {
      "cell_type": "markdown",
      "source": [
        "Operations and their time complexities:\n",
        "\n",
        "**Appending to end:**\n",
        "\n",
        "- List: $O(1)$\n",
        "- String: $O(n)$\n",
        "\n",
        "**Popping from end:**\n",
        "\n",
        "- List: $O(1)$\n",
        "- String: $O(n)$\n",
        "\n",
        "**Insertion, not from end:**\n",
        "\n",
        "- List: $O(n)$\n",
        "- String: $O(n)$\n",
        "\n",
        "**Deletion, not from end:**\n",
        "\n",
        "- List: $O(n)$\n",
        "- String: $O(n)$\n",
        "\n",
        "**Modifying an element:**\n",
        "\n",
        "- List: $O(1)$\n",
        "- String: $O(n)$\n",
        "\n",
        "**Random access:**\n",
        "\n",
        "- List: $O(1)$\n",
        "- String: $O(1)$\n",
        "\n",
        "**Checking if element exists:**\n",
        "\n",
        "- List: $O(n)$\n",
        "- String: $O(n)$"
      ],
      "metadata": {
        "id": "HjkM3LOmLeoj"
      },
      "id": "HjkM3LOmLeoj"
    },
    {
      "cell_type": "markdown",
      "source": [
        "## Two pointers"
      ],
      "metadata": {
        "id": "Z4KjFwGHwKfu"
      },
      "id": "Z4KjFwGHwKfu"
    },
    {
      "cell_type": "markdown",
      "source": [
        "### Example 1"
      ],
      "metadata": {
        "id": "G1oBb4TU4mTF"
      },
      "id": "G1oBb4TU4mTF"
    },
    {
      "cell_type": "code",
      "source": [
        "def check_if_palindrome(s):\n",
        "    left = 0\n",
        "    right = len(s) - 1\n",
        "    while left < right:\n",
        "        if s[left] != s[right]:\n",
        "            return False\n",
        "        left += 1\n",
        "        right -= 1\n",
        "    return True"
      ],
      "metadata": {
        "id": "22pRvDTWl8Vj"
      },
      "id": "22pRvDTWl8Vj",
      "execution_count": null,
      "outputs": []
    },
    {
      "cell_type": "markdown",
      "source": [
        "This algorithm has a time complexity of $O(n)$ and a space complexity of $O(1)$."
      ],
      "metadata": {
        "id": "DZ-HR0UR1F0z"
      },
      "id": "DZ-HR0UR1F0z"
    },
    {
      "cell_type": "code",
      "source": [
        "check_if_palindrome(\"racecar\")"
      ],
      "metadata": {
        "colab": {
          "base_uri": "https://localhost:8080/"
        },
        "id": "e5WTTU6OmYS9",
        "outputId": "59e493c8-7dde-4d19-f425-96b6b3929284"
      },
      "id": "e5WTTU6OmYS9",
      "execution_count": null,
      "outputs": [
        {
          "output_type": "execute_result",
          "data": {
            "text/plain": [
              "True"
            ]
          },
          "metadata": {},
          "execution_count": 8
        }
      ]
    },
    {
      "cell_type": "code",
      "source": [
        "check_if_palindrome(\"carcar\")"
      ],
      "metadata": {
        "colab": {
          "base_uri": "https://localhost:8080/"
        },
        "id": "tXAsY3Ktmb6E",
        "outputId": "7721dd71-42d1-403c-c5b7-0b9ca04d0256"
      },
      "id": "tXAsY3Ktmb6E",
      "execution_count": null,
      "outputs": [
        {
          "output_type": "execute_result",
          "data": {
            "text/plain": [
              "False"
            ]
          },
          "metadata": {},
          "execution_count": 9
        }
      ]
    },
    {
      "cell_type": "markdown",
      "source": [
        "### Example 2"
      ],
      "metadata": {
        "id": "w9c-7Ijm4qjX"
      },
      "id": "w9c-7Ijm4qjX"
    },
    {
      "cell_type": "code",
      "source": [
        "nums = [1, 2, 4, 6, 8, 9, 14, 15]\n",
        "target = 13"
      ],
      "metadata": {
        "id": "bbyCzHQam4xb"
      },
      "id": "bbyCzHQam4xb",
      "execution_count": null,
      "outputs": []
    },
    {
      "cell_type": "code",
      "source": [
        "def check_for_target(nums, target):\n",
        "    left = 0\n",
        "    right = len(nums) - 1\n",
        "    while left < right:\n",
        "        curr = nums[left] + nums[right]\n",
        "        if curr == target:\n",
        "            return True\n",
        "        elif curr > target:\n",
        "            right -= 1\n",
        "        else:\n",
        "            left += 1\n",
        "    return False"
      ],
      "metadata": {
        "id": "c01c_1ZOnabN"
      },
      "id": "c01c_1ZOnabN",
      "execution_count": null,
      "outputs": []
    },
    {
      "cell_type": "markdown",
      "source": [
        "This algorithm has a time complexity of $O(n)$ and a space complexity of $O(1)$."
      ],
      "metadata": {
        "id": "eMAEYebo3-Cj"
      },
      "id": "eMAEYebo3-Cj"
    },
    {
      "cell_type": "code",
      "source": [
        "check_for_target(nums, target)"
      ],
      "metadata": {
        "colab": {
          "base_uri": "https://localhost:8080/"
        },
        "id": "BsYEX3KXpZML",
        "outputId": "fe18fe39-3ff1-44dc-baa8-22c57c6bde71"
      },
      "id": "BsYEX3KXpZML",
      "execution_count": null,
      "outputs": [
        {
          "output_type": "execute_result",
          "data": {
            "text/plain": [
              "True"
            ]
          },
          "metadata": {},
          "execution_count": 12
        }
      ]
    },
    {
      "cell_type": "code",
      "source": [
        "check_for_target([1, 2, 4, 6, 8, 14, 15], target)"
      ],
      "metadata": {
        "colab": {
          "base_uri": "https://localhost:8080/"
        },
        "id": "ptVNReurpgWj",
        "outputId": "922889f2-9398-4a0f-985f-eb07330973cb"
      },
      "id": "ptVNReurpgWj",
      "execution_count": null,
      "outputs": [
        {
          "output_type": "execute_result",
          "data": {
            "text/plain": [
              "False"
            ]
          },
          "metadata": {},
          "execution_count": 13
        }
      ]
    },
    {
      "cell_type": "markdown",
      "source": [
        "### Another way to use two pointers"
      ],
      "metadata": {
        "id": "5bpLK_Oz4HW-"
      },
      "id": "5bpLK_Oz4HW-"
    },
    {
      "cell_type": "markdown",
      "source": [
        "### Example 3"
      ],
      "metadata": {
        "id": "sOeYgmtbBNyN"
      },
      "id": "sOeYgmtbBNyN"
    },
    {
      "cell_type": "code",
      "source": [
        "def combine(arr1, arr2):\n",
        "    ans = []\n",
        "    i = j = 0\n",
        "    while i < len(arr1) and j < len(arr2):\n",
        "        if arr1[i] < arr2[j]:\n",
        "            ans.append(arr1[i])\n",
        "            i += 1\n",
        "        else:\n",
        "            ans.append(arr2[j])\n",
        "            j += 1\n",
        "\n",
        "    while i < len(arr1):\n",
        "        ans.append(arr1[i])\n",
        "        i += 1\n",
        "\n",
        "    while j < len(arr2):\n",
        "        ans.append(arr2[j])\n",
        "        j += 1\n",
        "\n",
        "    return ans"
      ],
      "metadata": {
        "id": "-5hv8_6JMtXI"
      },
      "id": "-5hv8_6JMtXI",
      "execution_count": null,
      "outputs": []
    },
    {
      "cell_type": "markdown",
      "source": [
        "This algorithm has a time complexity of $O(n + m)$, and a space complexity of $O(1)$ (if we don't count the output as extra space, which we usually don't)."
      ],
      "metadata": {
        "id": "4oVQjcGOCtvB"
      },
      "id": "4oVQjcGOCtvB"
    },
    {
      "cell_type": "code",
      "source": [
        "combine([1, 4, 7, 20], [3, 5, 6])"
      ],
      "metadata": {
        "colab": {
          "base_uri": "https://localhost:8080/"
        },
        "id": "Gi06w9-WQSrw",
        "outputId": "4c8b6fed-ebb8-46b4-f4ab-3ffa485655a8"
      },
      "id": "Gi06w9-WQSrw",
      "execution_count": null,
      "outputs": [
        {
          "output_type": "execute_result",
          "data": {
            "text/plain": [
              "[1, 3, 4, 5, 6, 7, 20]"
            ]
          },
          "metadata": {},
          "execution_count": 15
        }
      ]
    },
    {
      "cell_type": "markdown",
      "source": [
        "### Example 4"
      ],
      "metadata": {
        "id": "7KTPfM4yDYT-"
      },
      "id": "7KTPfM4yDYT-"
    },
    {
      "cell_type": "code",
      "source": [
        "def is_subsequence(s, t):\n",
        "    i = j = 0\n",
        "    while i < len(s) and j < len(t):\n",
        "        if s[i] == t[j]:\n",
        "            i += 1\n",
        "        j += 1\n",
        "    return i == len(s)"
      ],
      "metadata": {
        "id": "vCvUjBboQeGm"
      },
      "id": "vCvUjBboQeGm",
      "execution_count": null,
      "outputs": []
    },
    {
      "cell_type": "markdown",
      "source": [
        "In other words, if we go through all the characters in `t` but not all the characters in `s`, then `s` is not a subsequence of `t`.\n",
        "\n",
        "This algorithm has a time complexity of $O(m)$ and a space complexity of $O(1)$."
      ],
      "metadata": {
        "id": "FXtTziaBF4JE"
      },
      "id": "FXtTziaBF4JE"
    },
    {
      "cell_type": "code",
      "source": [
        "is_subsequence(\"ace\", \"abcde\")"
      ],
      "metadata": {
        "colab": {
          "base_uri": "https://localhost:8080/"
        },
        "id": "f0V204y1SczA",
        "outputId": "dad961d0-5cfc-459d-ea9b-e864d135c753"
      },
      "id": "f0V204y1SczA",
      "execution_count": null,
      "outputs": [
        {
          "output_type": "execute_result",
          "data": {
            "text/plain": [
              "True"
            ]
          },
          "metadata": {},
          "execution_count": 17
        }
      ]
    },
    {
      "cell_type": "code",
      "source": [
        "is_subsequence(\"ace\", \"abcdf\")"
      ],
      "metadata": {
        "colab": {
          "base_uri": "https://localhost:8080/"
        },
        "id": "XAIK_l80SgwD",
        "outputId": "49cdde3a-d03e-4812-f686-4df3492cca95"
      },
      "id": "XAIK_l80SgwD",
      "execution_count": null,
      "outputs": [
        {
          "output_type": "execute_result",
          "data": {
            "text/plain": [
              "False"
            ]
          },
          "metadata": {},
          "execution_count": 18
        }
      ]
    },
    {
      "cell_type": "markdown",
      "source": [
        "### Reverse String"
      ],
      "metadata": {
        "id": "fJ1EZmUxn7RG"
      },
      "id": "fJ1EZmUxn7RG"
    },
    {
      "cell_type": "code",
      "source": [
        "def reverse_string(s):\n",
        "    i = 0\n",
        "    j = len(s) - 1\n",
        "    while i < j:\n",
        "        temp = s[i]\n",
        "        s[i] = s[j]\n",
        "        s[j] = temp\n",
        "        i += 1\n",
        "        j -= 1"
      ],
      "metadata": {
        "id": "VHFlmIvsSlwa"
      },
      "id": "VHFlmIvsSlwa",
      "execution_count": null,
      "outputs": []
    },
    {
      "cell_type": "markdown",
      "source": [
        "This algorithm has a time complexity of $O(n)$ and a space complexity of $O(1)$."
      ],
      "metadata": {
        "id": "fjp3U8C1i2xQ"
      },
      "id": "fjp3U8C1i2xQ"
    },
    {
      "cell_type": "code",
      "source": [
        "s = [\"h\", \"e\", \"l\", \"l\", \"o\"]\n",
        "reverse_string(s)"
      ],
      "metadata": {
        "id": "wUqNe9NTsagz"
      },
      "id": "wUqNe9NTsagz",
      "execution_count": null,
      "outputs": []
    },
    {
      "cell_type": "markdown",
      "source": [
        "**Note:** In Python, immutable objects are passed by value, whereas mutable objects are passed by reference."
      ],
      "metadata": {
        "id": "xxC9Z4yNdZxs"
      },
      "id": "xxC9Z4yNdZxs"
    },
    {
      "cell_type": "code",
      "source": [
        "s"
      ],
      "metadata": {
        "colab": {
          "base_uri": "https://localhost:8080/"
        },
        "id": "em65X_TCcLa6",
        "outputId": "87d0fde8-e71a-4822-b4d6-fb0a89bfcd40"
      },
      "id": "em65X_TCcLa6",
      "execution_count": null,
      "outputs": [
        {
          "output_type": "execute_result",
          "data": {
            "text/plain": [
              "['o', 'l', 'l', 'e', 'h']"
            ]
          },
          "metadata": {},
          "execution_count": 21
        }
      ]
    },
    {
      "cell_type": "code",
      "source": [
        "s = [\"H\", \"a\", \"n\", \"n\", \"a\", \"h\"]\n",
        "reverse_string(s)"
      ],
      "metadata": {
        "id": "qiCZt1-xcQu3"
      },
      "id": "qiCZt1-xcQu3",
      "execution_count": null,
      "outputs": []
    },
    {
      "cell_type": "code",
      "source": [
        "s"
      ],
      "metadata": {
        "colab": {
          "base_uri": "https://localhost:8080/"
        },
        "id": "-jmgwfqEdXfG",
        "outputId": "e7df1a9d-14cc-4063-d6d9-b9bdee8595e5"
      },
      "id": "-jmgwfqEdXfG",
      "execution_count": null,
      "outputs": [
        {
          "output_type": "execute_result",
          "data": {
            "text/plain": [
              "['h', 'a', 'n', 'n', 'a', 'H']"
            ]
          },
          "metadata": {},
          "execution_count": 23
        }
      ]
    },
    {
      "cell_type": "markdown",
      "source": [
        "### Squares of a Sorted Array"
      ],
      "metadata": {
        "id": "416hb9WHeb6J"
      },
      "id": "416hb9WHeb6J"
    },
    {
      "cell_type": "code",
      "source": [
        "import math\n",
        "\n",
        "def sorted_squares(nums):\n",
        "    if len(nums) == 1: # Test case: [-1]\n",
        "        return [nums[0]**2]\n",
        "    else:\n",
        "        ans = []\n",
        "        min_position = 0\n",
        "        min_value = math.inf\n",
        "        for i in range(len(nums)):\n",
        "            if nums[i]**2 < min_value:\n",
        "                min_value = nums[i]**2\n",
        "                min_position = i\n",
        "        if min_position == len(nums) - 1: # Test case: [-4, -1, 0]\n",
        "            i = len(nums) - 1\n",
        "            while i >= 0:\n",
        "                ans.append(nums[i]**2)\n",
        "                i -= 1\n",
        "        elif min_position == 0: # Test case: [0, 3, 10]\n",
        "            i = 0\n",
        "            while i <= len(nums) - 1:\n",
        "                ans.append(nums[i]**2)\n",
        "                i += 1\n",
        "        else: # Test case: [-4, -1, 0, 3, 10]\n",
        "            ans.append(nums[min_position]**2)\n",
        "            i = min_position - 1\n",
        "            j = min_position + 1\n",
        "            while i >= 0 and j <= len(nums) - 1:\n",
        "                if nums[i]**2 < nums[j]**2:\n",
        "                    ans.append(nums[i]**2)\n",
        "                    i -= 1\n",
        "                else:\n",
        "                    ans.append(nums[j]**2)\n",
        "                    j += 1\n",
        "            while i >= 0:\n",
        "                ans.append(nums[i]**2)\n",
        "                i -= 1\n",
        "            while j <= len(nums) - 1:\n",
        "                ans.append(nums[j]**2)\n",
        "                j += 1\n",
        "        return ans"
      ],
      "metadata": {
        "id": "WJb2pfZMbo9_"
      },
      "id": "WJb2pfZMbo9_",
      "execution_count": null,
      "outputs": []
    },
    {
      "cell_type": "markdown",
      "source": [
        "This algorithm has a time complexity of $O(n)$ and a space complexity of $O(1)$, excluding the output."
      ],
      "metadata": {
        "id": "2IMWdOlvsFwW"
      },
      "id": "2IMWdOlvsFwW"
    },
    {
      "cell_type": "code",
      "source": [
        "sorted_squares([-1])"
      ],
      "metadata": {
        "colab": {
          "base_uri": "https://localhost:8080/"
        },
        "id": "o0NpkmXPoAwH",
        "outputId": "b094e2e9-1636-4d60-ec7e-0e69e22957a6"
      },
      "id": "o0NpkmXPoAwH",
      "execution_count": null,
      "outputs": [
        {
          "output_type": "execute_result",
          "data": {
            "text/plain": [
              "[1]"
            ]
          },
          "metadata": {},
          "execution_count": 25
        }
      ]
    },
    {
      "cell_type": "code",
      "source": [
        "sorted_squares([-4, -1, 0])"
      ],
      "metadata": {
        "colab": {
          "base_uri": "https://localhost:8080/"
        },
        "id": "DercwF6kpIxN",
        "outputId": "304affa5-7383-4076-93b1-28e34b15d564"
      },
      "id": "DercwF6kpIxN",
      "execution_count": null,
      "outputs": [
        {
          "output_type": "execute_result",
          "data": {
            "text/plain": [
              "[0, 1, 16]"
            ]
          },
          "metadata": {},
          "execution_count": 26
        }
      ]
    },
    {
      "cell_type": "code",
      "source": [
        "sorted_squares([0, 3, 10])"
      ],
      "metadata": {
        "colab": {
          "base_uri": "https://localhost:8080/"
        },
        "id": "H26volM7pNH8",
        "outputId": "3a0d3971-e2f7-4563-8057-47879dd8d542"
      },
      "id": "H26volM7pNH8",
      "execution_count": null,
      "outputs": [
        {
          "output_type": "execute_result",
          "data": {
            "text/plain": [
              "[0, 9, 100]"
            ]
          },
          "metadata": {},
          "execution_count": 27
        }
      ]
    },
    {
      "cell_type": "code",
      "source": [
        "sorted_squares([-4, -1, 0, 3, 10])"
      ],
      "metadata": {
        "colab": {
          "base_uri": "https://localhost:8080/"
        },
        "id": "N5309Ld8rM4c",
        "outputId": "15a605fe-36c1-4ded-88cd-f1a2ca89ad99"
      },
      "id": "N5309Ld8rM4c",
      "execution_count": null,
      "outputs": [
        {
          "output_type": "execute_result",
          "data": {
            "text/plain": [
              "[0, 1, 9, 16, 100]"
            ]
          },
          "metadata": {},
          "execution_count": 28
        }
      ]
    },
    {
      "cell_type": "markdown",
      "source": [
        "## Sliding window"
      ],
      "metadata": {
        "id": "oYvakJHWE1JO"
      },
      "id": "oYvakJHWE1JO"
    },
    {
      "cell_type": "markdown",
      "source": [
        "### Example 1"
      ],
      "metadata": {
        "id": "HJ3lMwQdcxjy"
      },
      "id": "HJ3lMwQdcxjy"
    },
    {
      "cell_type": "code",
      "source": [
        "nums = [3, 1, 2, 7, 4, 2, 1, 1, 5]\n",
        "k = 8"
      ],
      "metadata": {
        "id": "j2CRh-KVMCYl"
      },
      "id": "j2CRh-KVMCYl",
      "execution_count": null,
      "outputs": []
    },
    {
      "cell_type": "code",
      "source": [
        "def find_length(nums, k):\n",
        "    left = curr = ans = 0\n",
        "    for right in range(len(nums)):\n",
        "        curr += nums[right]\n",
        "        while curr > k:\n",
        "            curr -= nums[left]\n",
        "            left += 1\n",
        "        ans = max(ans, right - left + 1)\n",
        "    return ans"
      ],
      "metadata": {
        "id": "mM7XhdIDT1-0"
      },
      "id": "mM7XhdIDT1-0",
      "execution_count": null,
      "outputs": []
    },
    {
      "cell_type": "markdown",
      "source": [
        "This algorithm has a time complexity of $O(n)$ and a space complexity of $O(1)$."
      ],
      "metadata": {
        "id": "4-0ZqLjWRo_Q"
      },
      "id": "4-0ZqLjWRo_Q"
    },
    {
      "cell_type": "code",
      "source": [
        "find_length(nums, k)"
      ],
      "metadata": {
        "colab": {
          "base_uri": "https://localhost:8080/"
        },
        "id": "k_cD_xWCRj_A",
        "outputId": "bd33926f-25d8-4fb1-ef29-bebbf59c337d"
      },
      "id": "k_cD_xWCRj_A",
      "execution_count": null,
      "outputs": [
        {
          "output_type": "execute_result",
          "data": {
            "text/plain": [
              "4"
            ]
          },
          "metadata": {},
          "execution_count": 31
        }
      ]
    },
    {
      "cell_type": "markdown",
      "source": [
        "### Example 2"
      ],
      "metadata": {
        "id": "Kqv2PBjNYFxF"
      },
      "id": "Kqv2PBjNYFxF"
    },
    {
      "cell_type": "code",
      "source": [
        "s = \"1101100111\""
      ],
      "metadata": {
        "id": "-0fuK9z1RmEs"
      },
      "id": "-0fuK9z1RmEs",
      "execution_count": null,
      "outputs": []
    },
    {
      "cell_type": "code",
      "source": [
        "def find_length(s):\n",
        "    left = curr = ans = 0\n",
        "    for right in range(len(s)):\n",
        "        if s[right] == \"0\":\n",
        "            curr += 1\n",
        "        while curr > 1:\n",
        "            if s[left] == \"0\":\n",
        "                curr -= 1\n",
        "            left += 1\n",
        "        ans = max(ans, right - left + 1)\n",
        "    return ans"
      ],
      "metadata": {
        "id": "vKCHKXSDCaya"
      },
      "id": "vKCHKXSDCaya",
      "execution_count": null,
      "outputs": []
    },
    {
      "cell_type": "markdown",
      "source": [
        "This algorithm has a time complexity of $O(n)$ and a space complexity of $O(1)$."
      ],
      "metadata": {
        "id": "L7DVPm4UcQt5"
      },
      "id": "L7DVPm4UcQt5"
    },
    {
      "cell_type": "code",
      "source": [
        "find_length(s)"
      ],
      "metadata": {
        "colab": {
          "base_uri": "https://localhost:8080/"
        },
        "id": "JJTfrejwYuj_",
        "outputId": "ef984d96-ed9c-4a73-a816-f8ad3614967a"
      },
      "id": "JJTfrejwYuj_",
      "execution_count": null,
      "outputs": [
        {
          "output_type": "execute_result",
          "data": {
            "text/plain": [
              "5"
            ]
          },
          "metadata": {},
          "execution_count": 34
        }
      ]
    },
    {
      "cell_type": "markdown",
      "source": [
        "### Number of subarrays"
      ],
      "metadata": {
        "id": "XMpjUFcMEoSm"
      },
      "id": "XMpjUFcMEoSm"
    },
    {
      "cell_type": "markdown",
      "source": [
        "### Example 3"
      ],
      "metadata": {
        "id": "b-Wh5VB6y1HR"
      },
      "id": "b-Wh5VB6y1HR"
    },
    {
      "cell_type": "code",
      "source": [
        "nums = [10, 5, 2, 6]\n",
        "k = 100"
      ],
      "metadata": {
        "id": "SU99hI6aIrny"
      },
      "id": "SU99hI6aIrny",
      "execution_count": null,
      "outputs": []
    },
    {
      "cell_type": "markdown",
      "source": [
        "How `//=` works:"
      ],
      "metadata": {
        "id": "InF8X3KUIaq_"
      },
      "id": "InF8X3KUIaq_"
    },
    {
      "cell_type": "code",
      "source": [
        "curr = 2 * 5\n",
        "curr /= 2\n",
        "curr"
      ],
      "metadata": {
        "colab": {
          "base_uri": "https://localhost:8080/"
        },
        "id": "kRet-X573sP1",
        "outputId": "d587f4bd-59dc-469d-feae-8d4e68e50882"
      },
      "id": "kRet-X573sP1",
      "execution_count": null,
      "outputs": [
        {
          "output_type": "execute_result",
          "data": {
            "text/plain": [
              "5.0"
            ]
          },
          "metadata": {},
          "execution_count": 36
        }
      ]
    },
    {
      "cell_type": "code",
      "source": [
        "curr = 2 * 5\n",
        "curr //= 2\n",
        "curr"
      ],
      "metadata": {
        "colab": {
          "base_uri": "https://localhost:8080/"
        },
        "id": "NRmpzeRq4A6t",
        "outputId": "b9872f7b-b0b4-46ac-d489-9aab2471629d"
      },
      "id": "NRmpzeRq4A6t",
      "execution_count": null,
      "outputs": [
        {
          "output_type": "execute_result",
          "data": {
            "text/plain": [
              "5"
            ]
          },
          "metadata": {},
          "execution_count": 37
        }
      ]
    },
    {
      "cell_type": "markdown",
      "source": [
        "However, in this solution, `/=` works as well as `//=`."
      ],
      "metadata": {
        "id": "FVNi37JJIeM5"
      },
      "id": "FVNi37JJIeM5"
    },
    {
      "cell_type": "code",
      "source": [
        "def num_subarrays_product_less_than_k(nums, k):\n",
        "    if k <= 1:\n",
        "        return 0\n",
        "    left = ans = 0\n",
        "    curr = 1\n",
        "    for right in range(len(nums)):\n",
        "        curr *= nums[right]\n",
        "        while curr >= k: # Careful: It should be `>=`, not `>`.\n",
        "            curr //= nums[left]\n",
        "            left += 1\n",
        "        ans += right - left + 1\n",
        "    return ans"
      ],
      "metadata": {
        "id": "feakieLD4Fvq"
      },
      "id": "feakieLD4Fvq",
      "execution_count": null,
      "outputs": []
    },
    {
      "cell_type": "markdown",
      "source": [
        "This algorithm has a time complexity of $O(n)$ and a space complexity of $O(1)$."
      ],
      "metadata": {
        "id": "Tdy-UNpyJV3x"
      },
      "id": "Tdy-UNpyJV3x"
    },
    {
      "cell_type": "code",
      "source": [
        "num_subarrays_product_less_than_k(nums, k)"
      ],
      "metadata": {
        "colab": {
          "base_uri": "https://localhost:8080/"
        },
        "id": "cxD2k7Xj5OgN",
        "outputId": "0643d71d-45c8-4fd6-8710-88c8115932df"
      },
      "id": "cxD2k7Xj5OgN",
      "execution_count": null,
      "outputs": [
        {
          "output_type": "execute_result",
          "data": {
            "text/plain": [
              "8"
            ]
          },
          "metadata": {},
          "execution_count": 39
        }
      ]
    },
    {
      "cell_type": "markdown",
      "source": [
        "### Fixed window size"
      ],
      "metadata": {
        "id": "y9FKh8NJ5bq9"
      },
      "id": "y9FKh8NJ5bq9"
    },
    {
      "cell_type": "markdown",
      "source": [
        "### Example 4"
      ],
      "metadata": {
        "id": "gteFWrA97BiU"
      },
      "id": "gteFWrA97BiU"
    },
    {
      "cell_type": "code",
      "source": [
        "nums = [3, -1, 4, 12, -8, 5, 6]\n",
        "k = 4"
      ],
      "metadata": {
        "id": "EuwXmKXo8gE2"
      },
      "id": "EuwXmKXo8gE2",
      "execution_count": null,
      "outputs": []
    },
    {
      "cell_type": "code",
      "source": [
        "def find_best_subarray(nums, k):\n",
        "    curr = 0\n",
        "    for i in range(k):\n",
        "        curr += nums[i]\n",
        "    ans = curr\n",
        "    for i in range(k, len(nums)):\n",
        "        curr += nums[i] - nums[i - k]\n",
        "        ans = max(ans, curr)\n",
        "    return ans"
      ],
      "metadata": {
        "id": "SO3hf3C8Lm9L"
      },
      "id": "SO3hf3C8Lm9L",
      "execution_count": null,
      "outputs": []
    },
    {
      "cell_type": "markdown",
      "source": [
        "This algorithm has a time complexity of $O(n)$ and a space complexity of $O(1)$."
      ],
      "metadata": {
        "id": "vVblbD4z9GNP"
      },
      "id": "vVblbD4z9GNP"
    },
    {
      "cell_type": "code",
      "source": [
        "find_best_subarray(nums, k)"
      ],
      "metadata": {
        "colab": {
          "base_uri": "https://localhost:8080/"
        },
        "id": "PbmOjJl_9CRj",
        "outputId": "46dc9d8c-86ed-4c4a-f420-76a760831c77"
      },
      "id": "PbmOjJl_9CRj",
      "execution_count": null,
      "outputs": [
        {
          "output_type": "execute_result",
          "data": {
            "text/plain": [
              "18"
            ]
          },
          "metadata": {},
          "execution_count": 42
        }
      ]
    },
    {
      "cell_type": "markdown",
      "source": [
        "### Maximum Average Subarray I"
      ],
      "metadata": {
        "id": "fS26t4G2M2Wd"
      },
      "id": "fS26t4G2M2Wd"
    },
    {
      "cell_type": "code",
      "source": [
        "def max_avg(nums, k):\n",
        "    curr = 0\n",
        "    for i in range(k): # Build the first window.\n",
        "        curr += nums[i]\n",
        "    ans = curr\n",
        "    for i in range(k, len(nums)):\n",
        "        curr += nums[i] - nums[i - k]\n",
        "        ans = max(ans, curr)\n",
        "    return ans / k"
      ],
      "metadata": {
        "id": "2_yLfDcc9FPy"
      },
      "id": "2_yLfDcc9FPy",
      "execution_count": null,
      "outputs": []
    },
    {
      "cell_type": "markdown",
      "source": [
        "This algorithm has a time complexity of $O(n)$ and a space complexity of $O(1)$."
      ],
      "metadata": {
        "id": "CvhXCBGb3v4I"
      },
      "id": "CvhXCBGb3v4I"
    },
    {
      "cell_type": "code",
      "source": [
        "nums = [1, 12, -5, -6, 50, 3]\n",
        "k = 4"
      ],
      "metadata": {
        "id": "cx6Q6XG82tPP"
      },
      "id": "cx6Q6XG82tPP",
      "execution_count": null,
      "outputs": []
    },
    {
      "cell_type": "code",
      "source": [
        "max_avg(nums, k)"
      ],
      "metadata": {
        "colab": {
          "base_uri": "https://localhost:8080/"
        },
        "id": "egUyejho21vH",
        "outputId": "668b7b0a-b39d-4d36-bf97-c54dd2ca1b98"
      },
      "id": "egUyejho21vH",
      "execution_count": null,
      "outputs": [
        {
          "output_type": "execute_result",
          "data": {
            "text/plain": [
              "12.75"
            ]
          },
          "metadata": {},
          "execution_count": 45
        }
      ]
    },
    {
      "cell_type": "code",
      "source": [
        "nums = [5]\n",
        "k = 1"
      ],
      "metadata": {
        "id": "prFrIQfH3I4U"
      },
      "id": "prFrIQfH3I4U",
      "execution_count": null,
      "outputs": []
    },
    {
      "cell_type": "code",
      "source": [
        "max_avg(nums, k)"
      ],
      "metadata": {
        "colab": {
          "base_uri": "https://localhost:8080/"
        },
        "id": "U_fvZnI23MlY",
        "outputId": "e2563957-6b85-4a34-b8b1-613194eb6bdb"
      },
      "id": "U_fvZnI23MlY",
      "execution_count": null,
      "outputs": [
        {
          "output_type": "execute_result",
          "data": {
            "text/plain": [
              "5.0"
            ]
          },
          "metadata": {},
          "execution_count": 47
        }
      ]
    },
    {
      "cell_type": "markdown",
      "source": [
        "### Max Consecutive Ones III"
      ],
      "metadata": {
        "id": "_PazM2MA4K83"
      },
      "id": "_PazM2MA4K83"
    },
    {
      "cell_type": "code",
      "source": [
        "def longest_window(nums, k):\n",
        "    left = curr = ans = 0\n",
        "    for right in range(len(nums)):\n",
        "        if nums[right] == 0:\n",
        "            curr += 1\n",
        "        while curr > k:\n",
        "            if nums[left] == 0:\n",
        "                curr -= 1\n",
        "            left += 1\n",
        "        ans = max(ans, right - left + 1)\n",
        "    return ans"
      ],
      "metadata": {
        "id": "MUL5aLA93OlR"
      },
      "id": "MUL5aLA93OlR",
      "execution_count": null,
      "outputs": []
    },
    {
      "cell_type": "markdown",
      "source": [
        "This algorithm has a time complexity of $O(n)$ and a space complexity of $O(1)$."
      ],
      "metadata": {
        "id": "o7-VVZAG7DGJ"
      },
      "id": "o7-VVZAG7DGJ"
    },
    {
      "cell_type": "code",
      "source": [
        "nums = [1, 1, 1, 0, 0, 0, 1, 1, 1, 1, 0]\n",
        "k = 2"
      ],
      "metadata": {
        "id": "uoC_aUew6Ixe"
      },
      "id": "uoC_aUew6Ixe",
      "execution_count": null,
      "outputs": []
    },
    {
      "cell_type": "code",
      "source": [
        "longest_window(nums, 2)"
      ],
      "metadata": {
        "colab": {
          "base_uri": "https://localhost:8080/"
        },
        "id": "d74gv9dX6Ppi",
        "outputId": "4f8c692f-1fe1-41a4-f63a-09510d1c1862"
      },
      "id": "d74gv9dX6Ppi",
      "execution_count": null,
      "outputs": [
        {
          "output_type": "execute_result",
          "data": {
            "text/plain": [
              "6"
            ]
          },
          "metadata": {},
          "execution_count": 50
        }
      ]
    },
    {
      "cell_type": "code",
      "source": [
        "nums = [0, 0, 1, 1, 0, 0, 1, 1, 1, 0, 1, 1, 0, 0, 0, 1, 1, 1, 1]\n",
        "k = 3"
      ],
      "metadata": {
        "id": "oTZfI_Bv6RkB"
      },
      "id": "oTZfI_Bv6RkB",
      "execution_count": null,
      "outputs": []
    },
    {
      "cell_type": "code",
      "source": [
        "longest_window(nums, k)"
      ],
      "metadata": {
        "colab": {
          "base_uri": "https://localhost:8080/"
        },
        "id": "R17Ie8XQ6_F6",
        "outputId": "31e67827-35c4-493d-8aa9-6e7ec0a42990"
      },
      "id": "R17Ie8XQ6_F6",
      "execution_count": null,
      "outputs": [
        {
          "output_type": "execute_result",
          "data": {
            "text/plain": [
              "10"
            ]
          },
          "metadata": {},
          "execution_count": 52
        }
      ]
    },
    {
      "cell_type": "markdown",
      "source": [
        "## Prefix sum"
      ],
      "metadata": {
        "id": "aZb8w-Mda3c6"
      },
      "id": "aZb8w-Mda3c6"
    },
    {
      "cell_type": "code",
      "source": [
        "import numpy as np\n",
        "\n",
        "nums = np.array([5, 2, 1, 6, 3, 8])\n",
        "prefix = np.cumsum(nums)\n",
        "prefix"
      ],
      "metadata": {
        "colab": {
          "base_uri": "https://localhost:8080/"
        },
        "id": "PRvU2JnG-fAF",
        "outputId": "69d137d8-835d-4cdc-96d5-8c09940d9e61"
      },
      "id": "PRvU2JnG-fAF",
      "execution_count": null,
      "outputs": [
        {
          "output_type": "execute_result",
          "data": {
            "text/plain": [
              "array([ 5,  7,  8, 14, 17, 25])"
            ]
          },
          "metadata": {},
          "execution_count": 53
        }
      ]
    },
    {
      "cell_type": "code",
      "source": [
        "# Sum of the subarray from i (say 1) to j (say 4):\n",
        "nums[1] + nums[2] + nums[3] + nums[4]"
      ],
      "metadata": {
        "colab": {
          "base_uri": "https://localhost:8080/"
        },
        "id": "0s_VGNMk-pmd",
        "outputId": "13d9295d-111b-4eae-f7ca-c0be2068b3cd"
      },
      "id": "0s_VGNMk-pmd",
      "execution_count": null,
      "outputs": [
        {
          "output_type": "execute_result",
          "data": {
            "text/plain": [
              "12"
            ]
          },
          "metadata": {},
          "execution_count": 54
        }
      ]
    },
    {
      "cell_type": "code",
      "source": [
        "# Alt:\n",
        "prefix[4] - prefix[1] + nums[1]"
      ],
      "metadata": {
        "colab": {
          "base_uri": "https://localhost:8080/"
        },
        "id": "I4YGKkRhAKOP",
        "outputId": "826d143f-2a2e-47e9-8f9b-f0051525b3a7"
      },
      "id": "I4YGKkRhAKOP",
      "execution_count": null,
      "outputs": [
        {
          "output_type": "execute_result",
          "data": {
            "text/plain": [
              "12"
            ]
          },
          "metadata": {},
          "execution_count": 55
        }
      ]
    },
    {
      "cell_type": "markdown",
      "source": [
        "Building the prefix sum list without using `np.cumsum`:"
      ],
      "metadata": {
        "id": "ok8dtA6_2kht"
      },
      "id": "ok8dtA6_2kht"
    },
    {
      "cell_type": "code",
      "source": [
        "prefix = [nums[0]]\n",
        "for i in range(1, len(nums)):\n",
        "    prefix.append(nums[i] + prefix[-1])\n",
        "prefix"
      ],
      "metadata": {
        "colab": {
          "base_uri": "https://localhost:8080/"
        },
        "id": "sIucbp4RAq5O",
        "outputId": "cdd0f58a-177e-45c4-ed15-daee7c552e34"
      },
      "id": "sIucbp4RAq5O",
      "execution_count": null,
      "outputs": [
        {
          "output_type": "execute_result",
          "data": {
            "text/plain": [
              "[5, 7, 8, 14, 17, 25]"
            ]
          },
          "metadata": {},
          "execution_count": 56
        }
      ]
    },
    {
      "cell_type": "markdown",
      "source": [
        "The prefix sum takes $O(n)$ to build, but allows all future subarray queries to be $O(1)$."
      ],
      "metadata": {
        "id": "xVetRUob29AS"
      },
      "id": "xVetRUob29AS"
    },
    {
      "cell_type": "markdown",
      "source": [
        "### Example 1"
      ],
      "metadata": {
        "id": "ACNk6ZGu3abf"
      },
      "id": "ACNk6ZGu3abf"
    },
    {
      "cell_type": "code",
      "source": [
        "nums = [1, 6, 3, 2, 7, 2]\n",
        "queries = [[0, 3], [2, 5], [2, 4]]\n",
        "limit = 13"
      ],
      "metadata": {
        "id": "KeeiGLWKHLlT"
      },
      "id": "KeeiGLWKHLlT",
      "execution_count": null,
      "outputs": []
    },
    {
      "cell_type": "code",
      "source": [
        "def answer_queries(nums, queries, limit):\n",
        "    prefix = [nums[0]]\n",
        "    for i in range(1, len(nums)):\n",
        "        prefix.append(nums[i] + prefix[-1])\n",
        "\n",
        "    ans = []\n",
        "    for x, y in queries:\n",
        "        curr = prefix[y] - prefix[x] + nums[x]\n",
        "        ans.append(curr < limit)\n",
        "\n",
        "    return ans"
      ],
      "metadata": {
        "id": "DqMGcLi34-_3"
      },
      "id": "DqMGcLi34-_3",
      "execution_count": null,
      "outputs": []
    },
    {
      "cell_type": "markdown",
      "source": [
        "This algorithm has a time complexity of $O(n + m)$, where $n$ is the length of `nums` and `m` is the length of `queries` (i.e., the number of subarrays in `queries` - here `3`). Without the prefix sum, it would be $O(n * m)$, because answering each of the `m` queries would cost $O(n)$ in the worst case. (The outer loop would loop over `queries`.)\n",
        "\n",
        "The algorithm has a space complexity of $O(n)$ (excluding the answer)."
      ],
      "metadata": {
        "id": "9LTA3KFJHrW0"
      },
      "id": "9LTA3KFJHrW0"
    },
    {
      "cell_type": "code",
      "source": [
        "answer_queries(nums, queries, limit)"
      ],
      "metadata": {
        "colab": {
          "base_uri": "https://localhost:8080/"
        },
        "id": "A7IKHFLD5yR-",
        "outputId": "70b341a7-e450-4e9f-84e8-3abf82358f5c"
      },
      "id": "A7IKHFLD5yR-",
      "execution_count": null,
      "outputs": [
        {
          "output_type": "execute_result",
          "data": {
            "text/plain": [
              "[True, False, True]"
            ]
          },
          "metadata": {},
          "execution_count": 59
        }
      ]
    },
    {
      "cell_type": "markdown",
      "source": [
        "### Example 2"
      ],
      "metadata": {
        "id": "Os84or2E_Uh0"
      },
      "id": "Os84or2E_Uh0"
    },
    {
      "cell_type": "code",
      "source": [
        "nums = [10, 4, -8, 7]"
      ],
      "metadata": {
        "id": "LF9xrl49HHgr"
      },
      "id": "LF9xrl49HHgr",
      "execution_count": null,
      "outputs": []
    },
    {
      "cell_type": "code",
      "source": [
        "def ways_to_split_array(nums):\n",
        "    prefix = [nums[0]]\n",
        "    for i in range(1, len(nums)):\n",
        "        prefix.append(nums[i] + prefix[-1])\n",
        "\n",
        "    ans = 0\n",
        "    for i in range(len(nums) - 1):\n",
        "        left_section = prefix[i]\n",
        "        right_section = prefix[-1] - prefix[i]\n",
        "        if left_section >= right_section:\n",
        "            ans += 1\n",
        "\n",
        "    return ans"
      ],
      "metadata": {
        "id": "M7oBf1eeHK8P"
      },
      "id": "M7oBf1eeHK8P",
      "execution_count": null,
      "outputs": []
    },
    {
      "cell_type": "markdown",
      "source": [
        "This algorithm has a time complexity of $O(n)$ and a space complexity of $O(n)$."
      ],
      "metadata": {
        "id": "OUGJ4hRg_6VF"
      },
      "id": "OUGJ4hRg_6VF"
    },
    {
      "cell_type": "code",
      "source": [
        "ways_to_split_array(nums)"
      ],
      "metadata": {
        "colab": {
          "base_uri": "https://localhost:8080/"
        },
        "id": "sCiPgAwtHsWV",
        "outputId": "baf12345-a812-43e5-f22f-d38142db5a94"
      },
      "id": "sCiPgAwtHsWV",
      "execution_count": null,
      "outputs": [
        {
          "output_type": "execute_result",
          "data": {
            "text/plain": [
              "2"
            ]
          },
          "metadata": {},
          "execution_count": 62
        }
      ]
    },
    {
      "cell_type": "markdown",
      "source": [
        "### Do we need the array?"
      ],
      "metadata": {
        "id": "u-_sjoBFARzA"
      },
      "id": "u-_sjoBFARzA"
    },
    {
      "cell_type": "code",
      "source": [
        "def ways_to_split_array(nums):\n",
        "    left_section = ans = 0\n",
        "    total = sum(nums)\n",
        "\n",
        "    for i in range(len(nums) - 1):\n",
        "        left_section += nums[i]\n",
        "        right_section = total - left_section\n",
        "        if left_section >= right_section:\n",
        "            ans += 1\n",
        "\n",
        "    return ans"
      ],
      "metadata": {
        "id": "_rrDQpVrJws6"
      },
      "id": "_rrDQpVrJws6",
      "execution_count": null,
      "outputs": []
    },
    {
      "cell_type": "markdown",
      "source": [
        "This algorithm has a time complexity of $O(n)$ and a space complexity of $O(1)$.\n",
        "\n",
        "**Note:** The line `total = sum(nums)` costs $O(n)$ time but only $O(1)$ space."
      ],
      "metadata": {
        "id": "iXc-5z1HBPce"
      },
      "id": "iXc-5z1HBPce"
    },
    {
      "cell_type": "code",
      "source": [
        "ways_to_split_array(nums)"
      ],
      "metadata": {
        "colab": {
          "base_uri": "https://localhost:8080/"
        },
        "id": "lJw6CIj0I14W",
        "outputId": "2a6880e8-4a3c-4cf2-ae58-d64b4140301b"
      },
      "id": "lJw6CIj0I14W",
      "execution_count": null,
      "outputs": [
        {
          "output_type": "execute_result",
          "data": {
            "text/plain": [
              "2"
            ]
          },
          "metadata": {},
          "execution_count": 64
        }
      ]
    },
    {
      "cell_type": "markdown",
      "source": [
        "### Running Sum of 1d Array"
      ],
      "metadata": {
        "id": "GCTE9KhTKws0"
      },
      "id": "GCTE9KhTKws0"
    },
    {
      "cell_type": "code",
      "source": [
        "def running_sum(nums):\n",
        "    prefix = [nums[0]]\n",
        "    for i in range(1, len(nums)):\n",
        "        prefix.append(nums[i] + prefix[-1])\n",
        "    return prefix"
      ],
      "metadata": {
        "id": "PLgAEVrALL7c"
      },
      "id": "PLgAEVrALL7c",
      "execution_count": null,
      "outputs": []
    },
    {
      "cell_type": "code",
      "source": [
        "running_sum([1, 2, 3, 4])"
      ],
      "metadata": {
        "colab": {
          "base_uri": "https://localhost:8080/"
        },
        "id": "NZCnJuzoLql1",
        "outputId": "a6460b25-9e61-4463-e8b6-b0e305d65311"
      },
      "id": "NZCnJuzoLql1",
      "execution_count": null,
      "outputs": [
        {
          "output_type": "execute_result",
          "data": {
            "text/plain": [
              "[1, 3, 6, 10]"
            ]
          },
          "metadata": {},
          "execution_count": 66
        }
      ]
    },
    {
      "cell_type": "code",
      "source": [
        "running_sum([1, 1, 1, 1, 1])"
      ],
      "metadata": {
        "colab": {
          "base_uri": "https://localhost:8080/"
        },
        "id": "0LwZBLcMLvp3",
        "outputId": "bc048e81-eae2-4dd3-a895-f70685ad578c"
      },
      "id": "0LwZBLcMLvp3",
      "execution_count": null,
      "outputs": [
        {
          "output_type": "execute_result",
          "data": {
            "text/plain": [
              "[1, 2, 3, 4, 5]"
            ]
          },
          "metadata": {},
          "execution_count": 67
        }
      ]
    },
    {
      "cell_type": "code",
      "source": [
        "running_sum([3, 1, 2, 10, 1])"
      ],
      "metadata": {
        "colab": {
          "base_uri": "https://localhost:8080/"
        },
        "id": "M2-u0COUL1bh",
        "outputId": "7edc34bb-df15-48e1-812d-7ca884b7dc25"
      },
      "id": "M2-u0COUL1bh",
      "execution_count": null,
      "outputs": [
        {
          "output_type": "execute_result",
          "data": {
            "text/plain": [
              "[3, 4, 6, 16, 17]"
            ]
          },
          "metadata": {},
          "execution_count": 68
        }
      ]
    },
    {
      "cell_type": "markdown",
      "source": [
        "### Minimum Value to Get Positive Step by Step Sum"
      ],
      "metadata": {
        "id": "wJ3YlG7PIzmr"
      },
      "id": "wJ3YlG7PIzmr"
    },
    {
      "cell_type": "code",
      "source": [
        "def min_start_value(nums):\n",
        "    prefix_sums = [nums[0]]\n",
        "    for i in range(1, len(nums)):\n",
        "        prefix_sums.append(nums[i] + prefix_sums[-1])\n",
        "    min_prefix_sum = min(prefix_sums)\n",
        "\n",
        "    if min_prefix_sum <= 0:\n",
        "        return abs(min_prefix_sum) + 1\n",
        "    else:\n",
        "        return 1"
      ],
      "metadata": {
        "id": "Lk-aN8K4r1vK"
      },
      "id": "Lk-aN8K4r1vK",
      "execution_count": null,
      "outputs": []
    },
    {
      "cell_type": "markdown",
      "source": [
        "This algorithm has a time complexity of $O(n)$ and space complexity of $O(n)$."
      ],
      "metadata": {
        "id": "clnd_w9kSRWB"
      },
      "id": "clnd_w9kSRWB"
    },
    {
      "cell_type": "code",
      "source": [
        "min_start_value([-3, 2, -3, 4, 2])"
      ],
      "metadata": {
        "colab": {
          "base_uri": "https://localhost:8080/"
        },
        "id": "QCeda9RZr1rz",
        "outputId": "88a9c257-ff12-427c-9580-358bcc86f998"
      },
      "id": "QCeda9RZr1rz",
      "execution_count": null,
      "outputs": [
        {
          "output_type": "execute_result",
          "data": {
            "text/plain": [
              "5"
            ]
          },
          "metadata": {},
          "execution_count": 70
        }
      ]
    },
    {
      "cell_type": "code",
      "source": [
        "min_start_value([1, 2])"
      ],
      "metadata": {
        "colab": {
          "base_uri": "https://localhost:8080/"
        },
        "id": "rdOPhZ9vr1oS",
        "outputId": "1821ab6e-ceb2-4ea7-9a95-7ca19d4f9bfe"
      },
      "id": "rdOPhZ9vr1oS",
      "execution_count": null,
      "outputs": [
        {
          "output_type": "execute_result",
          "data": {
            "text/plain": [
              "1"
            ]
          },
          "metadata": {},
          "execution_count": 71
        }
      ]
    },
    {
      "cell_type": "code",
      "source": [
        "min_start_value([1, -2, -3])"
      ],
      "metadata": {
        "colab": {
          "base_uri": "https://localhost:8080/"
        },
        "id": "mZJHxUDLr1lJ",
        "outputId": "14145a73-1e0f-4257-def7-3b33f281bb0d"
      },
      "id": "mZJHxUDLr1lJ",
      "execution_count": null,
      "outputs": [
        {
          "output_type": "execute_result",
          "data": {
            "text/plain": [
              "5"
            ]
          },
          "metadata": {},
          "execution_count": 72
        }
      ]
    },
    {
      "cell_type": "markdown",
      "source": [
        "### K Radius Subarray Averages"
      ],
      "metadata": {
        "id": "Z7ro1vlzYijN"
      },
      "id": "Z7ro1vlzYijN"
    },
    {
      "cell_type": "code",
      "source": [
        "def get_averages(nums, k):\n",
        "    prefix_sums = [nums[0]]\n",
        "    for i in range(1, len(nums)):\n",
        "        prefix_sums.append(nums[i] + prefix_sums[-1])\n",
        "\n",
        "    avgs = []\n",
        "    for i in range(len(nums)):\n",
        "        if i - k < 0 or i + k > len(nums) - 1:\n",
        "            avgs.append(-1)\n",
        "        else:\n",
        "            window_sum = prefix_sums[i + k] - prefix_sums[i - k] + nums[i - k]\n",
        "            avgs.append(window_sum // (2 * k + 1))\n",
        "\n",
        "    return avgs"
      ],
      "metadata": {
        "id": "lWz8xLar2P1B"
      },
      "id": "lWz8xLar2P1B",
      "execution_count": null,
      "outputs": []
    },
    {
      "cell_type": "markdown",
      "source": [
        "This algorithm has a time compexity of $O(n)$ and a space complexity of $O(n)$ (excluding the answer)."
      ],
      "metadata": {
        "id": "KGihw6nGq55u"
      },
      "id": "KGihw6nGq55u"
    },
    {
      "cell_type": "code",
      "source": [
        "nums = [7, 4, 3, 9, 1, 8, 5, 2, 6]\n",
        "k = 3\n",
        "get_averages(nums, k)"
      ],
      "metadata": {
        "colab": {
          "base_uri": "https://localhost:8080/"
        },
        "id": "JrGl_6jnomje",
        "outputId": "ca97e7ec-a088-4525-8360-e0439e60f74f"
      },
      "id": "JrGl_6jnomje",
      "execution_count": null,
      "outputs": [
        {
          "output_type": "execute_result",
          "data": {
            "text/plain": [
              "[-1, -1, -1, 5, 4, 4, -1, -1, -1]"
            ]
          },
          "metadata": {},
          "execution_count": 74
        }
      ]
    },
    {
      "cell_type": "code",
      "source": [
        "nums = [100000]\n",
        "k = 0\n",
        "get_averages(nums, k)"
      ],
      "metadata": {
        "colab": {
          "base_uri": "https://localhost:8080/"
        },
        "id": "LJhvBKseoxnL",
        "outputId": "22b33686-827c-4075-ebd0-f6bf7a187340"
      },
      "id": "LJhvBKseoxnL",
      "execution_count": null,
      "outputs": [
        {
          "output_type": "execute_result",
          "data": {
            "text/plain": [
              "[100000]"
            ]
          },
          "metadata": {},
          "execution_count": 75
        }
      ]
    },
    {
      "cell_type": "code",
      "source": [
        "nums = [8]\n",
        "k = 100000\n",
        "get_averages(nums, k)"
      ],
      "metadata": {
        "colab": {
          "base_uri": "https://localhost:8080/"
        },
        "id": "32Naiv9ho5oi",
        "outputId": "83851646-48c8-49ba-89f1-60e05910d5db"
      },
      "id": "32Naiv9ho5oi",
      "execution_count": null,
      "outputs": [
        {
          "output_type": "execute_result",
          "data": {
            "text/plain": [
              "[-1]"
            ]
          },
          "metadata": {},
          "execution_count": 76
        }
      ]
    },
    {
      "cell_type": "markdown",
      "source": [
        "## More common patterns"
      ],
      "metadata": {
        "id": "QSkLYYd4NJ22"
      },
      "id": "QSkLYYd4NJ22"
    },
    {
      "cell_type": "markdown",
      "source": [
        "### O(n) string building"
      ],
      "metadata": {
        "id": "0K465H9eNMnO"
      },
      "id": "0K465H9eNMnO"
    },
    {
      "cell_type": "code",
      "source": [
        "def build_string(s):\n",
        "    arr = []\n",
        "    for c in s:\n",
        "        arr.append(c)\n",
        "    return \"\".join(arr)"
      ],
      "metadata": {
        "id": "HYiLGHFG5tne"
      },
      "id": "HYiLGHFG5tne",
      "execution_count": null,
      "outputs": []
    },
    {
      "cell_type": "markdown",
      "source": [
        "This algorithm has a time complexity of $O(n)$ and a space complexity of $O(1)$ (excluding the answer)."
      ],
      "metadata": {
        "id": "o-nkqpAoNbSB"
      },
      "id": "o-nkqpAoNbSB"
    },
    {
      "cell_type": "code",
      "source": [
        "build_string(\"Hello\")"
      ],
      "metadata": {
        "colab": {
          "base_uri": "https://localhost:8080/",
          "height": 35
        },
        "id": "65FJ2Inc52Ji",
        "outputId": "56fddb34-cca0-4af3-a54b-5bea3e18b462"
      },
      "id": "65FJ2Inc52Ji",
      "execution_count": null,
      "outputs": [
        {
          "output_type": "execute_result",
          "data": {
            "text/plain": [
              "'Hello'"
            ],
            "application/vnd.google.colaboratory.intrinsic+json": {
              "type": "string"
            }
          },
          "metadata": {},
          "execution_count": 78
        }
      ]
    },
    {
      "cell_type": "markdown",
      "source": [
        "### Subarrays/substrings, subsequences, and subsets"
      ],
      "metadata": {
        "id": "4h_oUrg7Nu5j"
      },
      "id": "4h_oUrg7Nu5j"
    },
    {
      "cell_type": "markdown",
      "source": [
        "### Closing notes"
      ],
      "metadata": {
        "id": "gdCyOiau5WJN"
      },
      "id": "gdCyOiau5WJN"
    },
    {
      "cell_type": "markdown",
      "source": [
        "## Arrays and strings quiz"
      ],
      "metadata": {
        "id": "38k1h-8Vzz0d"
      },
      "id": "38k1h-8Vzz0d"
    },
    {
      "cell_type": "markdown",
      "source": [
        "### Subarray Product Less Than K"
      ],
      "metadata": {
        "id": "EB34mzP9IuMo"
      },
      "id": "EB34mzP9IuMo"
    },
    {
      "cell_type": "code",
      "source": [
        "def num_subarray_product_less_than_k(nums, k):\n",
        "    if k <= 1:\n",
        "        return 0\n",
        "\n",
        "    left = ans = 0\n",
        "    curr = 1\n",
        "\n",
        "    for right in range(len(nums)):\n",
        "        curr *= nums[right]\n",
        "\n",
        "        while curr >= k:\n",
        "            curr //= nums[left]\n",
        "            left += 1\n",
        "\n",
        "        ans += right - left + 1\n",
        "\n",
        "    return ans"
      ],
      "metadata": {
        "id": "NJUr1CLVI5xL"
      },
      "id": "NJUr1CLVI5xL",
      "execution_count": 3,
      "outputs": []
    },
    {
      "cell_type": "markdown",
      "source": [
        "This algorithm has a time complexity of $O(n)$ and a space complexity of $O(1)$."
      ],
      "metadata": {
        "id": "6iE_jFlNJhwR"
      },
      "id": "6iE_jFlNJhwR"
    },
    {
      "cell_type": "code",
      "source": [
        "nums = [10, 5, 2, 6]\n",
        "k = 100\n",
        "num_subarray_product_less_than_k(nums, k)"
      ],
      "metadata": {
        "colab": {
          "base_uri": "https://localhost:8080/"
        },
        "id": "99eUF188Jyi8",
        "outputId": "49b8e234-6c21-44c7-9c79-60ccd86edb18"
      },
      "id": "99eUF188Jyi8",
      "execution_count": 4,
      "outputs": [
        {
          "output_type": "execute_result",
          "data": {
            "text/plain": [
              "8"
            ]
          },
          "metadata": {},
          "execution_count": 4
        }
      ]
    },
    {
      "cell_type": "code",
      "source": [
        "nums = [1, 2, 3]\n",
        "k = 0\n",
        "num_subarray_product_less_than_k(nums, k)"
      ],
      "metadata": {
        "colab": {
          "base_uri": "https://localhost:8080/"
        },
        "id": "nydxWlniKBN9",
        "outputId": "82ecc7fc-6bc4-42dc-f120-4233ba9c591b"
      },
      "id": "nydxWlniKBN9",
      "execution_count": 5,
      "outputs": [
        {
          "output_type": "execute_result",
          "data": {
            "text/plain": [
              "0"
            ]
          },
          "metadata": {},
          "execution_count": 5
        }
      ]
    },
    {
      "cell_type": "markdown",
      "source": [
        "## Bonus problems, arrays and strings"
      ],
      "metadata": {
        "id": "TUrFHvwIIglP"
      },
      "id": "TUrFHvwIIglP"
    },
    {
      "cell_type": "code",
      "source": [],
      "metadata": {
        "id": "Q8x1aOEPNoOM"
      },
      "id": "Q8x1aOEPNoOM",
      "execution_count": null,
      "outputs": []
    }
  ],
  "metadata": {
    "kernelspec": {
      "display_name": "Python 3 (ipykernel)",
      "language": "python",
      "name": "python3"
    },
    "language_info": {
      "codemirror_mode": {
        "name": "ipython",
        "version": 3
      },
      "file_extension": ".py",
      "mimetype": "text/x-python",
      "name": "python",
      "nbconvert_exporter": "python",
      "pygments_lexer": "ipython3",
      "version": "3.11.5"
    },
    "colab": {
      "provenance": []
    }
  },
  "nbformat": 4,
  "nbformat_minor": 5
}