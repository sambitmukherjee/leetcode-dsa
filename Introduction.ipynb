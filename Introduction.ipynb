{
  "cells": [
    {
      "cell_type": "markdown",
      "source": [
        "# Introduction to big O"
      ],
      "metadata": {
        "id": "8cuFp4yp5ujH"
      },
      "id": "8cuFp4yp5ujH"
    },
    {
      "cell_type": "code",
      "source": [
        "def largest_number(nums):\n",
        "    return max(nums)"
      ],
      "metadata": {
        "id": "-3Qo8s_qbkdM"
      },
      "id": "-3Qo8s_qbkdM",
      "execution_count": 1,
      "outputs": []
    },
    {
      "cell_type": "code",
      "source": [
        "nums = [7, 231, 3, 456, 72]\n",
        "largest_number(nums)"
      ],
      "metadata": {
        "colab": {
          "base_uri": "https://localhost:8080/"
        },
        "id": "_-4IAVuabpja",
        "outputId": "93c740f2-deed-48e3-b95d-74daffd62650"
      },
      "id": "_-4IAVuabpja",
      "execution_count": 2,
      "outputs": [
        {
          "output_type": "execute_result",
          "data": {
            "text/plain": [
              "456"
            ]
          },
          "metadata": {},
          "execution_count": 2
        }
      ]
    },
    {
      "cell_type": "code",
      "source": [
        "# Alt:\n",
        "import math\n",
        "\n",
        "def largest_number(nums):\n",
        "    max_num = -math.inf\n",
        "    for num in nums:\n",
        "        if num > max_num:\n",
        "            max_num = num\n",
        "    return max_num"
      ],
      "metadata": {
        "id": "DRvrKYOPbu-g"
      },
      "id": "DRvrKYOPbu-g",
      "execution_count": 3,
      "outputs": []
    },
    {
      "cell_type": "code",
      "source": [
        "largest_number(nums)"
      ],
      "metadata": {
        "id": "KqtGUoJpb87l",
        "outputId": "866d22ac-7140-49e3-cb21-8e6215ee167b",
        "colab": {
          "base_uri": "https://localhost:8080/"
        }
      },
      "id": "KqtGUoJpb87l",
      "execution_count": 4,
      "outputs": [
        {
          "output_type": "execute_result",
          "data": {
            "text/plain": [
              "456"
            ]
          },
          "metadata": {},
          "execution_count": 4
        }
      ]
    },
    {
      "cell_type": "markdown",
      "source": [
        "## Analyzing time complexity"
      ],
      "metadata": {
        "id": "KhAROSdi55pW"
      },
      "id": "KhAROSdi55pW"
    },
    {
      "cell_type": "code",
      "source": [
        "arr = list(range(10))\n",
        "arr"
      ],
      "metadata": {
        "colab": {
          "base_uri": "https://localhost:8080/"
        },
        "id": "KpqeJq8Z3Ypv",
        "outputId": "9eb29796-78ba-4946-ea1e-b68f01572c1c"
      },
      "id": "KpqeJq8Z3Ypv",
      "execution_count": 5,
      "outputs": [
        {
          "output_type": "execute_result",
          "data": {
            "text/plain": [
              "[0, 1, 2, 3, 4, 5, 6, 7, 8, 9]"
            ]
          },
          "metadata": {},
          "execution_count": 5
        }
      ]
    },
    {
      "cell_type": "code",
      "source": [
        "# Given an integer array \"arr\" with length n:\n",
        "for num in arr:\n",
        "    print(num)"
      ],
      "metadata": {
        "colab": {
          "base_uri": "https://localhost:8080/"
        },
        "id": "eYjIXvyv3e9-",
        "outputId": "45d6e300-d4cf-4123-ad33-0a75c3bcaacb"
      },
      "id": "eYjIXvyv3e9-",
      "execution_count": 6,
      "outputs": [
        {
          "output_type": "stream",
          "name": "stdout",
          "text": [
            "0\n",
            "1\n",
            "2\n",
            "3\n",
            "4\n",
            "5\n",
            "6\n",
            "7\n",
            "8\n",
            "9\n"
          ]
        }
      ]
    },
    {
      "cell_type": "markdown",
      "source": [
        "This algorithm has a time complexity of $O(n)$."
      ],
      "metadata": {
        "id": "poO7YwXs3mJi"
      },
      "id": "poO7YwXs3mJi"
    },
    {
      "cell_type": "code",
      "source": [
        "# Given an integer array \"arr\" with length n:\n",
        "for num in arr:\n",
        "    # for i in range(0, 500000):\n",
        "    for i in range(0, 5):\n",
        "        print(num, end=\" \")\n",
        "    print()"
      ],
      "metadata": {
        "colab": {
          "base_uri": "https://localhost:8080/"
        },
        "id": "IHMXmAiw4cdt",
        "outputId": "419743ac-8e7f-418d-dcd2-0633c8c99c38"
      },
      "id": "IHMXmAiw4cdt",
      "execution_count": 7,
      "outputs": [
        {
          "output_type": "stream",
          "name": "stdout",
          "text": [
            "0 0 0 0 0 \n",
            "1 1 1 1 1 \n",
            "2 2 2 2 2 \n",
            "3 3 3 3 3 \n",
            "4 4 4 4 4 \n",
            "5 5 5 5 5 \n",
            "6 6 6 6 6 \n",
            "7 7 7 7 7 \n",
            "8 8 8 8 8 \n",
            "9 9 9 9 9 \n"
          ]
        }
      ]
    },
    {
      "cell_type": "markdown",
      "source": [
        "This algorithm has a time complexity of $O(n)$."
      ],
      "metadata": {
        "id": "vRMvHAvS4qAc"
      },
      "id": "vRMvHAvS4qAc"
    },
    {
      "cell_type": "code",
      "source": [
        "# Given an integer array \"arr\" with length n:\n",
        "for num in arr:\n",
        "    for num2 in arr:\n",
        "        print(num * num2, end=\" \")\n",
        "    print()"
      ],
      "metadata": {
        "colab": {
          "base_uri": "https://localhost:8080/"
        },
        "id": "Mpbb3EizELIr",
        "outputId": "4a380fa0-1132-43aa-ac23-853199584b54"
      },
      "id": "Mpbb3EizELIr",
      "execution_count": 8,
      "outputs": [
        {
          "output_type": "stream",
          "name": "stdout",
          "text": [
            "0 0 0 0 0 0 0 0 0 0 \n",
            "0 1 2 3 4 5 6 7 8 9 \n",
            "0 2 4 6 8 10 12 14 16 18 \n",
            "0 3 6 9 12 15 18 21 24 27 \n",
            "0 4 8 12 16 20 24 28 32 36 \n",
            "0 5 10 15 20 25 30 35 40 45 \n",
            "0 6 12 18 24 30 36 42 48 54 \n",
            "0 7 14 21 28 35 42 49 56 63 \n",
            "0 8 16 24 32 40 48 56 64 72 \n",
            "0 9 18 27 36 45 54 63 72 81 \n"
          ]
        }
      ]
    },
    {
      "cell_type": "markdown",
      "source": [
        "This algorithm has a time complexity of $O(n^2)$."
      ],
      "metadata": {
        "id": "galoYagCGROA"
      },
      "id": "galoYagCGROA"
    },
    {
      "cell_type": "code",
      "source": [
        "arr2 = list(range(10, 15))\n",
        "arr2"
      ],
      "metadata": {
        "colab": {
          "base_uri": "https://localhost:8080/"
        },
        "id": "yFI23TMcGW9T",
        "outputId": "fe671ca9-6104-477c-ccc1-38d0b4f5779f"
      },
      "id": "yFI23TMcGW9T",
      "execution_count": 9,
      "outputs": [
        {
          "output_type": "execute_result",
          "data": {
            "text/plain": [
              "[10, 11, 12, 13, 14]"
            ]
          },
          "metadata": {},
          "execution_count": 9
        }
      ]
    },
    {
      "cell_type": "code",
      "source": [
        "# Given integer arrays \"arr\" with length n and \"arr2\" with length m:\n",
        "for num in arr:\n",
        "    print(num)\n",
        "\n",
        "for num in arr:\n",
        "    print(num)\n",
        "\n",
        "for num in arr2:\n",
        "    print(num)"
      ],
      "metadata": {
        "colab": {
          "base_uri": "https://localhost:8080/"
        },
        "id": "o5Yic3ZUQSxT",
        "outputId": "8c82de31-ef04-4f00-bd5c-30351f2a230a"
      },
      "id": "o5Yic3ZUQSxT",
      "execution_count": 10,
      "outputs": [
        {
          "output_type": "stream",
          "name": "stdout",
          "text": [
            "0\n",
            "1\n",
            "2\n",
            "3\n",
            "4\n",
            "5\n",
            "6\n",
            "7\n",
            "8\n",
            "9\n",
            "0\n",
            "1\n",
            "2\n",
            "3\n",
            "4\n",
            "5\n",
            "6\n",
            "7\n",
            "8\n",
            "9\n",
            "10\n",
            "11\n",
            "12\n",
            "13\n",
            "14\n"
          ]
        }
      ]
    },
    {
      "cell_type": "markdown",
      "source": [
        "This algorithm has a time complexity of $O(n + m)$."
      ],
      "metadata": {
        "id": "k9J-AWGaQeNI"
      },
      "id": "k9J-AWGaQeNI"
    },
    {
      "cell_type": "code",
      "source": [
        "# Given an integer array \"arr\" with length n:\n",
        "for i in range(len(arr)):\n",
        "    for j in range(i, len(arr)):\n",
        "        print(arr[i] + arr[j], end=\" \")\n",
        "    print()"
      ],
      "metadata": {
        "colab": {
          "base_uri": "https://localhost:8080/"
        },
        "id": "T7BAy1jZU7JT",
        "outputId": "478024ed-49cd-4c63-8753-e6afe906d4f4"
      },
      "id": "T7BAy1jZU7JT",
      "execution_count": 11,
      "outputs": [
        {
          "output_type": "stream",
          "name": "stdout",
          "text": [
            "0 1 2 3 4 5 6 7 8 9 \n",
            "2 3 4 5 6 7 8 9 10 \n",
            "4 5 6 7 8 9 10 11 \n",
            "6 7 8 9 10 11 12 \n",
            "8 9 10 11 12 13 \n",
            "10 11 12 13 14 \n",
            "12 13 14 15 \n",
            "14 15 16 \n",
            "16 17 \n",
            "18 \n"
          ]
        }
      ]
    },
    {
      "cell_type": "markdown",
      "source": [
        "This algorithm has a time complexity of $O(n^2)$."
      ],
      "metadata": {
        "id": "Ox26wvmFVkBw"
      },
      "id": "Ox26wvmFVkBw"
    },
    {
      "cell_type": "markdown",
      "source": [
        "## Analyzing space complexity"
      ],
      "metadata": {
        "id": "RuIGTZZrHoO4"
      },
      "id": "RuIGTZZrHoO4"
    },
    {
      "cell_type": "code",
      "source": [
        "# Given an integer array \"arr\" with length n:\n",
        "for num in arr:\n",
        "    print(num)"
      ],
      "metadata": {
        "colab": {
          "base_uri": "https://localhost:8080/"
        },
        "id": "gUUvkckkUnV5",
        "outputId": "51a08356-ba78-4079-cc66-185d2cce0fab"
      },
      "id": "gUUvkckkUnV5",
      "execution_count": 12,
      "outputs": [
        {
          "output_type": "stream",
          "name": "stdout",
          "text": [
            "0\n",
            "1\n",
            "2\n",
            "3\n",
            "4\n",
            "5\n",
            "6\n",
            "7\n",
            "8\n",
            "9\n"
          ]
        }
      ]
    },
    {
      "cell_type": "markdown",
      "source": [
        "This algorithm has a space complexity of $O(1)$."
      ],
      "metadata": {
        "id": "wbA4D4UmUxtn"
      },
      "id": "wbA4D4UmUxtn"
    },
    {
      "cell_type": "code",
      "source": [
        "# Given an integer array \"arr\" with length n:\n",
        "doubled_nums = []\n",
        "for num in arr:\n",
        "    doubled_nums.append(num * 2)\n",
        "doubled_nums"
      ],
      "metadata": {
        "colab": {
          "base_uri": "https://localhost:8080/"
        },
        "id": "f06ODS0uU3i6",
        "outputId": "c75f3c32-8a0f-445e-9b6c-e7e7dec546d0"
      },
      "id": "f06ODS0uU3i6",
      "execution_count": 13,
      "outputs": [
        {
          "output_type": "execute_result",
          "data": {
            "text/plain": [
              "[0, 2, 4, 6, 8, 10, 12, 14, 16, 18]"
            ]
          },
          "metadata": {},
          "execution_count": 13
        }
      ]
    },
    {
      "cell_type": "markdown",
      "source": [
        "This algorithm has a space complexity of $O(n)$."
      ],
      "metadata": {
        "id": "YK6ZbHaQVH76"
      },
      "id": "YK6ZbHaQVH76"
    },
    {
      "cell_type": "code",
      "source": [
        "# Given an integer array \"arr\" with length n:\n",
        "nums = []\n",
        "one_tenth = len(arr) / 10\n",
        "one_tenth"
      ],
      "metadata": {
        "colab": {
          "base_uri": "https://localhost:8080/"
        },
        "id": "ZpAWvsBwVa1v",
        "outputId": "c43ef287-2ca9-4b94-9663-c500d620f042"
      },
      "id": "ZpAWvsBwVa1v",
      "execution_count": 14,
      "outputs": [
        {
          "output_type": "execute_result",
          "data": {
            "text/plain": [
              "1.0"
            ]
          },
          "metadata": {},
          "execution_count": 14
        }
      ]
    },
    {
      "cell_type": "code",
      "source": [
        "i = 0\n",
        "while i < one_tenth:\n",
        "    nums.append(arr[i])\n",
        "    i += 1\n",
        "nums"
      ],
      "metadata": {
        "colab": {
          "base_uri": "https://localhost:8080/"
        },
        "id": "Q5dYyoc3Vhke",
        "outputId": "00a4eae1-f3e9-4dce-e2f8-a128f96798ea"
      },
      "id": "Q5dYyoc3Vhke",
      "execution_count": 15,
      "outputs": [
        {
          "output_type": "execute_result",
          "data": {
            "text/plain": [
              "[0]"
            ]
          },
          "metadata": {},
          "execution_count": 15
        }
      ]
    },
    {
      "cell_type": "markdown",
      "source": [
        "This algorithm has a space complexity of $O(n)$."
      ],
      "metadata": {
        "id": "D-GMMMFGVwrw"
      },
      "id": "D-GMMMFGVwrw"
    },
    {
      "cell_type": "code",
      "source": [
        "# Given integer arrays \"arr\" with length n and \"arr2\" with length m:\n",
        "import numpy as np\n",
        "\n",
        "grid = np.zeros(shape=(len(arr), len(arr2)))\n",
        "grid.shape"
      ],
      "metadata": {
        "colab": {
          "base_uri": "https://localhost:8080/"
        },
        "id": "NeZKTnT6V17y",
        "outputId": "5d5151e2-d8bc-42fc-fd6e-0fee847f2c2f"
      },
      "id": "NeZKTnT6V17y",
      "execution_count": 16,
      "outputs": [
        {
          "output_type": "execute_result",
          "data": {
            "text/plain": [
              "(10, 5)"
            ]
          },
          "metadata": {},
          "execution_count": 16
        }
      ]
    },
    {
      "cell_type": "code",
      "source": [
        "for i in range(len(arr)):\n",
        "    for j in range(len(arr2)):\n",
        "        grid[i][j] = arr[i] * arr2[j]\n",
        "grid"
      ],
      "metadata": {
        "colab": {
          "base_uri": "https://localhost:8080/"
        },
        "id": "jeVkbYVXWRXt",
        "outputId": "dd15ed94-a3f0-4a41-991e-cf28e8d80cb0"
      },
      "id": "jeVkbYVXWRXt",
      "execution_count": 17,
      "outputs": [
        {
          "output_type": "execute_result",
          "data": {
            "text/plain": [
              "array([[  0.,   0.,   0.,   0.,   0.],\n",
              "       [ 10.,  11.,  12.,  13.,  14.],\n",
              "       [ 20.,  22.,  24.,  26.,  28.],\n",
              "       [ 30.,  33.,  36.,  39.,  42.],\n",
              "       [ 40.,  44.,  48.,  52.,  56.],\n",
              "       [ 50.,  55.,  60.,  65.,  70.],\n",
              "       [ 60.,  66.,  72.,  78.,  84.],\n",
              "       [ 70.,  77.,  84.,  91.,  98.],\n",
              "       [ 80.,  88.,  96., 104., 112.],\n",
              "       [ 90.,  99., 108., 117., 126.]])"
            ]
          },
          "metadata": {},
          "execution_count": 17
        }
      ]
    },
    {
      "cell_type": "markdown",
      "source": [
        "This algorithm has a space complexity of $O(n.m)$."
      ],
      "metadata": {
        "id": "2tEjOnCZWgV1"
      },
      "id": "2tEjOnCZWgV1"
    },
    {
      "cell_type": "markdown",
      "source": [
        "# Introduction to recursion"
      ],
      "metadata": {
        "id": "7NNtXeylfWYp"
      },
      "id": "7NNtXeylfWYp"
    },
    {
      "cell_type": "code",
      "source": [
        "for i in range(1, 11):\n",
        "    print(i)"
      ],
      "metadata": {
        "colab": {
          "base_uri": "https://localhost:8080/"
        },
        "id": "ETD0fQuz73rb",
        "outputId": "7cce00ce-c1a5-4e51-cc82-67eb8aecb11f"
      },
      "id": "ETD0fQuz73rb",
      "execution_count": 18,
      "outputs": [
        {
          "output_type": "stream",
          "name": "stdout",
          "text": [
            "1\n",
            "2\n",
            "3\n",
            "4\n",
            "5\n",
            "6\n",
            "7\n",
            "8\n",
            "9\n",
            "10\n"
          ]
        }
      ]
    },
    {
      "cell_type": "markdown",
      "source": [
        "A **base case** is needed to make the recursion stop. Base cases are conditions at the start of recursive functions that terminate the calls."
      ],
      "metadata": {
        "id": "EpE4pmJlg2Wk"
      },
      "id": "EpE4pmJlg2Wk"
    },
    {
      "cell_type": "code",
      "source": [
        "def fn(i):\n",
        "    if i > 10:\n",
        "        return\n",
        "\n",
        "    print(i)\n",
        "    fn(i + 1)\n",
        "    return # Optional.\n",
        "\n",
        "fn(1)"
      ],
      "metadata": {
        "colab": {
          "base_uri": "https://localhost:8080/"
        },
        "id": "uz4rw2CS8ZUN",
        "outputId": "40c4ac47-dbcc-4ba3-e182-4547dfe531e3"
      },
      "id": "uz4rw2CS8ZUN",
      "execution_count": 19,
      "outputs": [
        {
          "output_type": "stream",
          "name": "stdout",
          "text": [
            "1\n",
            "2\n",
            "3\n",
            "4\n",
            "5\n",
            "6\n",
            "7\n",
            "8\n",
            "9\n",
            "10\n"
          ]
        }
      ]
    },
    {
      "cell_type": "markdown",
      "source": [
        "**Note:** The first `return` statement (inside the `if` block) is akin to a `break` statement in a loop. The second `return` statement (at the end of the function) isn't required. This is akin to a particular iteration of a loop ending naturally (after going through all the lines in the loop block). However, adding the second `return` statement does make the program clearer when using recursion."
      ],
      "metadata": {
        "id": "hJwVwCIe8_ca"
      },
      "id": "hJwVwCIe8_ca"
    },
    {
      "cell_type": "code",
      "source": [
        "fn(9)"
      ],
      "metadata": {
        "colab": {
          "base_uri": "https://localhost:8080/"
        },
        "id": "f-rxl4Cb-PHa",
        "outputId": "eb2f7377-f67b-4759-9613-76db5e626084"
      },
      "id": "f-rxl4Cb-PHa",
      "execution_count": 20,
      "outputs": [
        {
          "output_type": "stream",
          "name": "stdout",
          "text": [
            "9\n",
            "10\n"
          ]
        }
      ]
    },
    {
      "cell_type": "code",
      "source": [
        "fn(10)"
      ],
      "metadata": {
        "colab": {
          "base_uri": "https://localhost:8080/"
        },
        "id": "2pyTqgcN-RFh",
        "outputId": "e7127ace-e133-47b7-8144-8f3ad98c068b"
      },
      "id": "2pyTqgcN-RFh",
      "execution_count": 21,
      "outputs": [
        {
          "output_type": "stream",
          "name": "stdout",
          "text": [
            "10\n"
          ]
        }
      ]
    },
    {
      "cell_type": "code",
      "source": [
        "fn(11)"
      ],
      "metadata": {
        "id": "4bVFtnuO-Swh"
      },
      "id": "4bVFtnuO-Swh",
      "execution_count": 22,
      "outputs": []
    },
    {
      "cell_type": "code",
      "source": [
        "def fn(i):\n",
        "    if i > 3:\n",
        "        return\n",
        "\n",
        "    print(i)\n",
        "    fn(i + 1)\n",
        "    print(f\"End of call where i = {i}\")\n",
        "    return\n",
        "\n",
        "fn(1)"
      ],
      "metadata": {
        "colab": {
          "base_uri": "https://localhost:8080/"
        },
        "id": "T-Wkl3cA-pnn",
        "outputId": "dac133a5-be2b-4852-b7f2-c357623efa64"
      },
      "id": "T-Wkl3cA-pnn",
      "execution_count": 23,
      "outputs": [
        {
          "output_type": "stream",
          "name": "stdout",
          "text": [
            "1\n",
            "2\n",
            "3\n",
            "End of call where i = 3\n",
            "End of call where i = 2\n",
            "End of call where i = 1\n"
          ]
        }
      ]
    },
    {
      "cell_type": "markdown",
      "source": [
        "## Breaking problems down"
      ],
      "metadata": {
        "id": "LtiUzTEvkOlW"
      },
      "id": "LtiUzTEvkOlW"
    },
    {
      "cell_type": "markdown",
      "source": [
        "For reference, the first few Fibonacci numbers are 0, 1, 1, 2, 3, 5, 8."
      ],
      "metadata": {
        "id": "F19-SYrACkfl"
      },
      "id": "F19-SYrACkfl"
    },
    {
      "cell_type": "code",
      "source": [
        "def F(n):\n",
        "    if n <= 1:\n",
        "        return n\n",
        "\n",
        "    one_back = F(n - 1)\n",
        "    two_back = F(n - 2)\n",
        "    return one_back + two_back"
      ],
      "metadata": {
        "id": "GftUSfppGmiK"
      },
      "id": "GftUSfppGmiK",
      "execution_count": 24,
      "outputs": []
    },
    {
      "cell_type": "code",
      "source": [
        "F(3)"
      ],
      "metadata": {
        "colab": {
          "base_uri": "https://localhost:8080/"
        },
        "id": "BbBxe27LGwtm",
        "outputId": "7dbd9237-7816-4aa1-b736-96f02ad79ff2"
      },
      "id": "BbBxe27LGwtm",
      "execution_count": 25,
      "outputs": [
        {
          "output_type": "execute_result",
          "data": {
            "text/plain": [
              "2"
            ]
          },
          "metadata": {},
          "execution_count": 25
        }
      ]
    },
    {
      "cell_type": "code",
      "source": [
        "F(6)"
      ],
      "metadata": {
        "colab": {
          "base_uri": "https://localhost:8080/"
        },
        "id": "vJEEKV7YGzbH",
        "outputId": "1bcc2682-7eb0-4622-962e-ec0ae982deab"
      },
      "id": "vJEEKV7YGzbH",
      "execution_count": 26,
      "outputs": [
        {
          "output_type": "execute_result",
          "data": {
            "text/plain": [
              "8"
            ]
          },
          "metadata": {},
          "execution_count": 26
        }
      ]
    },
    {
      "cell_type": "code",
      "source": [],
      "metadata": {
        "id": "9Ul8GLQmCr0k"
      },
      "id": "9Ul8GLQmCr0k",
      "execution_count": 26,
      "outputs": []
    }
  ],
  "metadata": {
    "kernelspec": {
      "display_name": "Python 3 (ipykernel)",
      "language": "python",
      "name": "python3"
    },
    "language_info": {
      "codemirror_mode": {
        "name": "ipython",
        "version": 3
      },
      "file_extension": ".py",
      "mimetype": "text/x-python",
      "name": "python",
      "nbconvert_exporter": "python",
      "pygments_lexer": "ipython3",
      "version": "3.11.5"
    },
    "colab": {
      "provenance": []
    }
  },
  "nbformat": 4,
  "nbformat_minor": 5
}