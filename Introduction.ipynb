{
  "cells": [
    {
      "cell_type": "markdown",
      "source": [
        "# Introduction to big O"
      ],
      "metadata": {
        "id": "8cuFp4yp5ujH"
      },
      "id": "8cuFp4yp5ujH"
    },
    {
      "cell_type": "code",
      "source": [
        "def largest_number(nums):\n",
        "    return max(nums)"
      ],
      "metadata": {
        "id": "-3Qo8s_qbkdM"
      },
      "id": "-3Qo8s_qbkdM",
      "execution_count": 1,
      "outputs": []
    },
    {
      "cell_type": "code",
      "source": [
        "nums = [7, 231, 3, 456, 72]\n",
        "largest_number(nums)"
      ],
      "metadata": {
        "colab": {
          "base_uri": "https://localhost:8080/"
        },
        "id": "_-4IAVuabpja",
        "outputId": "07936b28-5d3c-4ae7-e805-96b120eec667"
      },
      "id": "_-4IAVuabpja",
      "execution_count": 2,
      "outputs": [
        {
          "output_type": "execute_result",
          "data": {
            "text/plain": [
              "456"
            ]
          },
          "metadata": {},
          "execution_count": 2
        }
      ]
    },
    {
      "cell_type": "code",
      "source": [
        "# Alt:\n",
        "import math\n",
        "\n",
        "def largest_number(nums):\n",
        "    max_num = -math.inf\n",
        "    for num in nums:\n",
        "        if num > max_num:\n",
        "            max_num = num\n",
        "    return max_num"
      ],
      "metadata": {
        "id": "DRvrKYOPbu-g"
      },
      "id": "DRvrKYOPbu-g",
      "execution_count": 3,
      "outputs": []
    },
    {
      "cell_type": "code",
      "source": [
        "largest_number(nums)"
      ],
      "metadata": {
        "id": "KqtGUoJpb87l",
        "outputId": "b2435220-0580-4606-a1dd-48ceac8bc507",
        "colab": {
          "base_uri": "https://localhost:8080/"
        }
      },
      "id": "KqtGUoJpb87l",
      "execution_count": 4,
      "outputs": [
        {
          "output_type": "execute_result",
          "data": {
            "text/plain": [
              "456"
            ]
          },
          "metadata": {},
          "execution_count": 4
        }
      ]
    },
    {
      "cell_type": "markdown",
      "source": [
        "## Analyzing time complexity"
      ],
      "metadata": {
        "id": "KhAROSdi55pW"
      },
      "id": "KhAROSdi55pW"
    },
    {
      "cell_type": "code",
      "source": [
        "arr = list(range(10))\n",
        "arr"
      ],
      "metadata": {
        "colab": {
          "base_uri": "https://localhost:8080/"
        },
        "id": "KpqeJq8Z3Ypv",
        "outputId": "d6047580-c1e8-4f28-91fb-7ce0c1f4682a"
      },
      "id": "KpqeJq8Z3Ypv",
      "execution_count": 5,
      "outputs": [
        {
          "output_type": "execute_result",
          "data": {
            "text/plain": [
              "[0, 1, 2, 3, 4, 5, 6, 7, 8, 9]"
            ]
          },
          "metadata": {},
          "execution_count": 5
        }
      ]
    },
    {
      "cell_type": "code",
      "source": [
        "# Given an integer array \"arr\" with length n:\n",
        "for num in arr:\n",
        "    print(num)"
      ],
      "metadata": {
        "colab": {
          "base_uri": "https://localhost:8080/"
        },
        "id": "eYjIXvyv3e9-",
        "outputId": "63823e0e-1077-407b-9917-fc0584c4adc1"
      },
      "id": "eYjIXvyv3e9-",
      "execution_count": 6,
      "outputs": [
        {
          "output_type": "stream",
          "name": "stdout",
          "text": [
            "0\n",
            "1\n",
            "2\n",
            "3\n",
            "4\n",
            "5\n",
            "6\n",
            "7\n",
            "8\n",
            "9\n"
          ]
        }
      ]
    },
    {
      "cell_type": "markdown",
      "source": [
        "This algorithm has a time complexity of $O(n)$."
      ],
      "metadata": {
        "id": "poO7YwXs3mJi"
      },
      "id": "poO7YwXs3mJi"
    },
    {
      "cell_type": "code",
      "source": [
        "# Given an integer array \"arr\" with length n:\n",
        "for num in arr:\n",
        "    # for i in range(0, 500000):\n",
        "    for i in range(0, 5):\n",
        "        print(num, end=\" \")\n",
        "    print()"
      ],
      "metadata": {
        "colab": {
          "base_uri": "https://localhost:8080/"
        },
        "id": "IHMXmAiw4cdt",
        "outputId": "e1788f29-6960-4d41-ea5b-775d8ddfe09b"
      },
      "id": "IHMXmAiw4cdt",
      "execution_count": 7,
      "outputs": [
        {
          "output_type": "stream",
          "name": "stdout",
          "text": [
            "0 0 0 0 0 \n",
            "1 1 1 1 1 \n",
            "2 2 2 2 2 \n",
            "3 3 3 3 3 \n",
            "4 4 4 4 4 \n",
            "5 5 5 5 5 \n",
            "6 6 6 6 6 \n",
            "7 7 7 7 7 \n",
            "8 8 8 8 8 \n",
            "9 9 9 9 9 \n"
          ]
        }
      ]
    },
    {
      "cell_type": "markdown",
      "source": [
        "This algorithm has a time complexity of $O(n)$."
      ],
      "metadata": {
        "id": "vRMvHAvS4qAc"
      },
      "id": "vRMvHAvS4qAc"
    },
    {
      "cell_type": "code",
      "source": [
        "# Given an integer array \"arr\" with length n:\n",
        "for num in arr:\n",
        "    for num2 in arr:\n",
        "        print(num * num2, end=\" \")\n",
        "    print()"
      ],
      "metadata": {
        "colab": {
          "base_uri": "https://localhost:8080/"
        },
        "id": "Mpbb3EizELIr",
        "outputId": "53847bad-e61b-4954-c4f7-6e8c292fcef6"
      },
      "id": "Mpbb3EizELIr",
      "execution_count": 8,
      "outputs": [
        {
          "output_type": "stream",
          "name": "stdout",
          "text": [
            "0 0 0 0 0 0 0 0 0 0 \n",
            "0 1 2 3 4 5 6 7 8 9 \n",
            "0 2 4 6 8 10 12 14 16 18 \n",
            "0 3 6 9 12 15 18 21 24 27 \n",
            "0 4 8 12 16 20 24 28 32 36 \n",
            "0 5 10 15 20 25 30 35 40 45 \n",
            "0 6 12 18 24 30 36 42 48 54 \n",
            "0 7 14 21 28 35 42 49 56 63 \n",
            "0 8 16 24 32 40 48 56 64 72 \n",
            "0 9 18 27 36 45 54 63 72 81 \n"
          ]
        }
      ]
    },
    {
      "cell_type": "markdown",
      "source": [
        "This algorithm has a time complexity of $O(n^2)$."
      ],
      "metadata": {
        "id": "galoYagCGROA"
      },
      "id": "galoYagCGROA"
    },
    {
      "cell_type": "code",
      "source": [
        "arr2 = list(range(10, 15))\n",
        "arr2"
      ],
      "metadata": {
        "colab": {
          "base_uri": "https://localhost:8080/"
        },
        "id": "yFI23TMcGW9T",
        "outputId": "0cd51711-b09a-4df6-f854-ee5f18552173"
      },
      "id": "yFI23TMcGW9T",
      "execution_count": 9,
      "outputs": [
        {
          "output_type": "execute_result",
          "data": {
            "text/plain": [
              "[10, 11, 12, 13, 14]"
            ]
          },
          "metadata": {},
          "execution_count": 9
        }
      ]
    },
    {
      "cell_type": "code",
      "source": [
        "# Given integer arrays \"arr\" with length n and \"arr2\" with length m:\n",
        "for num in arr:\n",
        "    print(num)\n",
        "\n",
        "for num in arr:\n",
        "    print(num)\n",
        "\n",
        "for num in arr2:\n",
        "    print(num)"
      ],
      "metadata": {
        "colab": {
          "base_uri": "https://localhost:8080/"
        },
        "id": "o5Yic3ZUQSxT",
        "outputId": "449dd11f-ad12-478f-bf86-093c9413a990"
      },
      "id": "o5Yic3ZUQSxT",
      "execution_count": 10,
      "outputs": [
        {
          "output_type": "stream",
          "name": "stdout",
          "text": [
            "0\n",
            "1\n",
            "2\n",
            "3\n",
            "4\n",
            "5\n",
            "6\n",
            "7\n",
            "8\n",
            "9\n",
            "0\n",
            "1\n",
            "2\n",
            "3\n",
            "4\n",
            "5\n",
            "6\n",
            "7\n",
            "8\n",
            "9\n",
            "10\n",
            "11\n",
            "12\n",
            "13\n",
            "14\n"
          ]
        }
      ]
    },
    {
      "cell_type": "markdown",
      "source": [
        "This algorithm has a time complexity of $O(n + m)$."
      ],
      "metadata": {
        "id": "k9J-AWGaQeNI"
      },
      "id": "k9J-AWGaQeNI"
    },
    {
      "cell_type": "code",
      "source": [
        "# Given an integer array \"arr\" with length n:\n",
        "for i in range(len(arr)):\n",
        "    for j in range(i, len(arr)):\n",
        "        print(arr[i] + arr[j], end=\" \")\n",
        "    print()"
      ],
      "metadata": {
        "colab": {
          "base_uri": "https://localhost:8080/"
        },
        "id": "T7BAy1jZU7JT",
        "outputId": "e14f3054-ef05-4832-e836-bde1a360c14e"
      },
      "id": "T7BAy1jZU7JT",
      "execution_count": 11,
      "outputs": [
        {
          "output_type": "stream",
          "name": "stdout",
          "text": [
            "0 1 2 3 4 5 6 7 8 9 \n",
            "2 3 4 5 6 7 8 9 10 \n",
            "4 5 6 7 8 9 10 11 \n",
            "6 7 8 9 10 11 12 \n",
            "8 9 10 11 12 13 \n",
            "10 11 12 13 14 \n",
            "12 13 14 15 \n",
            "14 15 16 \n",
            "16 17 \n",
            "18 \n"
          ]
        }
      ]
    },
    {
      "cell_type": "markdown",
      "source": [
        "This algorithm has a time complexity of $O(n^2)$."
      ],
      "metadata": {
        "id": "Ox26wvmFVkBw"
      },
      "id": "Ox26wvmFVkBw"
    },
    {
      "cell_type": "markdown",
      "source": [
        "## Analyzing space complexity"
      ],
      "metadata": {
        "id": "RuIGTZZrHoO4"
      },
      "id": "RuIGTZZrHoO4"
    },
    {
      "cell_type": "code",
      "source": [
        "# Given an integer array \"arr\" with length n:\n",
        "for num in arr:\n",
        "    print(num)"
      ],
      "metadata": {
        "colab": {
          "base_uri": "https://localhost:8080/"
        },
        "id": "gUUvkckkUnV5",
        "outputId": "babcf5a7-1b1c-4d37-d345-d255217373f4"
      },
      "id": "gUUvkckkUnV5",
      "execution_count": 12,
      "outputs": [
        {
          "output_type": "stream",
          "name": "stdout",
          "text": [
            "0\n",
            "1\n",
            "2\n",
            "3\n",
            "4\n",
            "5\n",
            "6\n",
            "7\n",
            "8\n",
            "9\n"
          ]
        }
      ]
    },
    {
      "cell_type": "markdown",
      "source": [
        "This algorithm has a space complexity of $O(1)$."
      ],
      "metadata": {
        "id": "wbA4D4UmUxtn"
      },
      "id": "wbA4D4UmUxtn"
    },
    {
      "cell_type": "code",
      "source": [
        "# Given an integer array \"arr\" with length n:\n",
        "doubled_nums = []\n",
        "for num in arr:\n",
        "    doubled_nums.append(num * 2)\n",
        "doubled_nums"
      ],
      "metadata": {
        "colab": {
          "base_uri": "https://localhost:8080/"
        },
        "id": "f06ODS0uU3i6",
        "outputId": "98849671-c5eb-4c32-d06b-9070ad414f8a"
      },
      "id": "f06ODS0uU3i6",
      "execution_count": 13,
      "outputs": [
        {
          "output_type": "execute_result",
          "data": {
            "text/plain": [
              "[0, 2, 4, 6, 8, 10, 12, 14, 16, 18]"
            ]
          },
          "metadata": {},
          "execution_count": 13
        }
      ]
    },
    {
      "cell_type": "markdown",
      "source": [
        "This algorithm has a space complexity of $O(n)$."
      ],
      "metadata": {
        "id": "YK6ZbHaQVH76"
      },
      "id": "YK6ZbHaQVH76"
    },
    {
      "cell_type": "code",
      "source": [
        "# Given an integer array \"arr\" with length n:\n",
        "nums = []\n",
        "one_tenth = len(arr) / 10\n",
        "one_tenth"
      ],
      "metadata": {
        "colab": {
          "base_uri": "https://localhost:8080/"
        },
        "id": "ZpAWvsBwVa1v",
        "outputId": "150084fb-5558-4605-d372-9a958ee35bde"
      },
      "id": "ZpAWvsBwVa1v",
      "execution_count": 14,
      "outputs": [
        {
          "output_type": "execute_result",
          "data": {
            "text/plain": [
              "1.0"
            ]
          },
          "metadata": {},
          "execution_count": 14
        }
      ]
    },
    {
      "cell_type": "code",
      "source": [
        "i = 0\n",
        "while i < one_tenth:\n",
        "    nums.append(arr[i])\n",
        "    i += 1\n",
        "nums"
      ],
      "metadata": {
        "colab": {
          "base_uri": "https://localhost:8080/"
        },
        "id": "Q5dYyoc3Vhke",
        "outputId": "d7f4aa01-3a81-4efc-b92c-f92b44c5e1f4"
      },
      "id": "Q5dYyoc3Vhke",
      "execution_count": 15,
      "outputs": [
        {
          "output_type": "execute_result",
          "data": {
            "text/plain": [
              "[0]"
            ]
          },
          "metadata": {},
          "execution_count": 15
        }
      ]
    },
    {
      "cell_type": "markdown",
      "source": [
        "This algorithm has a space complexity of $O(n)$."
      ],
      "metadata": {
        "id": "D-GMMMFGVwrw"
      },
      "id": "D-GMMMFGVwrw"
    },
    {
      "cell_type": "code",
      "source": [
        "# Given integer arrays \"arr\" with length n and \"arr2\" with length m:\n",
        "import numpy as np\n",
        "\n",
        "grid = np.zeros(shape=(len(arr), len(arr2)))\n",
        "grid.shape"
      ],
      "metadata": {
        "colab": {
          "base_uri": "https://localhost:8080/"
        },
        "id": "NeZKTnT6V17y",
        "outputId": "060afcf6-cc2b-4e88-e51b-0bfc5d5d4bc1"
      },
      "id": "NeZKTnT6V17y",
      "execution_count": 16,
      "outputs": [
        {
          "output_type": "execute_result",
          "data": {
            "text/plain": [
              "(10, 5)"
            ]
          },
          "metadata": {},
          "execution_count": 16
        }
      ]
    },
    {
      "cell_type": "code",
      "source": [
        "for i in range(len(arr)):\n",
        "    for j in range(len(arr2)):\n",
        "        grid[i][j] = arr[i] * arr2[j]\n",
        "grid"
      ],
      "metadata": {
        "colab": {
          "base_uri": "https://localhost:8080/"
        },
        "id": "jeVkbYVXWRXt",
        "outputId": "11e29303-833c-4442-e924-48db5d4ca129"
      },
      "id": "jeVkbYVXWRXt",
      "execution_count": 17,
      "outputs": [
        {
          "output_type": "execute_result",
          "data": {
            "text/plain": [
              "array([[  0.,   0.,   0.,   0.,   0.],\n",
              "       [ 10.,  11.,  12.,  13.,  14.],\n",
              "       [ 20.,  22.,  24.,  26.,  28.],\n",
              "       [ 30.,  33.,  36.,  39.,  42.],\n",
              "       [ 40.,  44.,  48.,  52.,  56.],\n",
              "       [ 50.,  55.,  60.,  65.,  70.],\n",
              "       [ 60.,  66.,  72.,  78.,  84.],\n",
              "       [ 70.,  77.,  84.,  91.,  98.],\n",
              "       [ 80.,  88.,  96., 104., 112.],\n",
              "       [ 90.,  99., 108., 117., 126.]])"
            ]
          },
          "metadata": {},
          "execution_count": 17
        }
      ]
    },
    {
      "cell_type": "markdown",
      "source": [
        "This algorithm has a space complexity of $O(n.m)$."
      ],
      "metadata": {
        "id": "2tEjOnCZWgV1"
      },
      "id": "2tEjOnCZWgV1"
    },
    {
      "cell_type": "code",
      "source": [],
      "metadata": {
        "id": "WKT9eRfRLpfw"
      },
      "id": "WKT9eRfRLpfw",
      "execution_count": 17,
      "outputs": []
    }
  ],
  "metadata": {
    "kernelspec": {
      "display_name": "Python 3 (ipykernel)",
      "language": "python",
      "name": "python3"
    },
    "language_info": {
      "codemirror_mode": {
        "name": "ipython",
        "version": 3
      },
      "file_extension": ".py",
      "mimetype": "text/x-python",
      "name": "python",
      "nbconvert_exporter": "python",
      "pygments_lexer": "ipython3",
      "version": "3.11.5"
    },
    "colab": {
      "provenance": []
    }
  },
  "nbformat": 4,
  "nbformat_minor": 5
}