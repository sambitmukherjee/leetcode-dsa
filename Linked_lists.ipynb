{
  "cells": [
    {
      "cell_type": "markdown",
      "source": [
        "## Linked lists"
      ],
      "metadata": {
        "id": "wttWKWaazNwj"
      },
      "id": "wttWKWaazNwj"
    },
    {
      "cell_type": "code",
      "source": [
        "class ListNode:\n",
        "    def __init__(self, val):\n",
        "        self.val = val\n",
        "        self.next = None"
      ],
      "metadata": {
        "id": "B4vrnv7L0TYX"
      },
      "id": "B4vrnv7L0TYX",
      "execution_count": 1,
      "outputs": []
    },
    {
      "cell_type": "code",
      "source": [
        "one = ListNode(1)\n",
        "two = ListNode(2)\n",
        "three = ListNode(3)\n",
        "one.next = two\n",
        "two.next = three"
      ],
      "metadata": {
        "id": "aSYX3jE90iXY"
      },
      "id": "aSYX3jE90iXY",
      "execution_count": 2,
      "outputs": []
    },
    {
      "cell_type": "code",
      "source": [
        "head = one\n",
        "\n",
        "print(head.val)\n",
        "print(head.next.val)\n",
        "print(head.next.next.val)"
      ],
      "metadata": {
        "colab": {
          "base_uri": "https://localhost:8080/"
        },
        "id": "YjEhHKSU01yV",
        "outputId": "e927f28c-0c31-439a-888e-4b27cff78400"
      },
      "id": "YjEhHKSU01yV",
      "execution_count": 3,
      "outputs": [
        {
          "output_type": "stream",
          "name": "stdout",
          "text": [
            "1\n",
            "2\n",
            "3\n"
          ]
        }
      ]
    },
    {
      "cell_type": "markdown",
      "source": [
        "### Advantages and disadvantages compared to arrays"
      ],
      "metadata": {
        "id": "h0h70_XL2fGD"
      },
      "id": "h0h70_XL2fGD"
    },
    {
      "cell_type": "markdown",
      "source": [
        "### Mechanics of a linked list"
      ],
      "metadata": {
        "id": "B9hDizNr6Z_v"
      },
      "id": "B9hDizNr6Z_v"
    },
    {
      "cell_type": "code",
      "source": [
        "ptr = head\n",
        "head = head.next\n",
        "print(head.val)\n",
        "head = None"
      ],
      "metadata": {
        "colab": {
          "base_uri": "https://localhost:8080/"
        },
        "id": "4Q3vFleRKOkS",
        "outputId": "5a31d9d3-96d7-4fc2-91c4-7c04654ca908"
      },
      "id": "4Q3vFleRKOkS",
      "execution_count": 4,
      "outputs": [
        {
          "output_type": "stream",
          "name": "stdout",
          "text": [
            "2\n"
          ]
        }
      ]
    },
    {
      "cell_type": "code",
      "source": [
        "ptr"
      ],
      "metadata": {
        "colab": {
          "base_uri": "https://localhost:8080/"
        },
        "id": "ZQ96ZSKgKkG9",
        "outputId": "5d7b8e12-e6f7-4438-d312-91fb0cf2bbdc"
      },
      "id": "ZQ96ZSKgKkG9",
      "execution_count": 5,
      "outputs": [
        {
          "output_type": "execute_result",
          "data": {
            "text/plain": [
              "<__main__.ListNode at 0x7fca3df9cf70>"
            ]
          },
          "metadata": {},
          "execution_count": 5
        }
      ]
    },
    {
      "cell_type": "code",
      "source": [
        "ptr.val"
      ],
      "metadata": {
        "colab": {
          "base_uri": "https://localhost:8080/"
        },
        "id": "erbBJumJKm5y",
        "outputId": "3106bc97-ff28-4413-f3c1-ce4216f67ad7"
      },
      "id": "erbBJumJKm5y",
      "execution_count": 6,
      "outputs": [
        {
          "output_type": "execute_result",
          "data": {
            "text/plain": [
              "1"
            ]
          },
          "metadata": {},
          "execution_count": 6
        }
      ]
    },
    {
      "cell_type": "code",
      "source": [
        "def get_sum(head):\n",
        "    ans = 0\n",
        "    while head: # while head is not None:\n",
        "        ans += head.val\n",
        "        head = head.next\n",
        "    return ans"
      ],
      "metadata": {
        "id": "pzBuZhw6MAB3"
      },
      "id": "pzBuZhw6MAB3",
      "execution_count": 7,
      "outputs": []
    },
    {
      "cell_type": "code",
      "source": [
        "get_sum(ptr)"
      ],
      "metadata": {
        "colab": {
          "base_uri": "https://localhost:8080/"
        },
        "id": "Y185GO9AMiXE",
        "outputId": "31297d01-ca8d-4e3b-9458-1d72ffba5a13"
      },
      "id": "Y185GO9AMiXE",
      "execution_count": 8,
      "outputs": [
        {
          "output_type": "execute_result",
          "data": {
            "text/plain": [
              "6"
            ]
          },
          "metadata": {},
          "execution_count": 8
        }
      ]
    },
    {
      "cell_type": "code",
      "source": [
        "# Exploratory:\n",
        "not None"
      ],
      "metadata": {
        "colab": {
          "base_uri": "https://localhost:8080/"
        },
        "id": "gYFxaikYNi9B",
        "outputId": "ca0c01b3-d176-4b92-8cf4-2f2aa239f500"
      },
      "id": "gYFxaikYNi9B",
      "execution_count": 9,
      "outputs": [
        {
          "output_type": "execute_result",
          "data": {
            "text/plain": [
              "True"
            ]
          },
          "metadata": {},
          "execution_count": 9
        }
      ]
    },
    {
      "cell_type": "code",
      "source": [
        "def get_sum(head):\n",
        "    if not head: # if head is None:\n",
        "        return 0\n",
        "    return head.val + get_sum(head.next)"
      ],
      "metadata": {
        "id": "QO2G4Im5M887"
      },
      "id": "QO2G4Im5M887",
      "execution_count": 10,
      "outputs": []
    },
    {
      "cell_type": "code",
      "source": [
        "get_sum(ptr)"
      ],
      "metadata": {
        "colab": {
          "base_uri": "https://localhost:8080/"
        },
        "id": "2Jh6pkdDNOW5",
        "outputId": "ffe9636f-9256-431f-d363-eea4458c4c7b"
      },
      "id": "2Jh6pkdDNOW5",
      "execution_count": 11,
      "outputs": [
        {
          "output_type": "execute_result",
          "data": {
            "text/plain": [
              "6"
            ]
          },
          "metadata": {},
          "execution_count": 11
        }
      ]
    },
    {
      "cell_type": "markdown",
      "source": [
        "## Fast and slow pointers"
      ],
      "metadata": {
        "id": "eS0wyw1BzR2l"
      },
      "id": "eS0wyw1BzR2l"
    },
    {
      "cell_type": "markdown",
      "source": [
        "## Reversing a linked list"
      ],
      "metadata": {
        "id": "V_6c4v65zVLY"
      },
      "id": "V_6c4v65zVLY"
    },
    {
      "cell_type": "markdown",
      "source": [
        "## Linked lists quiz"
      ],
      "metadata": {
        "id": "1YC4Av1CzYvw"
      },
      "id": "1YC4Av1CzYvw"
    },
    {
      "cell_type": "markdown",
      "source": [
        "## Bonus problems, linked lists"
      ],
      "metadata": {
        "id": "O_gsH5Yjzfew"
      },
      "id": "O_gsH5Yjzfew"
    },
    {
      "cell_type": "code",
      "execution_count": 11,
      "id": "bfc14b46-f7b4-479e-b32c-47269c26aaef",
      "metadata": {
        "id": "bfc14b46-f7b4-479e-b32c-47269c26aaef"
      },
      "outputs": [],
      "source": []
    }
  ],
  "metadata": {
    "kernelspec": {
      "display_name": "Python 3 (ipykernel)",
      "language": "python",
      "name": "python3"
    },
    "language_info": {
      "codemirror_mode": {
        "name": "ipython",
        "version": 3
      },
      "file_extension": ".py",
      "mimetype": "text/x-python",
      "name": "python",
      "nbconvert_exporter": "python",
      "pygments_lexer": "ipython3",
      "version": "3.11.5"
    },
    "colab": {
      "provenance": []
    }
  },
  "nbformat": 4,
  "nbformat_minor": 5
}