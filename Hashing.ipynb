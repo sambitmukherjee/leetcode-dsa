{
  "cells": [
    {
      "cell_type": "markdown",
      "source": [
        "# Hashing"
      ],
      "metadata": {
        "id": "t_geHzlCtxuB"
      },
      "id": "t_geHzlCtxuB"
    },
    {
      "cell_type": "code",
      "source": [
        "hash_map = {}"
      ],
      "metadata": {
        "id": "xfRWA5L9gna4"
      },
      "id": "xfRWA5L9gna4",
      "execution_count": null,
      "outputs": []
    },
    {
      "cell_type": "code",
      "source": [
        "hash_map = {1: 2, 5: 3, 7: 2}"
      ],
      "metadata": {
        "id": "9Xm5pl7JgqhT"
      },
      "id": "9Xm5pl7JgqhT",
      "execution_count": null,
      "outputs": []
    },
    {
      "cell_type": "code",
      "source": [
        "1 in hash_map"
      ],
      "metadata": {
        "colab": {
          "base_uri": "https://localhost:8080/"
        },
        "id": "_cirO6LWgzVM",
        "outputId": "c7bebc6a-458b-49e0-845a-27e1bad56bb2"
      },
      "id": "_cirO6LWgzVM",
      "execution_count": null,
      "outputs": [
        {
          "output_type": "execute_result",
          "data": {
            "text/plain": [
              "True"
            ]
          },
          "metadata": {},
          "execution_count": 3
        }
      ]
    },
    {
      "cell_type": "code",
      "source": [
        "9 in hash_map"
      ],
      "metadata": {
        "colab": {
          "base_uri": "https://localhost:8080/"
        },
        "id": "4498VTbWg3Wq",
        "outputId": "215a3190-72fd-413e-c8ae-0c5d647b1ef5"
      },
      "id": "4498VTbWg3Wq",
      "execution_count": null,
      "outputs": [
        {
          "output_type": "execute_result",
          "data": {
            "text/plain": [
              "False"
            ]
          },
          "metadata": {},
          "execution_count": 4
        }
      ]
    },
    {
      "cell_type": "code",
      "source": [
        "hash_map[5]"
      ],
      "metadata": {
        "colab": {
          "base_uri": "https://localhost:8080/"
        },
        "id": "ax-tfTOfg76I",
        "outputId": "dc5feb67-db83-43be-91c5-151464f4fe66"
      },
      "id": "ax-tfTOfg76I",
      "execution_count": null,
      "outputs": [
        {
          "output_type": "execute_result",
          "data": {
            "text/plain": [
              "3"
            ]
          },
          "metadata": {},
          "execution_count": 5
        }
      ]
    },
    {
      "cell_type": "code",
      "source": [
        "hash_map[5] = 6\n",
        "hash_map"
      ],
      "metadata": {
        "colab": {
          "base_uri": "https://localhost:8080/"
        },
        "id": "H9cIZdUBhD6o",
        "outputId": "5e0b151b-d2a6-49d3-be16-635bb0f382cc"
      },
      "id": "H9cIZdUBhD6o",
      "execution_count": null,
      "outputs": [
        {
          "output_type": "execute_result",
          "data": {
            "text/plain": [
              "{1: 2, 5: 6, 7: 2}"
            ]
          },
          "metadata": {},
          "execution_count": 6
        }
      ]
    },
    {
      "cell_type": "code",
      "source": [
        "hash_map[9] = 15\n",
        "hash_map"
      ],
      "metadata": {
        "colab": {
          "base_uri": "https://localhost:8080/"
        },
        "id": "3jEpeWFjhJ7w",
        "outputId": "b87f1c8e-4f61-409d-86fb-6fe93f4b9049"
      },
      "id": "3jEpeWFjhJ7w",
      "execution_count": null,
      "outputs": [
        {
          "output_type": "execute_result",
          "data": {
            "text/plain": [
              "{1: 2, 5: 6, 7: 2, 9: 15}"
            ]
          },
          "metadata": {},
          "execution_count": 7
        }
      ]
    },
    {
      "cell_type": "code",
      "source": [
        "del hash_map[9]\n",
        "hash_map"
      ],
      "metadata": {
        "colab": {
          "base_uri": "https://localhost:8080/"
        },
        "id": "TEaE4SDchPmS",
        "outputId": "96452c7c-e510-4229-fbf4-45b319d94680"
      },
      "id": "TEaE4SDchPmS",
      "execution_count": null,
      "outputs": [
        {
          "output_type": "execute_result",
          "data": {
            "text/plain": [
              "{1: 2, 5: 6, 7: 2}"
            ]
          },
          "metadata": {},
          "execution_count": 8
        }
      ]
    },
    {
      "cell_type": "code",
      "source": [
        "len(hash_map)"
      ],
      "metadata": {
        "colab": {
          "base_uri": "https://localhost:8080/"
        },
        "id": "IsjqSzYChUtA",
        "outputId": "2c9adb5d-e41b-41aa-bf6f-ebf05f7d2e7c"
      },
      "id": "IsjqSzYChUtA",
      "execution_count": null,
      "outputs": [
        {
          "output_type": "execute_result",
          "data": {
            "text/plain": [
              "3"
            ]
          },
          "metadata": {},
          "execution_count": 9
        }
      ]
    },
    {
      "cell_type": "code",
      "source": [
        "keys = hash_map.keys()\n",
        "keys"
      ],
      "metadata": {
        "colab": {
          "base_uri": "https://localhost:8080/"
        },
        "id": "g2kK50c8hYIA",
        "outputId": "ea10d108-cd1c-43c2-cf0f-3f5e034af86a"
      },
      "id": "g2kK50c8hYIA",
      "execution_count": null,
      "outputs": [
        {
          "output_type": "execute_result",
          "data": {
            "text/plain": [
              "dict_keys([1, 5, 7])"
            ]
          },
          "metadata": {},
          "execution_count": 10
        }
      ]
    },
    {
      "cell_type": "code",
      "source": [
        "for key in keys:\n",
        "    print(key)"
      ],
      "metadata": {
        "colab": {
          "base_uri": "https://localhost:8080/"
        },
        "id": "e4ZmYR9Rhf0p",
        "outputId": "ad5e4067-81b8-4eac-8f3b-8946aa41d4f9"
      },
      "id": "e4ZmYR9Rhf0p",
      "execution_count": null,
      "outputs": [
        {
          "output_type": "stream",
          "name": "stdout",
          "text": [
            "1\n",
            "5\n",
            "7\n"
          ]
        }
      ]
    },
    {
      "cell_type": "code",
      "source": [
        "values = hash_map.values()\n",
        "values"
      ],
      "metadata": {
        "colab": {
          "base_uri": "https://localhost:8080/"
        },
        "id": "Iv_mFXkfhibV",
        "outputId": "e45413ac-0679-4fb3-9388-d4cd975be90d"
      },
      "id": "Iv_mFXkfhibV",
      "execution_count": null,
      "outputs": [
        {
          "output_type": "execute_result",
          "data": {
            "text/plain": [
              "dict_values([2, 6, 2])"
            ]
          },
          "metadata": {},
          "execution_count": 12
        }
      ]
    },
    {
      "cell_type": "code",
      "source": [
        "for val in values:\n",
        "    print(val)"
      ],
      "metadata": {
        "colab": {
          "base_uri": "https://localhost:8080/"
        },
        "id": "9pmHD4VDhnb4",
        "outputId": "4102ce1a-f002-493c-e3b3-b37af9b3f778"
      },
      "id": "9pmHD4VDhnb4",
      "execution_count": null,
      "outputs": [
        {
          "output_type": "stream",
          "name": "stdout",
          "text": [
            "2\n",
            "6\n",
            "2\n"
          ]
        }
      ]
    },
    {
      "cell_type": "code",
      "source": [
        "my_hash_map = {}\n",
        "my_hash_map[4] = 83\n",
        "my_hash_map"
      ],
      "metadata": {
        "colab": {
          "base_uri": "https://localhost:8080/"
        },
        "id": "WvRoKmtphqOq",
        "outputId": "e6fb98ce-00e1-4acf-940d-63fe4333d666"
      },
      "id": "WvRoKmtphqOq",
      "execution_count": null,
      "outputs": [
        {
          "output_type": "execute_result",
          "data": {
            "text/plain": [
              "{4: 83}"
            ]
          },
          "metadata": {},
          "execution_count": 14
        }
      ]
    },
    {
      "cell_type": "code",
      "source": [
        "4 in my_hash_map"
      ],
      "metadata": {
        "colab": {
          "base_uri": "https://localhost:8080/"
        },
        "id": "sH2cSMzfh1Al",
        "outputId": "3ddf7baa-7e32-4db4-d518-6edda4c1d47f"
      },
      "id": "sH2cSMzfh1Al",
      "execution_count": null,
      "outputs": [
        {
          "output_type": "execute_result",
          "data": {
            "text/plain": [
              "True"
            ]
          },
          "metadata": {},
          "execution_count": 15
        }
      ]
    },
    {
      "cell_type": "code",
      "source": [
        "854 in my_hash_map"
      ],
      "metadata": {
        "colab": {
          "base_uri": "https://localhost:8080/"
        },
        "id": "PNJoV43ih4oW",
        "outputId": "1f245013-dbe5-4793-ef47-0d3309872e42"
      },
      "id": "PNJoV43ih4oW",
      "execution_count": null,
      "outputs": [
        {
          "output_type": "execute_result",
          "data": {
            "text/plain": [
              "False"
            ]
          },
          "metadata": {},
          "execution_count": 16
        }
      ]
    },
    {
      "cell_type": "code",
      "source": [
        "my_hash_map[8] = 327\n",
        "my_hash_map[45] = 82523\n",
        "my_hash_map"
      ],
      "metadata": {
        "colab": {
          "base_uri": "https://localhost:8080/"
        },
        "id": "fr-eQVJih7yv",
        "outputId": "91f66eff-dc81-4e6f-9925-8bbf9b3bedc2"
      },
      "id": "fr-eQVJih7yv",
      "execution_count": null,
      "outputs": [
        {
          "output_type": "execute_result",
          "data": {
            "text/plain": [
              "{4: 83, 8: 327, 45: 82523}"
            ]
          },
          "metadata": {},
          "execution_count": 17
        }
      ]
    },
    {
      "cell_type": "code",
      "source": [
        "my_hash_map.items()"
      ],
      "metadata": {
        "colab": {
          "base_uri": "https://localhost:8080/"
        },
        "id": "ay-OdZg5iEEi",
        "outputId": "a93b5027-7d74-422a-8bc9-e3e452af242d"
      },
      "id": "ay-OdZg5iEEi",
      "execution_count": null,
      "outputs": [
        {
          "output_type": "execute_result",
          "data": {
            "text/plain": [
              "dict_items([(4, 83), (8, 327), (45, 82523)])"
            ]
          },
          "metadata": {},
          "execution_count": 18
        }
      ]
    },
    {
      "cell_type": "code",
      "source": [
        "for key, val in my_hash_map.items():\n",
        "    print(f\"{key}: {val}\")"
      ],
      "metadata": {
        "colab": {
          "base_uri": "https://localhost:8080/"
        },
        "id": "49XzeMEciIaB",
        "outputId": "83c406d2-940c-4fe9-8b51-97d58b7f46a2"
      },
      "id": "49XzeMEciIaB",
      "execution_count": null,
      "outputs": [
        {
          "output_type": "stream",
          "name": "stdout",
          "text": [
            "4: 83\n",
            "8: 327\n",
            "45: 82523\n"
          ]
        }
      ]
    },
    {
      "cell_type": "markdown",
      "source": [
        "## Checking for existence"
      ],
      "metadata": {
        "id": "vAKCI8cRt_2F"
      },
      "id": "vAKCI8cRt_2F"
    },
    {
      "cell_type": "markdown",
      "source": [
        "### Example 1"
      ],
      "metadata": {
        "id": "ljSqZcoj9Cd0"
      },
      "id": "ljSqZcoj9Cd0"
    },
    {
      "cell_type": "markdown",
      "source": [
        "**Note:** We've solved the '*Two Sum*' problem where the array was sorted (using two pointers). Here, we're solving the '*Two Sum*' problem where the array isn't sorted."
      ],
      "metadata": {
        "id": "Kwnnj-az-nP3"
      },
      "id": "Kwnnj-az-nP3"
    },
    {
      "cell_type": "code",
      "source": [
        "def two_sum(nums, target):\n",
        "    dic = {}\n",
        "    for i in range(len(nums)):\n",
        "        num = nums[i]\n",
        "        complement = target - num\n",
        "        if complement in dic: # This operation is O(1)!\n",
        "            return [dic[complement], i]\n",
        "        dic[num] = i\n",
        "    return [-1, -1]"
      ],
      "metadata": {
        "id": "IhONlowtegsb"
      },
      "id": "IhONlowtegsb",
      "execution_count": null,
      "outputs": []
    },
    {
      "cell_type": "markdown",
      "source": [
        "This algorithm has a time complexity of $O(n)$ and a space complexity of $O(n)$."
      ],
      "metadata": {
        "id": "G2WiPUnbCgsy"
      },
      "id": "G2WiPUnbCgsy"
    },
    {
      "cell_type": "code",
      "source": [
        "two_sum([5, 2, 7, 10, 3, 9], 8)"
      ],
      "metadata": {
        "colab": {
          "base_uri": "https://localhost:8080/"
        },
        "id": "ILJZC2jfCnzZ",
        "outputId": "a95f5d9e-c77c-4ef2-8e97-d6c93aff395f"
      },
      "id": "ILJZC2jfCnzZ",
      "execution_count": null,
      "outputs": [
        {
          "output_type": "execute_result",
          "data": {
            "text/plain": [
              "[0, 4]"
            ]
          },
          "metadata": {},
          "execution_count": 21
        }
      ]
    },
    {
      "cell_type": "code",
      "source": [
        "two_sum([5, 2, 7, 10, 3, 9], 20)"
      ],
      "metadata": {
        "colab": {
          "base_uri": "https://localhost:8080/"
        },
        "id": "kpC3-P4JCzdi",
        "outputId": "983e2743-0c6b-47bd-9a52-7a6408a8a2df"
      },
      "id": "kpC3-P4JCzdi",
      "execution_count": null,
      "outputs": [
        {
          "output_type": "execute_result",
          "data": {
            "text/plain": [
              "[-1, -1]"
            ]
          },
          "metadata": {},
          "execution_count": 22
        }
      ]
    },
    {
      "cell_type": "markdown",
      "source": [
        "### Example 2"
      ],
      "metadata": {
        "id": "RPBcfanlJbUu"
      },
      "id": "RPBcfanlJbUu"
    },
    {
      "cell_type": "markdown",
      "source": [
        "Brute force solution:"
      ],
      "metadata": {
        "id": "nwDruhkBJjQF"
      },
      "id": "nwDruhkBJjQF"
    },
    {
      "cell_type": "code",
      "source": [
        "def repeated_character(s):\n",
        "    for i in range(len(s)):\n",
        "        c = s[i]\n",
        "        for j in range(i):\n",
        "            if c == s[j]:\n",
        "                return c\n",
        "    return \"\""
      ],
      "metadata": {
        "id": "yX4rbD8XB-fY"
      },
      "id": "yX4rbD8XB-fY",
      "execution_count": null,
      "outputs": []
    },
    {
      "cell_type": "markdown",
      "source": [
        "This algorithm has a time complexity of $O(n^2)$ and a space complexity of $O(1)$."
      ],
      "metadata": {
        "id": "rwVZLZooKHxB"
      },
      "id": "rwVZLZooKHxB"
    },
    {
      "cell_type": "code",
      "source": [
        "repeated_character(\"abcdeda\")"
      ],
      "metadata": {
        "colab": {
          "base_uri": "https://localhost:8080/",
          "height": 35
        },
        "id": "3kB9eBZKkXvO",
        "outputId": "85d5ddec-b69d-4aac-b6bc-cb376bc48ddf"
      },
      "id": "3kB9eBZKkXvO",
      "execution_count": null,
      "outputs": [
        {
          "output_type": "execute_result",
          "data": {
            "text/plain": [
              "'d'"
            ],
            "application/vnd.google.colaboratory.intrinsic+json": {
              "type": "string"
            }
          },
          "metadata": {},
          "execution_count": 24
        }
      ]
    },
    {
      "cell_type": "code",
      "source": [
        "def repeated_character(s):\n",
        "    seen = set()\n",
        "    for c in s:\n",
        "        if c in seen:\n",
        "            return c\n",
        "        seen.add(c)\n",
        "    return \"\""
      ],
      "metadata": {
        "id": "trCh3iRwCx2J"
      },
      "id": "trCh3iRwCx2J",
      "execution_count": null,
      "outputs": []
    },
    {
      "cell_type": "code",
      "source": [
        "repeated_character(\"abcdeda\")"
      ],
      "metadata": {
        "colab": {
          "base_uri": "https://localhost:8080/",
          "height": 35
        },
        "id": "WhktcN_8mJSR",
        "outputId": "afd75761-b77d-49ae-d22d-ceb4acfe78b9"
      },
      "id": "WhktcN_8mJSR",
      "execution_count": null,
      "outputs": [
        {
          "output_type": "execute_result",
          "data": {
            "text/plain": [
              "'d'"
            ],
            "application/vnd.google.colaboratory.intrinsic+json": {
              "type": "string"
            }
          },
          "metadata": {},
          "execution_count": 26
        }
      ]
    },
    {
      "cell_type": "markdown",
      "source": [
        "This algorithm has a time complexity of $O(n)$ and a space complexity of $O(1)$. The latter is because the input can only have characters from the English alphabet, which is bounded by a constant (26)."
      ],
      "metadata": {
        "id": "pU1zvb0jLhzj"
      },
      "id": "pU1zvb0jLhzj"
    },
    {
      "cell_type": "markdown",
      "source": [
        "### Example 3"
      ],
      "metadata": {
        "id": "uWr1_aEcL4Ap"
      },
      "id": "uWr1_aEcL4Ap"
    },
    {
      "cell_type": "code",
      "source": [
        "def find_numbers(nums):\n",
        "    ans = []\n",
        "    nums = set(nums) # Preprocessing; costs O(n).\n",
        "    for num in nums:\n",
        "        if (num + 1 not in nums) and (num - 1 not in nums): # These checks will cost O(1) each.\n",
        "            ans.append(num)\n",
        "    return ans"
      ],
      "metadata": {
        "id": "GEO8kYbED_ad"
      },
      "id": "GEO8kYbED_ad",
      "execution_count": null,
      "outputs": []
    },
    {
      "cell_type": "markdown",
      "source": [
        "This algorithm has a time complexity of $O(n)$ and a space complexity of $O(n)$."
      ],
      "metadata": {
        "id": "PUJk4YjNNNM5"
      },
      "id": "PUJk4YjNNNM5"
    },
    {
      "cell_type": "code",
      "source": [
        "find_numbers([1, 3, 4, 6])"
      ],
      "metadata": {
        "colab": {
          "base_uri": "https://localhost:8080/"
        },
        "id": "lcU0I5-cM3k6",
        "outputId": "9d59c2d9-2e20-406c-d53c-4bebf1226cc6"
      },
      "id": "lcU0I5-cM3k6",
      "execution_count": null,
      "outputs": [
        {
          "output_type": "execute_result",
          "data": {
            "text/plain": [
              "[1, 6]"
            ]
          },
          "metadata": {},
          "execution_count": 28
        }
      ]
    },
    {
      "cell_type": "code",
      "source": [
        "find_numbers([1, 2, 3, 4])"
      ],
      "metadata": {
        "colab": {
          "base_uri": "https://localhost:8080/"
        },
        "id": "My-NuqLmNIJG",
        "outputId": "0c4b5738-f5d6-4627-bfcd-2ce135362f36"
      },
      "id": "My-NuqLmNIJG",
      "execution_count": null,
      "outputs": [
        {
          "output_type": "execute_result",
          "data": {
            "text/plain": [
              "[]"
            ]
          },
          "metadata": {},
          "execution_count": 29
        }
      ]
    },
    {
      "cell_type": "markdown",
      "source": [
        "### Check if the Sentence Is Pangram"
      ],
      "metadata": {
        "id": "HQwr1dWmJH11"
      },
      "id": "HQwr1dWmJH11"
    },
    {
      "cell_type": "code",
      "source": [
        "import string\n",
        "\n",
        "string.ascii_lowercase"
      ],
      "metadata": {
        "colab": {
          "base_uri": "https://localhost:8080/",
          "height": 35
        },
        "id": "GEtq9f4AJJUV",
        "outputId": "e895bff6-af40-4f95-aade-e6a805e45228"
      },
      "id": "GEtq9f4AJJUV",
      "execution_count": null,
      "outputs": [
        {
          "output_type": "execute_result",
          "data": {
            "text/plain": [
              "'abcdefghijklmnopqrstuvwxyz'"
            ],
            "application/vnd.google.colaboratory.intrinsic+json": {
              "type": "string"
            }
          },
          "metadata": {},
          "execution_count": 1
        }
      ]
    },
    {
      "cell_type": "code",
      "source": [
        "len(string.ascii_lowercase)"
      ],
      "metadata": {
        "colab": {
          "base_uri": "https://localhost:8080/"
        },
        "id": "FeRQxcmYKeYG",
        "outputId": "fb85ee3d-dcf9-40bd-f8c4-4eec45f98cc6"
      },
      "id": "FeRQxcmYKeYG",
      "execution_count": null,
      "outputs": [
        {
          "output_type": "execute_result",
          "data": {
            "text/plain": [
              "26"
            ]
          },
          "metadata": {},
          "execution_count": 2
        }
      ]
    },
    {
      "cell_type": "code",
      "source": [
        "# Converting string into set:\n",
        "set(\"abc\")"
      ],
      "metadata": {
        "colab": {
          "base_uri": "https://localhost:8080/"
        },
        "id": "kcgXfd5uKSSn",
        "outputId": "a9c1db0e-4bc7-45ea-d722-e831b26a35c6"
      },
      "id": "kcgXfd5uKSSn",
      "execution_count": null,
      "outputs": [
        {
          "output_type": "execute_result",
          "data": {
            "text/plain": [
              "{'a', 'b', 'c'}"
            ]
          },
          "metadata": {},
          "execution_count": 3
        }
      ]
    },
    {
      "cell_type": "code",
      "source": [
        "def check_if_pangram(sentence):\n",
        "    sentence = set(sentence)\n",
        "    counter = 0\n",
        "    for letter in string.ascii_lowercase:\n",
        "        if letter in sentence:\n",
        "            counter += 1\n",
        "    return counter == 26"
      ],
      "metadata": {
        "id": "Uequwx8rJ6ML"
      },
      "id": "Uequwx8rJ6ML",
      "execution_count": null,
      "outputs": []
    },
    {
      "cell_type": "markdown",
      "source": [
        "This algorithm has a time complexity of $O(26)$ = $O(1)$ and a space complexity of $O(26)$ = $O(1)$."
      ],
      "metadata": {
        "id": "3iDr7A3dK6w_"
      },
      "id": "3iDr7A3dK6w_"
    },
    {
      "cell_type": "code",
      "source": [
        "check_if_pangram(\"thequickbrownfoxjumpsoverthelazydog\")"
      ],
      "metadata": {
        "colab": {
          "base_uri": "https://localhost:8080/"
        },
        "id": "6_Y6821JKyGk",
        "outputId": "7c72c34e-495a-4401-814c-a46e4f12457d"
      },
      "id": "6_Y6821JKyGk",
      "execution_count": null,
      "outputs": [
        {
          "output_type": "execute_result",
          "data": {
            "text/plain": [
              "True"
            ]
          },
          "metadata": {},
          "execution_count": 5
        }
      ]
    },
    {
      "cell_type": "code",
      "source": [
        "check_if_pangram(\"leetcode\")"
      ],
      "metadata": {
        "colab": {
          "base_uri": "https://localhost:8080/"
        },
        "id": "YXJG2AeiK3PF",
        "outputId": "961242aa-524e-4771-9d96-f855a7391a0f"
      },
      "id": "YXJG2AeiK3PF",
      "execution_count": null,
      "outputs": [
        {
          "output_type": "execute_result",
          "data": {
            "text/plain": [
              "False"
            ]
          },
          "metadata": {},
          "execution_count": 6
        }
      ]
    },
    {
      "cell_type": "markdown",
      "source": [
        "### Missing Number"
      ],
      "metadata": {
        "id": "3lvx31A6L4ru"
      },
      "id": "3lvx31A6L4ru"
    },
    {
      "cell_type": "code",
      "source": [
        "def missing_number(nums):\n",
        "    nums = set(nums)\n",
        "    for i in range(len(nums) + 1):\n",
        "        if i not in nums:\n",
        "            return i"
      ],
      "metadata": {
        "id": "XGLDexLeL6C6"
      },
      "id": "XGLDexLeL6C6",
      "execution_count": null,
      "outputs": []
    },
    {
      "cell_type": "markdown",
      "source": [
        "This algorithm has a time complexity of $O(n)$ and a space complexity of $O(n)$."
      ],
      "metadata": {
        "id": "RzLB1jgsPPsZ"
      },
      "id": "RzLB1jgsPPsZ"
    },
    {
      "cell_type": "code",
      "source": [
        "missing_number([3, 0, 1])"
      ],
      "metadata": {
        "colab": {
          "base_uri": "https://localhost:8080/"
        },
        "id": "nJBumwU_O66f",
        "outputId": "60939235-f42d-43d2-8bc8-ad528f0a4bc7"
      },
      "id": "nJBumwU_O66f",
      "execution_count": null,
      "outputs": [
        {
          "output_type": "execute_result",
          "data": {
            "text/plain": [
              "2"
            ]
          },
          "metadata": {},
          "execution_count": 8
        }
      ]
    },
    {
      "cell_type": "code",
      "source": [
        "missing_number([0, 1])"
      ],
      "metadata": {
        "colab": {
          "base_uri": "https://localhost:8080/"
        },
        "id": "kFl8kxb9O_Sw",
        "outputId": "5c79cf05-17e4-47b0-84d3-cf731d952c67"
      },
      "id": "kFl8kxb9O_Sw",
      "execution_count": null,
      "outputs": [
        {
          "output_type": "execute_result",
          "data": {
            "text/plain": [
              "2"
            ]
          },
          "metadata": {},
          "execution_count": 9
        }
      ]
    },
    {
      "cell_type": "code",
      "source": [
        "missing_number([9, 6, 4, 2, 3, 5, 7, 0, 1])"
      ],
      "metadata": {
        "colab": {
          "base_uri": "https://localhost:8080/"
        },
        "id": "RnVRxek2PDvz",
        "outputId": "88e952e8-256e-4e6b-c384-a48bb7ba14fb"
      },
      "id": "RnVRxek2PDvz",
      "execution_count": null,
      "outputs": [
        {
          "output_type": "execute_result",
          "data": {
            "text/plain": [
              "8"
            ]
          },
          "metadata": {},
          "execution_count": 10
        }
      ]
    },
    {
      "cell_type": "markdown",
      "source": [
        "### Counting Elements"
      ],
      "metadata": {
        "id": "1Ss9v7SDPmr6"
      },
      "id": "1Ss9v7SDPmr6"
    },
    {
      "cell_type": "code",
      "source": [
        "def count_elements(arr):\n",
        "    arr_set = set(arr)\n",
        "    counter = 0\n",
        "    for x in arr:\n",
        "        if x + 1 in arr_set:\n",
        "            counter += 1\n",
        "    return counter"
      ],
      "metadata": {
        "id": "7HyRulK5kJBj"
      },
      "id": "7HyRulK5kJBj",
      "execution_count": null,
      "outputs": []
    },
    {
      "cell_type": "markdown",
      "source": [
        "This algorithm has a time complexity of $O(1000)$ = $O(1)$ and a space complexity of $O(1000)$ = $O(1)$."
      ],
      "metadata": {
        "id": "rCI3EcRVRe4w"
      },
      "id": "rCI3EcRVRe4w"
    },
    {
      "cell_type": "code",
      "source": [
        "count_elements([1, 2, 3])"
      ],
      "metadata": {
        "colab": {
          "base_uri": "https://localhost:8080/"
        },
        "id": "SyKDK15gQqKp",
        "outputId": "c7553773-51fb-4728-e916-24c0f7398fa7"
      },
      "id": "SyKDK15gQqKp",
      "execution_count": null,
      "outputs": [
        {
          "output_type": "execute_result",
          "data": {
            "text/plain": [
              "2"
            ]
          },
          "metadata": {},
          "execution_count": 41
        }
      ]
    },
    {
      "cell_type": "code",
      "source": [
        "count_elements([1, 1, 3, 3, 5, 5, 7, 7])"
      ],
      "metadata": {
        "colab": {
          "base_uri": "https://localhost:8080/"
        },
        "id": "ne23P6sqQuel",
        "outputId": "e5e78c2e-80cf-4f0f-9ae0-3a041314c5f8"
      },
      "id": "ne23P6sqQuel",
      "execution_count": null,
      "outputs": [
        {
          "output_type": "execute_result",
          "data": {
            "text/plain": [
              "0"
            ]
          },
          "metadata": {},
          "execution_count": 42
        }
      ]
    },
    {
      "cell_type": "markdown",
      "source": [
        "## Counting"
      ],
      "metadata": {
        "id": "iDxxm6upuG3Y"
      },
      "id": "iDxxm6upuG3Y"
    },
    {
      "cell_type": "markdown",
      "source": [
        "### Example 1"
      ],
      "metadata": {
        "id": "XLtPUgtypg3f"
      },
      "id": "XLtPUgtypg3f"
    },
    {
      "cell_type": "code",
      "source": [
        "from collections import defaultdict\n",
        "\n",
        "def find_longest_substring(s, k):\n",
        "    counts = defaultdict(int)\n",
        "    left = ans = 0\n",
        "    for right in range(len(s)):\n",
        "        counts[s[right]] += 1\n",
        "        while len(counts) > k:\n",
        "            counts[s[left]] -= 1\n",
        "            if counts[s[left]] == 0:\n",
        "                del counts[s[left]]\n",
        "            left += 1\n",
        "        ans = max(ans, right - left + 1)\n",
        "    return ans"
      ],
      "metadata": {
        "id": "QI8-RhEQi6ns"
      },
      "id": "QI8-RhEQi6ns",
      "execution_count": 1,
      "outputs": []
    },
    {
      "cell_type": "markdown",
      "source": [
        "This algorithm has a time complexity of $O(n)$ since the operation within the for loop is amortized $O(1)$. It has a space complexity of $O(k + 1)$ = $O(k)$."
      ],
      "metadata": {
        "id": "Eq1PBl5sqyVc"
      },
      "id": "Eq1PBl5sqyVc"
    },
    {
      "cell_type": "code",
      "source": [
        "find_longest_substring(\"eceba\", 2)"
      ],
      "metadata": {
        "colab": {
          "base_uri": "https://localhost:8080/"
        },
        "id": "b_uIugo_qrTI",
        "outputId": "b4458a7c-2bdc-402b-e7cf-f863090bcdc2"
      },
      "id": "b_uIugo_qrTI",
      "execution_count": 2,
      "outputs": [
        {
          "output_type": "execute_result",
          "data": {
            "text/plain": [
              "3"
            ]
          },
          "metadata": {},
          "execution_count": 2
        }
      ]
    },
    {
      "cell_type": "markdown",
      "source": [
        "## More hashing examples"
      ],
      "metadata": {
        "id": "_a2iCy-duK7C"
      },
      "id": "_a2iCy-duK7C"
    },
    {
      "cell_type": "markdown",
      "source": [
        "## Hashing quiz"
      ],
      "metadata": {
        "id": "eo_5kM4GuUZe"
      },
      "id": "eo_5kM4GuUZe"
    },
    {
      "cell_type": "markdown",
      "source": [
        "## Bonus problems, hashing"
      ],
      "metadata": {
        "id": "779oHjD0uXG0"
      },
      "id": "779oHjD0uXG0"
    },
    {
      "cell_type": "code",
      "execution_count": null,
      "id": "bfc14b46-f7b4-479e-b32c-47269c26aaef",
      "metadata": {
        "id": "bfc14b46-f7b4-479e-b32c-47269c26aaef"
      },
      "outputs": [],
      "source": []
    }
  ],
  "metadata": {
    "kernelspec": {
      "display_name": "Python 3 (ipykernel)",
      "language": "python",
      "name": "python3"
    },
    "language_info": {
      "codemirror_mode": {
        "name": "ipython",
        "version": 3
      },
      "file_extension": ".py",
      "mimetype": "text/x-python",
      "name": "python",
      "nbconvert_exporter": "python",
      "pygments_lexer": "ipython3",
      "version": "3.11.5"
    },
    "colab": {
      "provenance": []
    }
  },
  "nbformat": 4,
  "nbformat_minor": 5
}