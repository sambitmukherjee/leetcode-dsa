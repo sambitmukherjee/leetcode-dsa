{
  "cells": [
    {
      "cell_type": "markdown",
      "source": [
        "# Hashing"
      ],
      "metadata": {
        "id": "t_geHzlCtxuB"
      },
      "id": "t_geHzlCtxuB"
    },
    {
      "cell_type": "code",
      "source": [
        "hash_map = {}"
      ],
      "metadata": {
        "id": "xfRWA5L9gna4"
      },
      "id": "xfRWA5L9gna4",
      "execution_count": 1,
      "outputs": []
    },
    {
      "cell_type": "code",
      "source": [
        "hash_map = {1: 2, 5: 3, 7: 2}"
      ],
      "metadata": {
        "id": "9Xm5pl7JgqhT"
      },
      "id": "9Xm5pl7JgqhT",
      "execution_count": 2,
      "outputs": []
    },
    {
      "cell_type": "code",
      "source": [
        "1 in hash_map"
      ],
      "metadata": {
        "colab": {
          "base_uri": "https://localhost:8080/"
        },
        "id": "_cirO6LWgzVM",
        "outputId": "5a2976e6-7836-4b4e-cd3c-9fddb497315c"
      },
      "id": "_cirO6LWgzVM",
      "execution_count": 3,
      "outputs": [
        {
          "output_type": "execute_result",
          "data": {
            "text/plain": [
              "True"
            ]
          },
          "metadata": {},
          "execution_count": 3
        }
      ]
    },
    {
      "cell_type": "code",
      "source": [
        "9 in hash_map"
      ],
      "metadata": {
        "colab": {
          "base_uri": "https://localhost:8080/"
        },
        "id": "4498VTbWg3Wq",
        "outputId": "1a1ee0ee-e4b2-435f-b796-fbdb4db9d3e0"
      },
      "id": "4498VTbWg3Wq",
      "execution_count": 4,
      "outputs": [
        {
          "output_type": "execute_result",
          "data": {
            "text/plain": [
              "False"
            ]
          },
          "metadata": {},
          "execution_count": 4
        }
      ]
    },
    {
      "cell_type": "code",
      "source": [
        "hash_map[5]"
      ],
      "metadata": {
        "colab": {
          "base_uri": "https://localhost:8080/"
        },
        "id": "ax-tfTOfg76I",
        "outputId": "9521b045-179e-4c48-a221-8deeeaf23697"
      },
      "id": "ax-tfTOfg76I",
      "execution_count": 5,
      "outputs": [
        {
          "output_type": "execute_result",
          "data": {
            "text/plain": [
              "3"
            ]
          },
          "metadata": {},
          "execution_count": 5
        }
      ]
    },
    {
      "cell_type": "code",
      "source": [
        "hash_map[5] = 6\n",
        "hash_map"
      ],
      "metadata": {
        "colab": {
          "base_uri": "https://localhost:8080/"
        },
        "id": "H9cIZdUBhD6o",
        "outputId": "8a02ab7a-c97d-40d5-a15b-e953f59d928d"
      },
      "id": "H9cIZdUBhD6o",
      "execution_count": 6,
      "outputs": [
        {
          "output_type": "execute_result",
          "data": {
            "text/plain": [
              "{1: 2, 5: 6, 7: 2}"
            ]
          },
          "metadata": {},
          "execution_count": 6
        }
      ]
    },
    {
      "cell_type": "code",
      "source": [
        "hash_map[9] = 15\n",
        "hash_map"
      ],
      "metadata": {
        "colab": {
          "base_uri": "https://localhost:8080/"
        },
        "id": "3jEpeWFjhJ7w",
        "outputId": "33d48286-ab00-4e4e-fc87-076c88010662"
      },
      "id": "3jEpeWFjhJ7w",
      "execution_count": 7,
      "outputs": [
        {
          "output_type": "execute_result",
          "data": {
            "text/plain": [
              "{1: 2, 5: 6, 7: 2, 9: 15}"
            ]
          },
          "metadata": {},
          "execution_count": 7
        }
      ]
    },
    {
      "cell_type": "code",
      "source": [
        "del hash_map[9]\n",
        "hash_map"
      ],
      "metadata": {
        "colab": {
          "base_uri": "https://localhost:8080/"
        },
        "id": "TEaE4SDchPmS",
        "outputId": "f1384f41-c976-440d-ad8b-7b28248be17f"
      },
      "id": "TEaE4SDchPmS",
      "execution_count": 8,
      "outputs": [
        {
          "output_type": "execute_result",
          "data": {
            "text/plain": [
              "{1: 2, 5: 6, 7: 2}"
            ]
          },
          "metadata": {},
          "execution_count": 8
        }
      ]
    },
    {
      "cell_type": "code",
      "source": [
        "len(hash_map)"
      ],
      "metadata": {
        "colab": {
          "base_uri": "https://localhost:8080/"
        },
        "id": "IsjqSzYChUtA",
        "outputId": "4d814919-4148-4cdf-d4de-28f577fb0f03"
      },
      "id": "IsjqSzYChUtA",
      "execution_count": 9,
      "outputs": [
        {
          "output_type": "execute_result",
          "data": {
            "text/plain": [
              "3"
            ]
          },
          "metadata": {},
          "execution_count": 9
        }
      ]
    },
    {
      "cell_type": "code",
      "source": [
        "keys = hash_map.keys()\n",
        "keys"
      ],
      "metadata": {
        "colab": {
          "base_uri": "https://localhost:8080/"
        },
        "id": "g2kK50c8hYIA",
        "outputId": "2d3acee3-dfe8-4e9f-a060-920d3c77eb52"
      },
      "id": "g2kK50c8hYIA",
      "execution_count": 10,
      "outputs": [
        {
          "output_type": "execute_result",
          "data": {
            "text/plain": [
              "dict_keys([1, 5, 7])"
            ]
          },
          "metadata": {},
          "execution_count": 10
        }
      ]
    },
    {
      "cell_type": "code",
      "source": [
        "for key in keys:\n",
        "    print(key)"
      ],
      "metadata": {
        "colab": {
          "base_uri": "https://localhost:8080/"
        },
        "id": "e4ZmYR9Rhf0p",
        "outputId": "08729db3-6519-4c98-e68a-ca8c8e060423"
      },
      "id": "e4ZmYR9Rhf0p",
      "execution_count": 11,
      "outputs": [
        {
          "output_type": "stream",
          "name": "stdout",
          "text": [
            "1\n",
            "5\n",
            "7\n"
          ]
        }
      ]
    },
    {
      "cell_type": "code",
      "source": [
        "values = hash_map.values()\n",
        "values"
      ],
      "metadata": {
        "colab": {
          "base_uri": "https://localhost:8080/"
        },
        "id": "Iv_mFXkfhibV",
        "outputId": "bfcaedb5-1005-48a6-a550-c3d95496ea1d"
      },
      "id": "Iv_mFXkfhibV",
      "execution_count": 12,
      "outputs": [
        {
          "output_type": "execute_result",
          "data": {
            "text/plain": [
              "dict_values([2, 6, 2])"
            ]
          },
          "metadata": {},
          "execution_count": 12
        }
      ]
    },
    {
      "cell_type": "code",
      "source": [
        "for val in values:\n",
        "    print(val)"
      ],
      "metadata": {
        "colab": {
          "base_uri": "https://localhost:8080/"
        },
        "id": "9pmHD4VDhnb4",
        "outputId": "31adfc94-7b9e-4a34-c01b-a1a586361a58"
      },
      "id": "9pmHD4VDhnb4",
      "execution_count": 13,
      "outputs": [
        {
          "output_type": "stream",
          "name": "stdout",
          "text": [
            "2\n",
            "6\n",
            "2\n"
          ]
        }
      ]
    },
    {
      "cell_type": "code",
      "source": [
        "my_hash_map = {}\n",
        "my_hash_map[4] = 83\n",
        "my_hash_map"
      ],
      "metadata": {
        "colab": {
          "base_uri": "https://localhost:8080/"
        },
        "id": "WvRoKmtphqOq",
        "outputId": "b253ef18-55bf-4baf-c6b2-e6c7577c177e"
      },
      "id": "WvRoKmtphqOq",
      "execution_count": 14,
      "outputs": [
        {
          "output_type": "execute_result",
          "data": {
            "text/plain": [
              "{4: 83}"
            ]
          },
          "metadata": {},
          "execution_count": 14
        }
      ]
    },
    {
      "cell_type": "code",
      "source": [
        "4 in my_hash_map"
      ],
      "metadata": {
        "colab": {
          "base_uri": "https://localhost:8080/"
        },
        "id": "sH2cSMzfh1Al",
        "outputId": "35cf2c71-561e-4ec2-9b60-7bd6cf98ab21"
      },
      "id": "sH2cSMzfh1Al",
      "execution_count": 15,
      "outputs": [
        {
          "output_type": "execute_result",
          "data": {
            "text/plain": [
              "True"
            ]
          },
          "metadata": {},
          "execution_count": 15
        }
      ]
    },
    {
      "cell_type": "code",
      "source": [
        "854 in my_hash_map"
      ],
      "metadata": {
        "colab": {
          "base_uri": "https://localhost:8080/"
        },
        "id": "PNJoV43ih4oW",
        "outputId": "9d8ccb0f-c1d0-41ab-a25b-cec8487c1a3f"
      },
      "id": "PNJoV43ih4oW",
      "execution_count": 16,
      "outputs": [
        {
          "output_type": "execute_result",
          "data": {
            "text/plain": [
              "False"
            ]
          },
          "metadata": {},
          "execution_count": 16
        }
      ]
    },
    {
      "cell_type": "code",
      "source": [
        "my_hash_map[8] = 327\n",
        "my_hash_map[45] = 82523\n",
        "my_hash_map"
      ],
      "metadata": {
        "colab": {
          "base_uri": "https://localhost:8080/"
        },
        "id": "fr-eQVJih7yv",
        "outputId": "50c3b114-86af-4e28-ec41-620e78549ecc"
      },
      "id": "fr-eQVJih7yv",
      "execution_count": 17,
      "outputs": [
        {
          "output_type": "execute_result",
          "data": {
            "text/plain": [
              "{4: 83, 8: 327, 45: 82523}"
            ]
          },
          "metadata": {},
          "execution_count": 17
        }
      ]
    },
    {
      "cell_type": "code",
      "source": [
        "my_hash_map.items()"
      ],
      "metadata": {
        "colab": {
          "base_uri": "https://localhost:8080/"
        },
        "id": "ay-OdZg5iEEi",
        "outputId": "b4ab5de0-f6f6-412f-a987-8b83bda85662"
      },
      "id": "ay-OdZg5iEEi",
      "execution_count": 18,
      "outputs": [
        {
          "output_type": "execute_result",
          "data": {
            "text/plain": [
              "dict_items([(4, 83), (8, 327), (45, 82523)])"
            ]
          },
          "metadata": {},
          "execution_count": 18
        }
      ]
    },
    {
      "cell_type": "code",
      "source": [
        "for key, val in my_hash_map.items():\n",
        "    print(f\"{key}: {val}\")"
      ],
      "metadata": {
        "colab": {
          "base_uri": "https://localhost:8080/"
        },
        "id": "49XzeMEciIaB",
        "outputId": "969ade48-7b2e-4979-cdae-e913282f0614"
      },
      "id": "49XzeMEciIaB",
      "execution_count": 19,
      "outputs": [
        {
          "output_type": "stream",
          "name": "stdout",
          "text": [
            "4: 83\n",
            "8: 327\n",
            "45: 82523\n"
          ]
        }
      ]
    },
    {
      "cell_type": "markdown",
      "source": [
        "## Checking for existence"
      ],
      "metadata": {
        "id": "vAKCI8cRt_2F"
      },
      "id": "vAKCI8cRt_2F"
    },
    {
      "cell_type": "markdown",
      "source": [
        "### Example 1"
      ],
      "metadata": {
        "id": "ljSqZcoj9Cd0"
      },
      "id": "ljSqZcoj9Cd0"
    },
    {
      "cell_type": "markdown",
      "source": [
        "**Note:** We've solved the '*Two Sum*' problem where the array was sorted (using two pointers). Here, we're solving the '*Two Sum*' problem where the array isn't sorted."
      ],
      "metadata": {
        "id": "Kwnnj-az-nP3"
      },
      "id": "Kwnnj-az-nP3"
    },
    {
      "cell_type": "code",
      "source": [
        "def two_sum(nums, target):\n",
        "    dic = {}\n",
        "    for i in range(len(nums)):\n",
        "        num = nums[i]\n",
        "        complement = target - num\n",
        "        if complement in dic: # This operation is O(1)!\n",
        "            return [i, dic[complement]]\n",
        "        dic[num] = i\n",
        "    return [-1, -1]"
      ],
      "metadata": {
        "id": "meCpj_Z3-cGu"
      },
      "id": "meCpj_Z3-cGu",
      "execution_count": 20,
      "outputs": []
    },
    {
      "cell_type": "markdown",
      "source": [
        "This algorithm has a time complexity of $O(n)$ and a space complexity of $O(n)$."
      ],
      "metadata": {
        "id": "G2WiPUnbCgsy"
      },
      "id": "G2WiPUnbCgsy"
    },
    {
      "cell_type": "code",
      "source": [
        "two_sum([5, 2, 7, 10, 3, 9], 8)"
      ],
      "metadata": {
        "colab": {
          "base_uri": "https://localhost:8080/"
        },
        "id": "ILJZC2jfCnzZ",
        "outputId": "387b82d1-231f-4872-8b1f-044ae9b3885e"
      },
      "id": "ILJZC2jfCnzZ",
      "execution_count": 21,
      "outputs": [
        {
          "output_type": "execute_result",
          "data": {
            "text/plain": [
              "[4, 0]"
            ]
          },
          "metadata": {},
          "execution_count": 21
        }
      ]
    },
    {
      "cell_type": "code",
      "source": [
        "two_sum([5, 2, 7, 10, 3, 9], 20)"
      ],
      "metadata": {
        "colab": {
          "base_uri": "https://localhost:8080/"
        },
        "id": "kpC3-P4JCzdi",
        "outputId": "7d723eae-db4d-42c8-da15-90af5c3030f2"
      },
      "id": "kpC3-P4JCzdi",
      "execution_count": 22,
      "outputs": [
        {
          "output_type": "execute_result",
          "data": {
            "text/plain": [
              "[-1, -1]"
            ]
          },
          "metadata": {},
          "execution_count": 22
        }
      ]
    },
    {
      "cell_type": "markdown",
      "source": [
        "### Example 2"
      ],
      "metadata": {
        "id": "RPBcfanlJbUu"
      },
      "id": "RPBcfanlJbUu"
    },
    {
      "cell_type": "markdown",
      "source": [
        "Brute force solution:"
      ],
      "metadata": {
        "id": "nwDruhkBJjQF"
      },
      "id": "nwDruhkBJjQF"
    },
    {
      "cell_type": "code",
      "source": [
        "def repeated_character(s):\n",
        "    for i in range(len(s)):\n",
        "        c = s[i]\n",
        "        for j in range(i):\n",
        "            if s[j] == c:\n",
        "                return c\n",
        "    return \"\""
      ],
      "metadata": {
        "id": "PC3qKBDpJiFK"
      },
      "id": "PC3qKBDpJiFK",
      "execution_count": 23,
      "outputs": []
    },
    {
      "cell_type": "markdown",
      "source": [
        "This algorithm has a time complexity of $O(n^2)$ and a space complexity of $O(1)$."
      ],
      "metadata": {
        "id": "rwVZLZooKHxB"
      },
      "id": "rwVZLZooKHxB"
    },
    {
      "cell_type": "code",
      "source": [
        "repeated_character(\"abcdeda\")"
      ],
      "metadata": {
        "colab": {
          "base_uri": "https://localhost:8080/",
          "height": 35
        },
        "id": "EAGhXU51J7EW",
        "outputId": "2422e522-2f17-457d-cfe6-3c8ba22b4941"
      },
      "id": "EAGhXU51J7EW",
      "execution_count": 24,
      "outputs": [
        {
          "output_type": "execute_result",
          "data": {
            "text/plain": [
              "'d'"
            ],
            "application/vnd.google.colaboratory.intrinsic+json": {
              "type": "string"
            }
          },
          "metadata": {},
          "execution_count": 24
        }
      ]
    },
    {
      "cell_type": "code",
      "source": [
        "def repeated_character(s):\n",
        "    seen = set()\n",
        "    for c in s:\n",
        "        if c in seen:\n",
        "            return c\n",
        "        seen.add(c)\n",
        "    return \"\""
      ],
      "metadata": {
        "id": "wqfWJJu6K2eh"
      },
      "id": "wqfWJJu6K2eh",
      "execution_count": 25,
      "outputs": []
    },
    {
      "cell_type": "code",
      "source": [
        "repeated_character(\"abcdeda\")"
      ],
      "metadata": {
        "colab": {
          "base_uri": "https://localhost:8080/",
          "height": 35
        },
        "id": "8CZR4-YWLH59",
        "outputId": "8ae9597c-c4a8-402b-f8fd-8e4baa358a7b"
      },
      "id": "8CZR4-YWLH59",
      "execution_count": 26,
      "outputs": [
        {
          "output_type": "execute_result",
          "data": {
            "text/plain": [
              "'d'"
            ],
            "application/vnd.google.colaboratory.intrinsic+json": {
              "type": "string"
            }
          },
          "metadata": {},
          "execution_count": 26
        }
      ]
    },
    {
      "cell_type": "markdown",
      "source": [
        "This algorithm has a time complexity of $O(n)$ and a space complexity of $O(1)$. The latter is because the input can only have characters from the English alphabet, which is bounded by a constant (26)."
      ],
      "metadata": {
        "id": "pU1zvb0jLhzj"
      },
      "id": "pU1zvb0jLhzj"
    },
    {
      "cell_type": "markdown",
      "source": [
        "### Example 3"
      ],
      "metadata": {
        "id": "uWr1_aEcL4Ap"
      },
      "id": "uWr1_aEcL4Ap"
    },
    {
      "cell_type": "code",
      "source": [
        "def find_numbers(nums):\n",
        "    ans = []\n",
        "    nums = set(nums) # Preprocessing; costs O(n).\n",
        "    for num in nums:\n",
        "        if (num + 1 not in nums) and (num - 1 not in nums): # These checks will cost O(1) each.\n",
        "            ans.append(num)\n",
        "    return ans"
      ],
      "metadata": {
        "id": "im_Rxnl-L5XW"
      },
      "id": "im_Rxnl-L5XW",
      "execution_count": 27,
      "outputs": []
    },
    {
      "cell_type": "markdown",
      "source": [
        "This algorithm has a time complexity of $O(n)$ and a space complexity of $O(n)$."
      ],
      "metadata": {
        "id": "PUJk4YjNNNM5"
      },
      "id": "PUJk4YjNNNM5"
    },
    {
      "cell_type": "code",
      "source": [
        "find_numbers([1, 3, 4, 6])"
      ],
      "metadata": {
        "colab": {
          "base_uri": "https://localhost:8080/"
        },
        "id": "lcU0I5-cM3k6",
        "outputId": "8220f5eb-8549-4c40-ece4-35064ea46cc7"
      },
      "id": "lcU0I5-cM3k6",
      "execution_count": 28,
      "outputs": [
        {
          "output_type": "execute_result",
          "data": {
            "text/plain": [
              "[1, 6]"
            ]
          },
          "metadata": {},
          "execution_count": 28
        }
      ]
    },
    {
      "cell_type": "code",
      "source": [
        "find_numbers([1, 2, 3, 4])"
      ],
      "metadata": {
        "colab": {
          "base_uri": "https://localhost:8080/"
        },
        "id": "My-NuqLmNIJG",
        "outputId": "d0aacb13-5710-42dc-9404-ad9c567ace36"
      },
      "id": "My-NuqLmNIJG",
      "execution_count": 29,
      "outputs": [
        {
          "output_type": "execute_result",
          "data": {
            "text/plain": [
              "[]"
            ]
          },
          "metadata": {},
          "execution_count": 29
        }
      ]
    },
    {
      "cell_type": "markdown",
      "source": [
        "## Counting"
      ],
      "metadata": {
        "id": "iDxxm6upuG3Y"
      },
      "id": "iDxxm6upuG3Y"
    },
    {
      "cell_type": "markdown",
      "source": [
        "## More hashing examples"
      ],
      "metadata": {
        "id": "_a2iCy-duK7C"
      },
      "id": "_a2iCy-duK7C"
    },
    {
      "cell_type": "markdown",
      "source": [
        "## Hashing quiz"
      ],
      "metadata": {
        "id": "eo_5kM4GuUZe"
      },
      "id": "eo_5kM4GuUZe"
    },
    {
      "cell_type": "markdown",
      "source": [
        "## Bonus problems, hashing"
      ],
      "metadata": {
        "id": "779oHjD0uXG0"
      },
      "id": "779oHjD0uXG0"
    },
    {
      "cell_type": "code",
      "execution_count": 29,
      "id": "bfc14b46-f7b4-479e-b32c-47269c26aaef",
      "metadata": {
        "id": "bfc14b46-f7b4-479e-b32c-47269c26aaef"
      },
      "outputs": [],
      "source": []
    }
  ],
  "metadata": {
    "kernelspec": {
      "display_name": "Python 3 (ipykernel)",
      "language": "python",
      "name": "python3"
    },
    "language_info": {
      "codemirror_mode": {
        "name": "ipython",
        "version": 3
      },
      "file_extension": ".py",
      "mimetype": "text/x-python",
      "name": "python",
      "nbconvert_exporter": "python",
      "pygments_lexer": "ipython3",
      "version": "3.11.5"
    },
    "colab": {
      "provenance": []
    }
  },
  "nbformat": 4,
  "nbformat_minor": 5
}