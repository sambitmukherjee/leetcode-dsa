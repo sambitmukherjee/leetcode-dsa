{
  "cells": [
    {
      "cell_type": "markdown",
      "source": [
        "# Hashing"
      ],
      "metadata": {
        "id": "t_geHzlCtxuB"
      },
      "id": "t_geHzlCtxuB"
    },
    {
      "cell_type": "code",
      "source": [
        "hash_map = {}"
      ],
      "metadata": {
        "id": "xfRWA5L9gna4"
      },
      "id": "xfRWA5L9gna4",
      "execution_count": 1,
      "outputs": []
    },
    {
      "cell_type": "code",
      "source": [
        "hash_map = {1: 2, 5: 3, 7: 2}"
      ],
      "metadata": {
        "id": "9Xm5pl7JgqhT"
      },
      "id": "9Xm5pl7JgqhT",
      "execution_count": 2,
      "outputs": []
    },
    {
      "cell_type": "code",
      "source": [
        "1 in hash_map"
      ],
      "metadata": {
        "colab": {
          "base_uri": "https://localhost:8080/"
        },
        "id": "_cirO6LWgzVM",
        "outputId": "d36441be-9416-4695-fb71-162927cd5bc4"
      },
      "id": "_cirO6LWgzVM",
      "execution_count": 3,
      "outputs": [
        {
          "output_type": "execute_result",
          "data": {
            "text/plain": [
              "True"
            ]
          },
          "metadata": {},
          "execution_count": 3
        }
      ]
    },
    {
      "cell_type": "code",
      "source": [
        "9 in hash_map"
      ],
      "metadata": {
        "colab": {
          "base_uri": "https://localhost:8080/"
        },
        "id": "4498VTbWg3Wq",
        "outputId": "2d30598f-5f7c-46fd-f05c-c459b0e97ba3"
      },
      "id": "4498VTbWg3Wq",
      "execution_count": 5,
      "outputs": [
        {
          "output_type": "execute_result",
          "data": {
            "text/plain": [
              "False"
            ]
          },
          "metadata": {},
          "execution_count": 5
        }
      ]
    },
    {
      "cell_type": "code",
      "source": [
        "hash_map[5]"
      ],
      "metadata": {
        "colab": {
          "base_uri": "https://localhost:8080/"
        },
        "id": "ax-tfTOfg76I",
        "outputId": "510fdf91-bc67-40b3-f6b9-bb4639b4d9b5"
      },
      "id": "ax-tfTOfg76I",
      "execution_count": 6,
      "outputs": [
        {
          "output_type": "execute_result",
          "data": {
            "text/plain": [
              "3"
            ]
          },
          "metadata": {},
          "execution_count": 6
        }
      ]
    },
    {
      "cell_type": "code",
      "source": [
        "hash_map[5] = 6\n",
        "hash_map"
      ],
      "metadata": {
        "colab": {
          "base_uri": "https://localhost:8080/"
        },
        "id": "H9cIZdUBhD6o",
        "outputId": "3ba0d732-f3ee-43d6-d929-0e1e6e7647ae"
      },
      "id": "H9cIZdUBhD6o",
      "execution_count": 7,
      "outputs": [
        {
          "output_type": "execute_result",
          "data": {
            "text/plain": [
              "{1: 2, 5: 6, 7: 2}"
            ]
          },
          "metadata": {},
          "execution_count": 7
        }
      ]
    },
    {
      "cell_type": "code",
      "source": [
        "hash_map[9] = 15\n",
        "hash_map"
      ],
      "metadata": {
        "colab": {
          "base_uri": "https://localhost:8080/"
        },
        "id": "3jEpeWFjhJ7w",
        "outputId": "b08f9962-6b70-49ef-ab36-d452426adbf5"
      },
      "id": "3jEpeWFjhJ7w",
      "execution_count": 8,
      "outputs": [
        {
          "output_type": "execute_result",
          "data": {
            "text/plain": [
              "{1: 2, 5: 6, 7: 2, 9: 15}"
            ]
          },
          "metadata": {},
          "execution_count": 8
        }
      ]
    },
    {
      "cell_type": "code",
      "source": [
        "del hash_map[9]\n",
        "hash_map"
      ],
      "metadata": {
        "colab": {
          "base_uri": "https://localhost:8080/"
        },
        "id": "TEaE4SDchPmS",
        "outputId": "9096620b-afcc-4482-f9a1-eb683bffe788"
      },
      "id": "TEaE4SDchPmS",
      "execution_count": 9,
      "outputs": [
        {
          "output_type": "execute_result",
          "data": {
            "text/plain": [
              "{1: 2, 5: 6, 7: 2}"
            ]
          },
          "metadata": {},
          "execution_count": 9
        }
      ]
    },
    {
      "cell_type": "code",
      "source": [
        "len(hash_map)"
      ],
      "metadata": {
        "colab": {
          "base_uri": "https://localhost:8080/"
        },
        "id": "IsjqSzYChUtA",
        "outputId": "3e99ad0a-980b-4230-c6b3-e78586801d30"
      },
      "id": "IsjqSzYChUtA",
      "execution_count": 10,
      "outputs": [
        {
          "output_type": "execute_result",
          "data": {
            "text/plain": [
              "3"
            ]
          },
          "metadata": {},
          "execution_count": 10
        }
      ]
    },
    {
      "cell_type": "code",
      "source": [
        "keys = hash_map.keys()\n",
        "keys"
      ],
      "metadata": {
        "colab": {
          "base_uri": "https://localhost:8080/"
        },
        "id": "g2kK50c8hYIA",
        "outputId": "103106eb-441c-4286-9d6e-ba0b2a1138bf"
      },
      "id": "g2kK50c8hYIA",
      "execution_count": 11,
      "outputs": [
        {
          "output_type": "execute_result",
          "data": {
            "text/plain": [
              "dict_keys([1, 5, 7])"
            ]
          },
          "metadata": {},
          "execution_count": 11
        }
      ]
    },
    {
      "cell_type": "code",
      "source": [
        "for key in keys:\n",
        "    print(key)"
      ],
      "metadata": {
        "colab": {
          "base_uri": "https://localhost:8080/"
        },
        "id": "e4ZmYR9Rhf0p",
        "outputId": "db5065cb-d1ce-4519-c751-2abce8ea9be3"
      },
      "id": "e4ZmYR9Rhf0p",
      "execution_count": 12,
      "outputs": [
        {
          "output_type": "stream",
          "name": "stdout",
          "text": [
            "1\n",
            "5\n",
            "7\n"
          ]
        }
      ]
    },
    {
      "cell_type": "code",
      "source": [
        "values = hash_map.values()\n",
        "values"
      ],
      "metadata": {
        "colab": {
          "base_uri": "https://localhost:8080/"
        },
        "id": "Iv_mFXkfhibV",
        "outputId": "6c38663a-63ff-49b8-ccfb-26e0d8012ae0"
      },
      "id": "Iv_mFXkfhibV",
      "execution_count": 13,
      "outputs": [
        {
          "output_type": "execute_result",
          "data": {
            "text/plain": [
              "dict_values([2, 6, 2])"
            ]
          },
          "metadata": {},
          "execution_count": 13
        }
      ]
    },
    {
      "cell_type": "code",
      "source": [
        "for val in values:\n",
        "    print(val)"
      ],
      "metadata": {
        "colab": {
          "base_uri": "https://localhost:8080/"
        },
        "id": "9pmHD4VDhnb4",
        "outputId": "042bced7-3b60-441f-f6b1-ec8b96c3537a"
      },
      "id": "9pmHD4VDhnb4",
      "execution_count": 14,
      "outputs": [
        {
          "output_type": "stream",
          "name": "stdout",
          "text": [
            "2\n",
            "6\n",
            "2\n"
          ]
        }
      ]
    },
    {
      "cell_type": "code",
      "source": [
        "my_hash_map = {}\n",
        "my_hash_map[4] = 83\n",
        "my_hash_map"
      ],
      "metadata": {
        "colab": {
          "base_uri": "https://localhost:8080/"
        },
        "id": "WvRoKmtphqOq",
        "outputId": "b5568616-908d-4fbf-ac17-7f6c04fe733f"
      },
      "id": "WvRoKmtphqOq",
      "execution_count": 15,
      "outputs": [
        {
          "output_type": "execute_result",
          "data": {
            "text/plain": [
              "{4: 83}"
            ]
          },
          "metadata": {},
          "execution_count": 15
        }
      ]
    },
    {
      "cell_type": "code",
      "source": [
        "4 in my_hash_map"
      ],
      "metadata": {
        "colab": {
          "base_uri": "https://localhost:8080/"
        },
        "id": "sH2cSMzfh1Al",
        "outputId": "ea428754-e26f-42cf-cc0c-c13a05c36751"
      },
      "id": "sH2cSMzfh1Al",
      "execution_count": 16,
      "outputs": [
        {
          "output_type": "execute_result",
          "data": {
            "text/plain": [
              "True"
            ]
          },
          "metadata": {},
          "execution_count": 16
        }
      ]
    },
    {
      "cell_type": "code",
      "source": [
        "854 in my_hash_map"
      ],
      "metadata": {
        "colab": {
          "base_uri": "https://localhost:8080/"
        },
        "id": "PNJoV43ih4oW",
        "outputId": "33f8c4c9-a8aa-4aef-e801-640845a3dd3d"
      },
      "id": "PNJoV43ih4oW",
      "execution_count": 17,
      "outputs": [
        {
          "output_type": "execute_result",
          "data": {
            "text/plain": [
              "False"
            ]
          },
          "metadata": {},
          "execution_count": 17
        }
      ]
    },
    {
      "cell_type": "code",
      "source": [
        "my_hash_map[8] = 327\n",
        "my_hash_map[45] = 82523\n",
        "my_hash_map"
      ],
      "metadata": {
        "colab": {
          "base_uri": "https://localhost:8080/"
        },
        "id": "fr-eQVJih7yv",
        "outputId": "42f1196e-850c-4d9a-acb1-89ab5e75f558"
      },
      "id": "fr-eQVJih7yv",
      "execution_count": 18,
      "outputs": [
        {
          "output_type": "execute_result",
          "data": {
            "text/plain": [
              "{4: 83, 8: 327, 45: 82523}"
            ]
          },
          "metadata": {},
          "execution_count": 18
        }
      ]
    },
    {
      "cell_type": "code",
      "source": [
        "my_hash_map.items()"
      ],
      "metadata": {
        "colab": {
          "base_uri": "https://localhost:8080/"
        },
        "id": "ay-OdZg5iEEi",
        "outputId": "9b1693e9-2ae3-4374-e8ad-c32cf53b8935"
      },
      "id": "ay-OdZg5iEEi",
      "execution_count": 19,
      "outputs": [
        {
          "output_type": "execute_result",
          "data": {
            "text/plain": [
              "dict_items([(4, 83), (8, 327), (45, 82523)])"
            ]
          },
          "metadata": {},
          "execution_count": 19
        }
      ]
    },
    {
      "cell_type": "code",
      "source": [
        "for key, val in my_hash_map.items():\n",
        "    print(f\"{key}: {val}\")"
      ],
      "metadata": {
        "colab": {
          "base_uri": "https://localhost:8080/"
        },
        "id": "49XzeMEciIaB",
        "outputId": "88dc8794-f7b2-48e8-cc12-c4b034365573"
      },
      "id": "49XzeMEciIaB",
      "execution_count": 20,
      "outputs": [
        {
          "output_type": "stream",
          "name": "stdout",
          "text": [
            "4: 83\n",
            "8: 327\n",
            "45: 82523\n"
          ]
        }
      ]
    },
    {
      "cell_type": "markdown",
      "source": [
        "## Checking for existence"
      ],
      "metadata": {
        "id": "vAKCI8cRt_2F"
      },
      "id": "vAKCI8cRt_2F"
    },
    {
      "cell_type": "markdown",
      "source": [
        "## Counting"
      ],
      "metadata": {
        "id": "iDxxm6upuG3Y"
      },
      "id": "iDxxm6upuG3Y"
    },
    {
      "cell_type": "markdown",
      "source": [
        "## More hashing examples"
      ],
      "metadata": {
        "id": "_a2iCy-duK7C"
      },
      "id": "_a2iCy-duK7C"
    },
    {
      "cell_type": "markdown",
      "source": [
        "## Hashing quiz"
      ],
      "metadata": {
        "id": "eo_5kM4GuUZe"
      },
      "id": "eo_5kM4GuUZe"
    },
    {
      "cell_type": "markdown",
      "source": [
        "## Bonus problems, hashing"
      ],
      "metadata": {
        "id": "779oHjD0uXG0"
      },
      "id": "779oHjD0uXG0"
    },
    {
      "cell_type": "code",
      "execution_count": null,
      "id": "bfc14b46-f7b4-479e-b32c-47269c26aaef",
      "metadata": {
        "id": "bfc14b46-f7b4-479e-b32c-47269c26aaef"
      },
      "outputs": [],
      "source": []
    }
  ],
  "metadata": {
    "kernelspec": {
      "display_name": "Python 3 (ipykernel)",
      "language": "python",
      "name": "python3"
    },
    "language_info": {
      "codemirror_mode": {
        "name": "ipython",
        "version": 3
      },
      "file_extension": ".py",
      "mimetype": "text/x-python",
      "name": "python",
      "nbconvert_exporter": "python",
      "pygments_lexer": "ipython3",
      "version": "3.11.5"
    },
    "colab": {
      "provenance": []
    }
  },
  "nbformat": 4,
  "nbformat_minor": 5
}